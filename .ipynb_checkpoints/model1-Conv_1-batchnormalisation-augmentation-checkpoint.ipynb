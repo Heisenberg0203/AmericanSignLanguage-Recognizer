{
 "cells": [
  {
   "cell_type": "code",
   "execution_count": 1,
   "metadata": {},
   "outputs": [
    {
     "name": "stderr",
     "output_type": "stream",
     "text": [
      "Using TensorFlow backend.\n"
     ]
    }
   ],
   "source": [
    "import tensorflow as tf\n",
    "import keras\n",
    "from keras.callbacks import *\n",
    "import numpy as np\n",
    "import pandas as pd\n",
    "import matplotlib.pyplot as plt\n",
    "from keras.models import Sequential\n",
    "from keras.layers import *"
   ]
  },
  {
   "cell_type": "code",
   "execution_count": 2,
   "metadata": {},
   "outputs": [],
   "source": [
    "traindata = pd.read_csv('sign_mnist_train.csv')"
   ]
  },
  {
   "cell_type": "code",
   "execution_count": 3,
   "metadata": {},
   "outputs": [],
   "source": [
    "trainlabel=traindata['label'].values"
   ]
  },
  {
   "cell_type": "code",
   "execution_count": 4,
   "metadata": {},
   "outputs": [],
   "source": [
    "traindata.drop('label',inplace=True,axis=1)\n",
    "trainimages = traindata.values"
   ]
  },
  {
   "cell_type": "code",
   "execution_count": 5,
   "metadata": {},
   "outputs": [],
   "source": [
    "trainimages=trainimages.reshape(-1,28,28,1)"
   ]
  },
  {
   "cell_type": "code",
   "execution_count": 6,
   "metadata": {},
   "outputs": [],
   "source": [
    "testdata = pd.read_csv('sign_mnist_test.csv')"
   ]
  },
  {
   "cell_type": "code",
   "execution_count": 7,
   "metadata": {},
   "outputs": [],
   "source": [
    "testlabel=testdata['label'].values"
   ]
  },
  {
   "cell_type": "code",
   "execution_count": 8,
   "metadata": {},
   "outputs": [],
   "source": [
    "testdata.drop('label',inplace=True,axis=1)\n",
    "testimages = testdata.values"
   ]
  },
  {
   "cell_type": "code",
   "execution_count": 9,
   "metadata": {},
   "outputs": [],
   "source": [
    "testimages=testimages.reshape(-1,28,28,1)"
   ]
  },
  {
   "cell_type": "code",
   "execution_count": 10,
   "metadata": {},
   "outputs": [],
   "source": [
    "from keras.preprocessing.image import ImageDataGenerator"
   ]
  },
  {
   "cell_type": "code",
   "execution_count": 11,
   "metadata": {},
   "outputs": [],
   "source": [
    "traingen=ImageDataGenerator(rotation_range=40,zoom_range=0.1,width_shift_range=0.1,height_shift_range=0.1,\n",
    "                  shear_range=0.1,horizontal_flip=True,rescale=1/255.0,validation_split=0.1)"
   ]
  },
  {
   "cell_type": "code",
   "execution_count": 12,
   "metadata": {},
   "outputs": [],
   "source": [
    "traindata_generator = traingen.flow(trainimages,trainlabel,subset='training')\n",
    "validationdata_generator = traingen.flow(trainimages,trainlabel,subset='validation')"
   ]
  },
  {
   "cell_type": "code",
   "execution_count": 13,
   "metadata": {},
   "outputs": [],
   "source": [
    "testgen=ImageDataGenerator(rescale=1/255.0)\n",
    "testdata_generator = testgen.flow(testimages,testlabel)"
   ]
  },
  {
   "cell_type": "code",
   "execution_count": 23,
   "metadata": {},
   "outputs": [],
   "source": [
    "model=Sequential([])\n",
    "\n",
    "model.add(Conv2D(64,(3,3),activation=\"relu\",input_shape=(28,28,1)))\n",
    "model.add(BatchNormalization())\n",
    "# model.add(Conv2D(64,(3,3),activation=\"relu\"))\n",
    "# model.add(BatchNormalization())\n",
    "model.add(MaxPooling2D(2,2))\n",
    "#model.add(Dropout(0.4))\n",
    "\n",
    "model.add(Conv2D(128,(3,3),activation=\"relu\"))\n",
    "model.add(BatchNormalization())\n",
    "# model.add(Conv2D(128,(3,3),activation=\"relu\"))\n",
    "# model.add(BatchNormalization())\n",
    "model.add(MaxPooling2D(2,2))\n",
    "#model.add(Dropout(0.4))\n",
    "\n",
    "model.add(Flatten())\n",
    "model.add(BatchNormalization())\n",
    "#model.add(Dropout(0.4))\n",
    "model.add(Dense(256,activation=\"relu\"))\n",
    "model.add(BatchNormalization())\n",
    "#model.add(Dropout(0.4))\n",
    "model.add(Dense(26,activation=\"softmax\"))\n"
   ]
  },
  {
   "cell_type": "code",
   "execution_count": 24,
   "metadata": {},
   "outputs": [],
   "source": [
    "model.compile(loss=\"sparse_categorical_crossentropy\",optimizer='adam',metrics=['accuracy'])"
   ]
  },
  {
   "cell_type": "code",
   "execution_count": 25,
   "metadata": {},
   "outputs": [
    {
     "name": "stdout",
     "output_type": "stream",
     "text": [
      "Model: \"sequential_2\"\n",
      "_________________________________________________________________\n",
      "Layer (type)                 Output Shape              Param #   \n",
      "=================================================================\n",
      "conv2d_3 (Conv2D)            (None, 26, 26, 64)        640       \n",
      "_________________________________________________________________\n",
      "batch_normalization_5 (Batch (None, 26, 26, 64)        256       \n",
      "_________________________________________________________________\n",
      "max_pooling2d_3 (MaxPooling2 (None, 13, 13, 64)        0         \n",
      "_________________________________________________________________\n",
      "conv2d_4 (Conv2D)            (None, 11, 11, 128)       73856     \n",
      "_________________________________________________________________\n",
      "batch_normalization_6 (Batch (None, 11, 11, 128)       512       \n",
      "_________________________________________________________________\n",
      "max_pooling2d_4 (MaxPooling2 (None, 5, 5, 128)         0         \n",
      "_________________________________________________________________\n",
      "flatten_2 (Flatten)          (None, 3200)              0         \n",
      "_________________________________________________________________\n",
      "batch_normalization_7 (Batch (None, 3200)              12800     \n",
      "_________________________________________________________________\n",
      "dense_3 (Dense)              (None, 256)               819456    \n",
      "_________________________________________________________________\n",
      "batch_normalization_8 (Batch (None, 256)               1024      \n",
      "_________________________________________________________________\n",
      "dense_4 (Dense)              (None, 26)                6682      \n",
      "=================================================================\n",
      "Total params: 915,226\n",
      "Trainable params: 907,930\n",
      "Non-trainable params: 7,296\n",
      "_________________________________________________________________\n"
     ]
    }
   ],
   "source": [
    "model.summary()"
   ]
  },
  {
   "cell_type": "code",
   "execution_count": 26,
   "metadata": {},
   "outputs": [],
   "source": [
    "# Define a Callback class that stops training once accuracy reaches 97.0%\n",
    "class myCallback(Callback):\n",
    "  def on_epoch_end(self, epoch, logs={}):\n",
    "    if(logs.get('val_accuracy')>0.995):\n",
    "      print(\"\\nReached 99.5% accuracy so cancelling training!\")\n",
    "      self.model.stop_training = True\n",
    "callback=myCallback()"
   ]
  },
  {
   "cell_type": "code",
   "execution_count": 27,
   "metadata": {},
   "outputs": [
    {
     "name": "stdout",
     "output_type": "stream",
     "text": [
      "Epoch 1/60\n",
      "773/773 [==============================] - 9s 11ms/step - loss: 1.2847 - accuracy: 0.5999 - val_loss: 1.8255 - val_accuracy: 0.6098\n",
      "Epoch 2/60\n",
      "773/773 [==============================] - 8s 10ms/step - loss: 0.4966 - accuracy: 0.8390 - val_loss: 0.7818 - val_accuracy: 0.7166\n",
      "Epoch 3/60\n",
      "773/773 [==============================] - 8s 10ms/step - loss: 0.3288 - accuracy: 0.8934 - val_loss: 0.6771 - val_accuracy: 0.8149\n",
      "Epoch 4/60\n",
      "773/773 [==============================] - 9s 11ms/step - loss: 0.2607 - accuracy: 0.9140 - val_loss: 0.5003 - val_accuracy: 0.8273\n",
      "Epoch 5/60\n",
      "773/773 [==============================] - 8s 10ms/step - loss: 0.2205 - accuracy: 0.9287 - val_loss: 0.6071 - val_accuracy: 0.8485\n",
      "Epoch 6/60\n",
      "773/773 [==============================] - 8s 10ms/step - loss: 0.1870 - accuracy: 0.9409 - val_loss: 0.4184 - val_accuracy: 0.8204\n",
      "Epoch 7/60\n",
      "773/773 [==============================] - 9s 11ms/step - loss: 0.1661 - accuracy: 0.9466 - val_loss: 3.3362 - val_accuracy: 0.7144\n",
      "Epoch 8/60\n",
      "773/773 [==============================] - 8s 10ms/step - loss: 0.1437 - accuracy: 0.9512 - val_loss: 0.7521 - val_accuracy: 0.8135\n",
      "Epoch 9/60\n",
      "773/773 [==============================] - 8s 10ms/step - loss: 0.1661 - accuracy: 0.9442 - val_loss: 1.9637 - val_accuracy: 0.7399\n",
      "Epoch 10/60\n",
      "773/773 [==============================] - 8s 10ms/step - loss: 0.1331 - accuracy: 0.9558 - val_loss: 0.3046 - val_accuracy: 0.9199\n",
      "Epoch 11/60\n",
      "773/773 [==============================] - 8s 10ms/step - loss: 0.1123 - accuracy: 0.9632 - val_loss: 154.5653 - val_accuracy: 0.0648\n",
      "Epoch 12/60\n",
      "773/773 [==============================] - 9s 11ms/step - loss: 0.1243 - accuracy: 0.9596 - val_loss: 0.0240 - val_accuracy: 0.9621\n",
      "Epoch 13/60\n",
      "773/773 [==============================] - 8s 10ms/step - loss: 0.1063 - accuracy: 0.9653 - val_loss: 0.1127 - val_accuracy: 0.9199\n",
      "Epoch 14/60\n",
      "773/773 [==============================] - 8s 10ms/step - loss: 0.1006 - accuracy: 0.9658 - val_loss: 1.7908 - val_accuracy: 0.9614\n",
      "Epoch 15/60\n",
      "773/773 [==============================] - 8s 10ms/step - loss: 0.0998 - accuracy: 0.9660 - val_loss: 0.1100 - val_accuracy: 0.9741\n",
      "Epoch 16/60\n",
      "773/773 [==============================] - 8s 11ms/step - loss: 0.0895 - accuracy: 0.9699 - val_loss: 0.5922 - val_accuracy: 0.8634\n",
      "Epoch 17/60\n",
      "773/773 [==============================] - 8s 10ms/step - loss: 0.1025 - accuracy: 0.9673 - val_loss: 0.1131 - val_accuracy: 0.8638\n",
      "Epoch 18/60\n",
      "773/773 [==============================] - 8s 10ms/step - loss: 0.0901 - accuracy: 0.9696 - val_loss: 0.0699 - val_accuracy: 0.9563\n",
      "Epoch 19/60\n",
      "773/773 [==============================] - 8s 10ms/step - loss: 0.0832 - accuracy: 0.9725 - val_loss: 71.3070 - val_accuracy: 0.1607\n",
      "Epoch 20/60\n",
      "773/773 [==============================] - 8s 10ms/step - loss: 0.0840 - accuracy: 0.9725 - val_loss: 0.1330 - val_accuracy: 0.9741\n",
      "Epoch 21/60\n",
      "773/773 [==============================] - 8s 10ms/step - loss: 0.0797 - accuracy: 0.9736 - val_loss: 77.2878 - val_accuracy: 0.1705\n",
      "Epoch 22/60\n",
      "773/773 [==============================] - 8s 11ms/step - loss: 0.0853 - accuracy: 0.9718 - val_loss: 0.2152 - val_accuracy: 0.9770\n",
      "Epoch 23/60\n",
      "773/773 [==============================] - 8s 10ms/step - loss: 0.0728 - accuracy: 0.9757 - val_loss: 0.0098 - val_accuracy: 0.9683\n",
      "Epoch 24/60\n",
      "773/773 [==============================] - 8s 11ms/step - loss: 0.0671 - accuracy: 0.9781 - val_loss: 11.6072 - val_accuracy: 0.7228\n",
      "Epoch 25/60\n",
      "773/773 [==============================] - 8s 10ms/step - loss: 0.0757 - accuracy: 0.9756 - val_loss: 0.1040 - val_accuracy: 0.9413\n",
      "Epoch 26/60\n",
      "773/773 [==============================] - 8s 10ms/step - loss: 0.0638 - accuracy: 0.9785 - val_loss: 1.2606 - val_accuracy: 0.7202\n",
      "Epoch 27/60\n",
      "773/773 [==============================] - 8s 10ms/step - loss: 0.0731 - accuracy: 0.9766 - val_loss: 0.0562 - val_accuracy: 0.9807\n",
      "Epoch 28/60\n",
      "773/773 [==============================] - 8s 10ms/step - loss: 0.0671 - accuracy: 0.9771 - val_loss: 0.5320 - val_accuracy: 0.9344\n",
      "Epoch 29/60\n",
      "773/773 [==============================] - 8s 10ms/step - loss: 0.0581 - accuracy: 0.9805 - val_loss: 2.1538 - val_accuracy: 0.8182\n",
      "Epoch 30/60\n",
      "773/773 [==============================] - 8s 10ms/step - loss: 0.0623 - accuracy: 0.9787 - val_loss: 0.1125 - val_accuracy: 0.9158\n",
      "Epoch 31/60\n",
      "773/773 [==============================] - 8s 10ms/step - loss: 0.0706 - accuracy: 0.9773 - val_loss: 0.0902 - val_accuracy: 0.9730\n",
      "Epoch 32/60\n",
      "773/773 [==============================] - 8s 10ms/step - loss: 0.0568 - accuracy: 0.9817 - val_loss: 0.0012 - val_accuracy: 0.9865\n",
      "Epoch 33/60\n",
      "773/773 [==============================] - 8s 10ms/step - loss: 0.0634 - accuracy: 0.9810 - val_loss: 0.0278 - val_accuracy: 0.9650\n",
      "Epoch 34/60\n",
      "773/773 [==============================] - 8s 11ms/step - loss: 0.0517 - accuracy: 0.9840 - val_loss: 14.4931 - val_accuracy: 0.4838\n",
      "Epoch 35/60\n",
      "773/773 [==============================] - 8s 11ms/step - loss: 0.0567 - accuracy: 0.9828 - val_loss: 157.0176 - val_accuracy: 0.0721\n",
      "Epoch 36/60\n",
      "773/773 [==============================] - 8s 11ms/step - loss: 0.0731 - accuracy: 0.9769 - val_loss: 0.0183 - val_accuracy: 0.9880\n",
      "Epoch 37/60\n",
      "773/773 [==============================] - 8s 11ms/step - loss: 0.0427 - accuracy: 0.9848 - val_loss: 0.0088 - val_accuracy: 0.9770\n",
      "Epoch 38/60\n",
      "773/773 [==============================] - 8s 10ms/step - loss: 0.0493 - accuracy: 0.9837 - val_loss: 0.1569 - val_accuracy: 0.9184\n",
      "Epoch 39/60\n",
      "773/773 [==============================] - 8s 10ms/step - loss: 0.0555 - accuracy: 0.9815 - val_loss: 0.0364 - val_accuracy: 0.9515\n",
      "Epoch 40/60\n",
      "773/773 [==============================] - 9s 11ms/step - loss: 0.0552 - accuracy: 0.9830 - val_loss: 0.1180 - val_accuracy: 0.9297\n",
      "Epoch 41/60\n",
      "773/773 [==============================] - 8s 10ms/step - loss: 0.0399 - accuracy: 0.9864 - val_loss: 4.4171 - val_accuracy: 0.6871\n",
      "Epoch 42/60\n",
      "773/773 [==============================] - 8s 10ms/step - loss: 0.0528 - accuracy: 0.9828 - val_loss: 0.0018 - val_accuracy: 0.9709\n",
      "Epoch 43/60\n",
      "773/773 [==============================] - 8s 10ms/step - loss: 0.0606 - accuracy: 0.9805 - val_loss: 0.0041 - val_accuracy: 0.9359\n",
      "Epoch 44/60\n",
      "773/773 [==============================] - 8s 10ms/step - loss: 0.0497 - accuracy: 0.9829 - val_loss: 0.4110 - val_accuracy: 0.9304\n",
      "Epoch 45/60\n",
      "773/773 [==============================] - 8s 10ms/step - loss: 0.0456 - accuracy: 0.9846 - val_loss: 0.0505 - val_accuracy: 0.9741\n",
      "Epoch 46/60\n",
      "773/773 [==============================] - 8s 10ms/step - loss: 0.0416 - accuracy: 0.9856 - val_loss: 0.0424 - val_accuracy: 0.9625\n",
      "Epoch 47/60\n",
      "773/773 [==============================] - 8s 10ms/step - loss: 0.0393 - accuracy: 0.9872 - val_loss: 0.0259 - val_accuracy: 0.9508\n",
      "Epoch 48/60\n",
      "773/773 [==============================] - 9s 12ms/step - loss: 0.0406 - accuracy: 0.9864 - val_loss: 0.0137 - val_accuracy: 0.9862\n",
      "Epoch 49/60\n",
      "773/773 [==============================] - 8s 10ms/step - loss: 0.0468 - accuracy: 0.9845 - val_loss: 0.0441 - val_accuracy: 0.9836\n",
      "Epoch 50/60\n",
      "773/773 [==============================] - 8s 10ms/step - loss: 0.0364 - accuracy: 0.9873 - val_loss: 0.1408 - val_accuracy: 0.9279\n",
      "Epoch 51/60\n",
      "773/773 [==============================] - 8s 10ms/step - loss: 0.0397 - accuracy: 0.9868 - val_loss: 0.4303 - val_accuracy: 0.8153\n",
      "Epoch 52/60\n",
      "773/773 [==============================] - 8s 11ms/step - loss: 0.0399 - accuracy: 0.9858 - val_loss: 910.1866 - val_accuracy: 0.0189\n",
      "Epoch 53/60\n",
      "773/773 [==============================] - 8s 10ms/step - loss: 0.0412 - accuracy: 0.9861 - val_loss: 0.1814 - val_accuracy: 0.9749\n",
      "Epoch 54/60\n",
      "773/773 [==============================] - 8s 10ms/step - loss: 0.0363 - accuracy: 0.9884 - val_loss: 0.0468 - val_accuracy: 0.9650\n",
      "Epoch 55/60\n",
      "773/773 [==============================] - 8s 10ms/step - loss: 0.0347 - accuracy: 0.9888 - val_loss: 6.1029 - val_accuracy: 0.8230\n",
      "Epoch 56/60\n",
      "773/773 [==============================] - 8s 10ms/step - loss: 0.0394 - accuracy: 0.9876 - val_loss: 0.0032 - val_accuracy: 0.9905\n",
      "Epoch 57/60\n"
     ]
    },
    {
     "name": "stdout",
     "output_type": "stream",
     "text": [
      "773/773 [==============================] - 9s 12ms/step - loss: 0.0379 - accuracy: 0.9884 - val_loss: 0.0048 - val_accuracy: 0.9938\n",
      "Epoch 58/60\n",
      "773/773 [==============================] - 8s 11ms/step - loss: 0.0429 - accuracy: 0.9860 - val_loss: 0.5717 - val_accuracy: 0.8834\n",
      "Epoch 59/60\n",
      "773/773 [==============================] - 8s 10ms/step - loss: 0.0351 - accuracy: 0.9882 - val_loss: 0.7017 - val_accuracy: 0.8597\n",
      "Epoch 60/60\n",
      "773/773 [==============================] - 9s 12ms/step - loss: 0.0396 - accuracy: 0.9870 - val_loss: 0.0083 - val_accuracy: 0.9851\n"
     ]
    }
   ],
   "source": [
    "history=model.fit(traindata_generator,epochs=60,validation_data=validationdata_generator,callbacks=[callback])"
   ]
  },
  {
   "cell_type": "code",
   "execution_count": 28,
   "metadata": {},
   "outputs": [
    {
     "data": {
      "image/png": "[encoded data removed]",
      "text/plain": [
       "<Figure size 432x288 with 1 Axes>"
      ]
     },
     "metadata": {
      "needs_background": "light"
     },
     "output_type": "display_data"
    },
    {
     "data": {
      "image/png": "[encoded data removed]",
      "text/plain": [
       "<Figure size 432x288 with 1 Axes>"
      ]
     },
     "metadata": {
      "needs_background": "light"
     },
     "output_type": "display_data"
    }
   ],
   "source": [
    "acc = history.history['accuracy']\n",
    "val_acc = history.history['val_accuracy']\n",
    "loss = history.history['loss']\n",
    "val_loss = history.history['val_loss']\n",
    "\n",
    "epochs = range(len(acc))\n",
    "\n",
    "plt.plot(epochs, acc, 'r', label='Training accuracy')\n",
    "plt.plot(epochs, val_acc, 'b', label='Validation accuracy')\n",
    "plt.title('Training and validation accuracy')\n",
    "plt.legend()\n",
    "plt.figure()\n",
    "\n",
    "plt.plot(epochs, loss, 'r', label='Training Loss')\n",
    "plt.plot(epochs, val_loss, 'b', label='Validation Loss')\n",
    "plt.title('Training and validation loss')\n",
    "plt.legend()\n",
    "\n",
    "plt.show()"
   ]
  },
  {
   "cell_type": "code",
   "execution_count": 29,
   "metadata": {},
   "outputs": [
    {
     "name": "stdout",
     "output_type": "stream",
     "text": [
      "test accuracy: 99.51199293136597\n"
     ]
    }
   ],
   "source": [
    "print(\"test accuracy: \"+ str(model.evaluate_generator(testdata_generator)[1]*100))"
   ]
  },
  {
   "cell_type": "code",
   "execution_count": null,
   "metadata": {},
   "outputs": [],
   "source": []
  }
 ],
 "metadata": {
  "kernelspec": {
   "display_name": "Python 3",
   "language": "python",
   "name": "python3"
  },
  "language_info": {
   "codemirror_mode": {
    "name": "ipython",
    "version": 3
   },
   "file_extension": ".py",
   "mimetype": "text/x-python",
   "name": "python",
   "nbconvert_exporter": "python",
   "pygments_lexer": "ipython3",
   "version": "3.7.4"
  }
 },
 "nbformat": 4,
 "nbformat_minor": 2
}
