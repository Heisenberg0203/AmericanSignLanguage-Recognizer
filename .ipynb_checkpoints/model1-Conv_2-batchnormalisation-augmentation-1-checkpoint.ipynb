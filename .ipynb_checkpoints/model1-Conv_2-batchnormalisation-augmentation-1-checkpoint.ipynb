{
 "cells": [
  {
   "cell_type": "code",
   "execution_count": 1,
   "metadata": {},
   "outputs": [
    {
     "name": "stderr",
     "output_type": "stream",
     "text": [
      "Using TensorFlow backend.\n"
     ]
    }
   ],
   "source": [
    "import tensorflow as tf\n",
    "import keras\n",
    "from keras.callbacks import *\n",
    "import numpy as np\n",
    "import pandas as pd\n",
    "import matplotlib.pyplot as plt\n",
    "from keras.models import Sequential\n",
    "from keras.layers import *"
   ]
  },
  {
   "cell_type": "code",
   "execution_count": 2,
   "metadata": {},
   "outputs": [],
   "source": [
    "traindata = pd.read_csv('sign_mnist_train.csv')"
   ]
  },
  {
   "cell_type": "code",
   "execution_count": 3,
   "metadata": {},
   "outputs": [],
   "source": [
    "trainlabel=traindata['label'].values"
   ]
  },
  {
   "cell_type": "code",
   "execution_count": 4,
   "metadata": {},
   "outputs": [],
   "source": [
    "traindata.drop('label',inplace=True,axis=1)\n",
    "trainimages = traindata.values"
   ]
  },
  {
   "cell_type": "code",
   "execution_count": 5,
   "metadata": {},
   "outputs": [],
   "source": [
    "trainimages=trainimages.reshape(-1,28,28,1)"
   ]
  },
  {
   "cell_type": "code",
   "execution_count": 6,
   "metadata": {},
   "outputs": [],
   "source": [
    "testdata = pd.read_csv('sign_mnist_test.csv')"
   ]
  },
  {
   "cell_type": "code",
   "execution_count": 7,
   "metadata": {},
   "outputs": [],
   "source": [
    "testlabel=testdata['label'].values"
   ]
  },
  {
   "cell_type": "code",
   "execution_count": 8,
   "metadata": {},
   "outputs": [],
   "source": [
    "testdata.drop('label',inplace=True,axis=1)\n",
    "testimages = testdata.values"
   ]
  },
  {
   "cell_type": "code",
   "execution_count": 9,
   "metadata": {},
   "outputs": [],
   "source": [
    "testimages=testimages.reshape(-1,28,28,1)"
   ]
  },
  {
   "cell_type": "code",
   "execution_count": 10,
   "metadata": {},
   "outputs": [],
   "source": [
    "from keras.preprocessing.image import ImageDataGenerator"
   ]
  },
  {
   "cell_type": "code",
   "execution_count": 11,
   "metadata": {},
   "outputs": [],
   "source": [
    "traingen=ImageDataGenerator(rotation_range=40,zoom_range=0.2,width_shift_range=0.2,height_shift_range=0.2,\n",
    "                  shear_range=0.2,horizontal_flip=True,rescale=1/255.0,validation_split=0.2)"
   ]
  },
  {
   "cell_type": "code",
   "execution_count": 12,
   "metadata": {},
   "outputs": [],
   "source": [
    "traindata_generator = traingen.flow(trainimages,trainlabel,subset='training')\n",
    "validationdata_generator = traingen.flow(trainimages,trainlabel,subset='validation')"
   ]
  },
  {
   "cell_type": "code",
   "execution_count": 13,
   "metadata": {},
   "outputs": [],
   "source": [
    "testgen=ImageDataGenerator(rescale=1/255.0)\n",
    "testdata_generator = testgen.flow(testimages,testlabel)"
   ]
  },
  {
   "cell_type": "code",
   "execution_count": 19,
   "metadata": {},
   "outputs": [],
   "source": [
    "model=Sequential([])\n",
    "\n",
    "model.add(Conv2D(64,(3,3),activation=\"relu\",input_shape=(28,28,1)))\n",
    "model.add(BatchNormalization())\n",
    "# model.add(Conv2D(64,(3,3),activation=\"relu\"))\n",
    "# model.add(BatchNormalization())\n",
    "model.add(MaxPooling2D(2,2))\n",
    "#model.add(Dropout(0.4))\n",
    "\n",
    "model.add(Conv2D(128,(3,3),activation=\"relu\"))\n",
    "model.add(BatchNormalization())\n",
    "# model.add(Conv2D(128,(3,3),activation=\"relu\"))\n",
    "# model.add(BatchNormalization())\n",
    "model.add(MaxPooling2D(2,2))\n",
    "#model.add(Dropout(0.4))\n",
    "\n",
    "model.add(Flatten())\n",
    "model.add(BatchNormalization())\n",
    "#model.add(Dropout(0.4))\n",
    "model.add(Dense(256,activation=\"relu\"))\n",
    "model.add(BatchNormalization())\n",
    "#model.add(Dropout(0.4))\n",
    "model.add(Dense(26,activation=\"softmax\"))\n",
    "\n"
   ]
  },
  {
   "cell_type": "code",
   "execution_count": 20,
   "metadata": {},
   "outputs": [],
   "source": [
    "model.compile(loss=\"sparse_categorical_crossentropy\",optimizer='adam',metrics=['accuracy'])"
   ]
  },
  {
   "cell_type": "code",
   "execution_count": 21,
   "metadata": {},
   "outputs": [
    {
     "name": "stdout",
     "output_type": "stream",
     "text": [
      "Model: \"sequential_2\"\n",
      "_________________________________________________________________\n",
      "Layer (type)                 Output Shape              Param #   \n",
      "=================================================================\n",
      "conv2d_3 (Conv2D)            (None, 26, 26, 64)        640       \n",
      "_________________________________________________________________\n",
      "batch_normalization_5 (Batch (None, 26, 26, 64)        256       \n",
      "_________________________________________________________________\n",
      "max_pooling2d_3 (MaxPooling2 (None, 13, 13, 64)        0         \n",
      "_________________________________________________________________\n",
      "conv2d_4 (Conv2D)            (None, 11, 11, 128)       73856     \n",
      "_________________________________________________________________\n",
      "batch_normalization_6 (Batch (None, 11, 11, 128)       512       \n",
      "_________________________________________________________________\n",
      "max_pooling2d_4 (MaxPooling2 (None, 5, 5, 128)         0         \n",
      "_________________________________________________________________\n",
      "flatten_2 (Flatten)          (None, 3200)              0         \n",
      "_________________________________________________________________\n",
      "batch_normalization_7 (Batch (None, 3200)              12800     \n",
      "_________________________________________________________________\n",
      "dense_3 (Dense)              (None, 256)               819456    \n",
      "_________________________________________________________________\n",
      "batch_normalization_8 (Batch (None, 256)               1024      \n",
      "_________________________________________________________________\n",
      "dense_4 (Dense)              (None, 26)                6682      \n",
      "=================================================================\n",
      "Total params: 915,226\n",
      "Trainable params: 907,930\n",
      "Non-trainable params: 7,296\n",
      "_________________________________________________________________\n"
     ]
    }
   ],
   "source": [
    "model.summary()"
   ]
  },
  {
   "cell_type": "code",
   "execution_count": 22,
   "metadata": {},
   "outputs": [],
   "source": [
    "# Define a Callback class that stops training once accuracy reaches 97.0%\n",
    "class myCallback(Callback):\n",
    "  def on_epoch_end(self, epoch, logs={}):\n",
    "    if(logs.get('accuracy')>0.985):\n",
    "      print(\"\\nReached 98.5% accuracy so cancelling training!\")\n",
    "      self.model.stop_training = True\n",
    "callback=myCallback()"
   ]
  },
  {
   "cell_type": "code",
   "execution_count": 23,
   "metadata": {},
   "outputs": [
    {
     "name": "stdout",
     "output_type": "stream",
     "text": [
      "Epoch 1/60\n",
      "687/687 [==============================] - 8s 12ms/step - loss: 2.1589 - accuracy: 0.3460 - val_loss: 2.0088 - val_accuracy: 0.2444\n",
      "Epoch 2/60\n",
      "687/687 [==============================] - 8s 11ms/step - loss: 1.1800 - accuracy: 0.6171 - val_loss: 2.1992 - val_accuracy: 0.4343\n",
      "Epoch 3/60\n",
      "687/687 [==============================] - 8s 11ms/step - loss: 0.8917 - accuracy: 0.7046 - val_loss: 64.0792 - val_accuracy: 0.0909\n",
      "Epoch 4/60\n",
      "687/687 [==============================] - 8s 12ms/step - loss: 0.7438 - accuracy: 0.7555 - val_loss: 1.0100 - val_accuracy: 0.5886\n",
      "Epoch 5/60\n",
      "687/687 [==============================] - 8s 12ms/step - loss: 0.6311 - accuracy: 0.7893 - val_loss: 0.8302 - val_accuracy: 0.6884\n",
      "Epoch 6/60\n",
      "687/687 [==============================] - 8s 12ms/step - loss: 0.5583 - accuracy: 0.8125 - val_loss: 0.8301 - val_accuracy: 0.7558\n",
      "Epoch 7/60\n",
      "687/687 [==============================] - 8s 12ms/step - loss: 0.5204 - accuracy: 0.8271 - val_loss: 1.4310 - val_accuracy: 0.5946\n",
      "Epoch 8/60\n",
      "687/687 [==============================] - 8s 11ms/step - loss: 0.4927 - accuracy: 0.8376 - val_loss: 0.7785 - val_accuracy: 0.6926\n",
      "Epoch 9/60\n",
      "687/687 [==============================] - 8s 12ms/step - loss: 0.4344 - accuracy: 0.8536 - val_loss: 0.7635 - val_accuracy: 0.7117\n",
      "Epoch 10/60\n",
      "687/687 [==============================] - 8s 12ms/step - loss: 0.4099 - accuracy: 0.8633 - val_loss: 1.0436 - val_accuracy: 0.7075\n",
      "Epoch 11/60\n",
      "687/687 [==============================] - 8s 11ms/step - loss: 0.3999 - accuracy: 0.8651 - val_loss: 0.4104 - val_accuracy: 0.7316\n",
      "Epoch 12/60\n",
      "687/687 [==============================] - 8s 11ms/step - loss: 0.3819 - accuracy: 0.8731 - val_loss: 3.5680 - val_accuracy: 0.6179\n",
      "Epoch 13/60\n",
      "687/687 [==============================] - 9s 13ms/step - loss: 0.3550 - accuracy: 0.8813 - val_loss: 0.1252 - val_accuracy: 0.8539\n",
      "Epoch 14/60\n",
      "687/687 [==============================] - 8s 12ms/step - loss: 0.3545 - accuracy: 0.8824 - val_loss: 1.1935 - val_accuracy: 0.7259\n",
      "Epoch 15/60\n",
      "687/687 [==============================] - 8s 12ms/step - loss: 0.3191 - accuracy: 0.8922 - val_loss: 0.2820 - val_accuracy: 0.7179\n",
      "Epoch 16/60\n",
      "687/687 [==============================] - 8s 12ms/step - loss: 0.3129 - accuracy: 0.8940 - val_loss: 4.3501 - val_accuracy: 0.8086\n",
      "Epoch 17/60\n",
      "687/687 [==============================] - 8s 11ms/step - loss: 0.2904 - accuracy: 0.9032 - val_loss: 0.2671 - val_accuracy: 0.9069\n",
      "Epoch 18/60\n",
      "687/687 [==============================] - 8s 12ms/step - loss: 0.2774 - accuracy: 0.9042 - val_loss: 0.2077 - val_accuracy: 0.8405\n",
      "Epoch 19/60\n",
      "687/687 [==============================] - 8s 12ms/step - loss: 0.2857 - accuracy: 0.9065 - val_loss: 0.9754 - val_accuracy: 0.7281\n",
      "Epoch 20/60\n",
      "687/687 [==============================] - 8s 11ms/step - loss: 0.2779 - accuracy: 0.9053 - val_loss: 0.6750 - val_accuracy: 0.7625\n",
      "Epoch 21/60\n",
      "687/687 [==============================] - 8s 11ms/step - loss: 0.2645 - accuracy: 0.9124 - val_loss: 34.7999 - val_accuracy: 0.5937\n",
      "Epoch 22/60\n",
      "687/687 [==============================] - 8s 12ms/step - loss: 0.2467 - accuracy: 0.9175 - val_loss: 1.5926 - val_accuracy: 0.6536\n",
      "Epoch 23/60\n",
      "687/687 [==============================] - 8s 11ms/step - loss: 0.2362 - accuracy: 0.9231 - val_loss: 0.0526 - val_accuracy: 0.9321\n",
      "Epoch 24/60\n",
      "687/687 [==============================] - 8s 12ms/step - loss: 0.2268 - accuracy: 0.9240 - val_loss: 9.5126 - val_accuracy: 0.4547\n",
      "Epoch 25/60\n",
      "687/687 [==============================] - 9s 14ms/step - loss: 0.2224 - accuracy: 0.9264 - val_loss: 0.3266 - val_accuracy: 0.8891\n",
      "Epoch 26/60\n",
      "687/687 [==============================] - 9s 13ms/step - loss: 0.2121 - accuracy: 0.9302 - val_loss: 0.5224 - val_accuracy: 0.7319\n",
      "Epoch 27/60\n",
      "687/687 [==============================] - 9s 13ms/step - loss: 0.2247 - accuracy: 0.9232 - val_loss: 0.3769 - val_accuracy: 0.9253\n",
      "Epoch 28/60\n",
      "687/687 [==============================] - 8s 11ms/step - loss: 0.1909 - accuracy: 0.9356 - val_loss: 0.0248 - val_accuracy: 0.9281\n",
      "Epoch 29/60\n",
      "687/687 [==============================] - 8s 11ms/step - loss: 0.1971 - accuracy: 0.9343 - val_loss: 0.2860 - val_accuracy: 0.7612\n",
      "Epoch 30/60\n",
      "687/687 [==============================] - 8s 12ms/step - loss: 0.1852 - accuracy: 0.9384 - val_loss: 0.1390 - val_accuracy: 0.8811\n",
      "Epoch 31/60\n",
      "687/687 [==============================] - 8s 11ms/step - loss: 0.1775 - accuracy: 0.9410 - val_loss: 0.3623 - val_accuracy: 0.8643\n",
      "Epoch 32/60\n",
      "687/687 [==============================] - 8s 11ms/step - loss: 0.1814 - accuracy: 0.9392 - val_loss: 0.8827 - val_accuracy: 0.8117\n",
      "Epoch 33/60\n",
      "687/687 [==============================] - 8s 12ms/step - loss: 0.1911 - accuracy: 0.9342 - val_loss: 16.9157 - val_accuracy: 0.4964\n",
      "Epoch 34/60\n",
      "687/687 [==============================] - 8s 12ms/step - loss: 0.1809 - accuracy: 0.9397 - val_loss: 0.4376 - val_accuracy: 0.8625\n",
      "Epoch 35/60\n",
      "687/687 [==============================] - 8s 12ms/step - loss: 0.1665 - accuracy: 0.9455 - val_loss: 4.7142 - val_accuracy: 0.8410\n",
      "Epoch 36/60\n",
      "687/687 [==============================] - 8s 12ms/step - loss: 0.1732 - accuracy: 0.9431 - val_loss: 1.5094 - val_accuracy: 0.7532\n",
      "Epoch 37/60\n",
      "687/687 [==============================] - 8s 12ms/step - loss: 0.1715 - accuracy: 0.9415 - val_loss: 0.2910 - val_accuracy: 0.9100\n",
      "Epoch 38/60\n",
      "687/687 [==============================] - 8s 11ms/step - loss: 0.1741 - accuracy: 0.9425 - val_loss: 1.3605 - val_accuracy: 0.8188\n",
      "Epoch 39/60\n",
      "687/687 [==============================] - 8s 11ms/step - loss: 0.1698 - accuracy: 0.9442 - val_loss: 0.2416 - val_accuracy: 0.9195\n",
      "Epoch 40/60\n",
      "687/687 [==============================] - 8s 12ms/step - loss: 0.1624 - accuracy: 0.9455 - val_loss: 0.0917 - val_accuracy: 0.9281\n",
      "Epoch 41/60\n",
      "687/687 [==============================] - 8s 12ms/step - loss: 0.1531 - accuracy: 0.9481 - val_loss: 0.0937 - val_accuracy: 0.8969\n",
      "Epoch 42/60\n",
      "687/687 [==============================] - 8s 11ms/step - loss: 0.1486 - accuracy: 0.9494 - val_loss: 6.2185 - val_accuracy: 0.5911\n",
      "Epoch 43/60\n",
      "687/687 [==============================] - 8s 11ms/step - loss: 0.1589 - accuracy: 0.9459 - val_loss: 0.3876 - val_accuracy: 0.6984\n",
      "Epoch 44/60\n",
      "687/687 [==============================] - 8s 12ms/step - loss: 0.1481 - accuracy: 0.9524 - val_loss: 0.6668 - val_accuracy: 0.9461\n",
      "Epoch 45/60\n",
      "687/687 [==============================] - 8s 11ms/step - loss: 0.1349 - accuracy: 0.9528 - val_loss: 1.0729 - val_accuracy: 0.8676\n",
      "Epoch 46/60\n",
      "687/687 [==============================] - 8s 11ms/step - loss: 0.1460 - accuracy: 0.9503 - val_loss: 0.1096 - val_accuracy: 0.9295\n",
      "Epoch 47/60\n",
      "687/687 [==============================] - 8s 11ms/step - loss: 0.1426 - accuracy: 0.9519 - val_loss: 0.5708 - val_accuracy: 0.9262\n",
      "Epoch 48/60\n",
      "687/687 [==============================] - 8s 11ms/step - loss: 0.1378 - accuracy: 0.9542 - val_loss: 1.8086 - val_accuracy: 0.7809\n",
      "Epoch 49/60\n",
      "687/687 [==============================] - 8s 11ms/step - loss: 0.1281 - accuracy: 0.9563 - val_loss: 0.5489 - val_accuracy: 0.9397\n",
      "Epoch 50/60\n",
      "687/687 [==============================] - 8s 11ms/step - loss: 0.1420 - accuracy: 0.9515 - val_loss: 0.3829 - val_accuracy: 0.8754\n",
      "Epoch 51/60\n",
      "687/687 [==============================] - 8s 11ms/step - loss: 0.1364 - accuracy: 0.9547 - val_loss: 1.0093 - val_accuracy: 0.7195\n",
      "Epoch 52/60\n",
      "687/687 [==============================] - 8s 11ms/step - loss: 0.1429 - accuracy: 0.9530 - val_loss: 0.0154 - val_accuracy: 0.9071\n",
      "Epoch 53/60\n",
      "687/687 [==============================] - 8s 11ms/step - loss: 0.1295 - accuracy: 0.9579 - val_loss: 0.4199 - val_accuracy: 0.8794\n",
      "Epoch 54/60\n",
      "687/687 [==============================] - 8s 11ms/step - loss: 0.1257 - accuracy: 0.9577 - val_loss: 0.6095 - val_accuracy: 0.8168\n",
      "Epoch 55/60\n",
      "687/687 [==============================] - 8s 12ms/step - loss: 0.1310 - accuracy: 0.9566 - val_loss: 0.8595 - val_accuracy: 0.9106\n",
      "Epoch 56/60\n",
      "687/687 [==============================] - 8s 11ms/step - loss: 0.1301 - accuracy: 0.9574 - val_loss: 1.1299 - val_accuracy: 0.8150\n",
      "Epoch 57/60\n",
      "687/687 [==============================] - 8s 12ms/step - loss: 0.1256 - accuracy: 0.9563 - val_loss: 0.2852 - val_accuracy: 0.9109\n"
     ]
    },
    {
     "name": "stdout",
     "output_type": "stream",
     "text": [
      "Epoch 58/60\n",
      "687/687 [==============================] - 8s 11ms/step - loss: 0.1270 - accuracy: 0.9591 - val_loss: 0.0143 - val_accuracy: 0.9224\n",
      "Epoch 59/60\n",
      "687/687 [==============================] - 8s 11ms/step - loss: 0.1236 - accuracy: 0.9600 - val_loss: 0.3099 - val_accuracy: 0.7600\n",
      "Epoch 60/60\n",
      "687/687 [==============================] - 8s 11ms/step - loss: 0.1195 - accuracy: 0.9601 - val_loss: 1.2653 - val_accuracy: 0.9015\n"
     ]
    }
   ],
   "source": [
    "history=model.fit(traindata_generator,epochs=60,validation_data=validationdata_generator,callbacks=[callback])"
   ]
  },
  {
   "cell_type": "code",
   "execution_count": 24,
   "metadata": {},
   "outputs": [
    {
     "data": {
      "image/png": "[encoded data removed]",
      "text/plain": [
       "<Figure size 432x288 with 1 Axes>"
      ]
     },
     "metadata": {
      "needs_background": "light"
     },
     "output_type": "display_data"
    },
    {
     "data": {
      "image/png": "[encoded data removed]",
      "text/plain": [
       "<Figure size 432x288 with 1 Axes>"
      ]
     },
     "metadata": {
      "needs_background": "light"
     },
     "output_type": "display_data"
    }
   ],
   "source": [
    "acc = history.history['accuracy']\n",
    "val_acc = history.history['val_accuracy']\n",
    "loss = history.history['loss']\n",
    "val_loss = history.history['val_loss']\n",
    "\n",
    "epochs = range(len(acc))\n",
    "\n",
    "plt.plot(epochs, acc, 'r', label='Training accuracy')\n",
    "plt.plot(epochs, val_acc, 'b', label='Validation accuracy')\n",
    "plt.title('Training and validation accuracy')\n",
    "plt.legend()\n",
    "plt.figure()\n",
    "\n",
    "plt.plot(epochs, loss, 'r', label='Training Loss')\n",
    "plt.plot(epochs, val_loss, 'b', label='Validation Loss')\n",
    "plt.title('Training and validation loss')\n",
    "plt.legend()\n",
    "\n",
    "plt.show()"
   ]
  },
  {
   "cell_type": "code",
   "execution_count": 25,
   "metadata": {},
   "outputs": [
    {
     "name": "stdout",
     "output_type": "stream",
     "text": [
      "test accuracy: 96.20747566223145\n"
     ]
    }
   ],
   "source": [
    "print(\"test accuracy: \"+ str(model.evaluate_generator(testdata_generator)[1]*100))"
   ]
  },
  {
   "cell_type": "code",
   "execution_count": null,
   "metadata": {},
   "outputs": [],
   "source": []
  }
 ],
 "metadata": {
  "kernelspec": {
   "display_name": "Python 3",
   "language": "python",
   "name": "python3"
  },
  "language_info": {
   "codemirror_mode": {
    "name": "ipython",
    "version": 3
   },
   "file_extension": ".py",
   "mimetype": "text/x-python",
   "name": "python",
   "nbconvert_exporter": "python",
   "pygments_lexer": "ipython3",
   "version": "3.7.4"
  }
 },
 "nbformat": 4,
 "nbformat_minor": 2
}
