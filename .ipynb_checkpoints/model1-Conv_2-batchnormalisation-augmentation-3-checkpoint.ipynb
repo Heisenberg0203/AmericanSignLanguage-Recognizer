{
 "cells": [
  {
   "cell_type": "code",
   "execution_count": 1,
   "metadata": {},
   "outputs": [
    {
     "name": "stderr",
     "output_type": "stream",
     "text": [
      "Using TensorFlow backend.\n"
     ]
    }
   ],
   "source": [
    "import tensorflow as tf\n",
    "import keras\n",
    "from keras.callbacks import *\n",
    "import numpy as np\n",
    "import pandas as pd\n",
    "import matplotlib.pyplot as plt\n",
    "from keras.models import Sequential\n",
    "from keras.layers import *"
   ]
  },
  {
   "cell_type": "code",
   "execution_count": 2,
   "metadata": {},
   "outputs": [],
   "source": [
    "traindata = pd.read_csv('sign_mnist_train.csv')"
   ]
  },
  {
   "cell_type": "code",
   "execution_count": 3,
   "metadata": {},
   "outputs": [],
   "source": [
    "trainlabel=traindata['label'].values"
   ]
  },
  {
   "cell_type": "code",
   "execution_count": 4,
   "metadata": {},
   "outputs": [],
   "source": [
    "traindata.drop('label',inplace=True,axis=1)\n",
    "trainimages = traindata.values"
   ]
  },
  {
   "cell_type": "code",
   "execution_count": 5,
   "metadata": {},
   "outputs": [],
   "source": [
    "trainimages=trainimages.reshape(-1,28,28,1)"
   ]
  },
  {
   "cell_type": "code",
   "execution_count": 6,
   "metadata": {},
   "outputs": [],
   "source": [
    "testdata = pd.read_csv('sign_mnist_test.csv')"
   ]
  },
  {
   "cell_type": "code",
   "execution_count": 7,
   "metadata": {},
   "outputs": [],
   "source": [
    "testlabel=testdata['label'].values"
   ]
  },
  {
   "cell_type": "code",
   "execution_count": 8,
   "metadata": {},
   "outputs": [],
   "source": [
    "testdata.drop('label',inplace=True,axis=1)\n",
    "testimages = testdata.values"
   ]
  },
  {
   "cell_type": "code",
   "execution_count": 9,
   "metadata": {},
   "outputs": [],
   "source": [
    "testimages=testimages.reshape(-1,28,28,1)"
   ]
  },
  {
   "cell_type": "code",
   "execution_count": 10,
   "metadata": {},
   "outputs": [],
   "source": [
    "from keras.preprocessing.image import ImageDataGenerator"
   ]
  },
  {
   "cell_type": "code",
   "execution_count": 11,
   "metadata": {},
   "outputs": [],
   "source": [
    "traingen=ImageDataGenerator(rotation_range=20,zoom_range=0.1,width_shift_range=0.1,height_shift_range=0.1,\n",
    "                  shear_range=0.1,horizontal_flip=True,rescale=1/255.0,validation_split=0.1)"
   ]
  },
  {
   "cell_type": "code",
   "execution_count": 12,
   "metadata": {},
   "outputs": [],
   "source": [
    "traindata_generator = traingen.flow(trainimages,trainlabel,subset='training')\n",
    "validationdata_generator = traingen.flow(trainimages,trainlabel,subset='validation')"
   ]
  },
  {
   "cell_type": "code",
   "execution_count": 13,
   "metadata": {},
   "outputs": [],
   "source": [
    "testgen=ImageDataGenerator(rescale=1/255.0)\n",
    "testdata_generator = testgen.flow(testimages,testlabel)"
   ]
  },
  {
   "cell_type": "code",
   "execution_count": 23,
   "metadata": {},
   "outputs": [],
   "source": [
    "model=Sequential([])\n",
    "\n",
    "model.add(Conv2D(64,(3,3),activation=\"relu\",input_shape=(28,28,1)))\n",
    "model.add(BatchNormalization())\n",
    "# model.add(Conv2D(64,(3,3),activation=\"relu\"))\n",
    "# model.add(BatchNormalization())\n",
    "model.add(MaxPooling2D(2,2))\n",
    "#model.add(Dropout(0.4))\n",
    "\n",
    "model.add(Conv2D(128,(3,3),activation=\"relu\"))\n",
    "model.add(BatchNormalization())\n",
    "# model.add(Conv2D(128,(3,3),activation=\"relu\"))\n",
    "# model.add(BatchNormalization())\n",
    "model.add(MaxPooling2D(2,2))\n",
    "#model.add(Dropout(0.4))\n",
    "\n",
    "model.add(Flatten())\n",
    "model.add(BatchNormalization())\n",
    "#model.add(Dropout(0.4))\n",
    "model.add(Dense(256,activation=\"relu\"))\n",
    "model.add(BatchNormalization())\n",
    "#model.add(Dropout(0.4))\n",
    "model.add(Dense(26,activation=\"softmax\"))\n"
   ]
  },
  {
   "cell_type": "code",
   "execution_count": 24,
   "metadata": {},
   "outputs": [],
   "source": [
    "model.compile(loss=\"sparse_categorical_crossentropy\",optimizer='adam',metrics=['accuracy'])"
   ]
  },
  {
   "cell_type": "code",
   "execution_count": 25,
   "metadata": {},
   "outputs": [
    {
     "name": "stdout",
     "output_type": "stream",
     "text": [
      "Model: \"sequential_2\"\n",
      "_________________________________________________________________\n",
      "Layer (type)                 Output Shape              Param #   \n",
      "=================================================================\n",
      "conv2d_3 (Conv2D)            (None, 26, 26, 64)        640       \n",
      "_________________________________________________________________\n",
      "batch_normalization_5 (Batch (None, 26, 26, 64)        256       \n",
      "_________________________________________________________________\n",
      "max_pooling2d_3 (MaxPooling2 (None, 13, 13, 64)        0         \n",
      "_________________________________________________________________\n",
      "conv2d_4 (Conv2D)            (None, 11, 11, 128)       73856     \n",
      "_________________________________________________________________\n",
      "batch_normalization_6 (Batch (None, 11, 11, 128)       512       \n",
      "_________________________________________________________________\n",
      "max_pooling2d_4 (MaxPooling2 (None, 5, 5, 128)         0         \n",
      "_________________________________________________________________\n",
      "flatten_2 (Flatten)          (None, 3200)              0         \n",
      "_________________________________________________________________\n",
      "batch_normalization_7 (Batch (None, 3200)              12800     \n",
      "_________________________________________________________________\n",
      "dense_3 (Dense)              (None, 256)               819456    \n",
      "_________________________________________________________________\n",
      "batch_normalization_8 (Batch (None, 256)               1024      \n",
      "_________________________________________________________________\n",
      "dense_4 (Dense)              (None, 26)                6682      \n",
      "=================================================================\n",
      "Total params: 915,226\n",
      "Trainable params: 907,930\n",
      "Non-trainable params: 7,296\n",
      "_________________________________________________________________\n"
     ]
    }
   ],
   "source": [
    "model.summary()"
   ]
  },
  {
   "cell_type": "code",
   "execution_count": 26,
   "metadata": {},
   "outputs": [],
   "source": [
    "# Define a Callback class that stops training once accuracy reaches 97.0%\n",
    "class myCallback(Callback):\n",
    "  def on_epoch_end(self, epoch, logs={}):\n",
    "    if(logs.get('val_accuracy')>0.99):\n",
    "      print(\"\\nReached 98.5% accuracy so cancelling training!\")\n",
    "      self.model.stop_training = True\n",
    "callback=myCallback()"
   ]
  },
  {
   "cell_type": "code",
   "execution_count": 27,
   "metadata": {},
   "outputs": [
    {
     "name": "stdout",
     "output_type": "stream",
     "text": [
      "Epoch 1/40\n",
      "773/773 [==============================] - 8s 11ms/step - loss: 0.9315 - accuracy: 0.7154 - val_loss: 1.2743 - val_accuracy: 0.5709\n",
      "Epoch 2/40\n",
      "773/773 [==============================] - 8s 10ms/step - loss: 0.3112 - accuracy: 0.9030 - val_loss: 2.3144 - val_accuracy: 0.5858\n",
      "Epoch 3/40\n",
      "773/773 [==============================] - 8s 10ms/step - loss: 0.2101 - accuracy: 0.9333 - val_loss: 0.5211 - val_accuracy: 0.8004\n",
      "Epoch 4/40\n",
      "773/773 [==============================] - 8s 10ms/step - loss: 0.1627 - accuracy: 0.9484 - val_loss: 0.2308 - val_accuracy: 0.9246\n",
      "Epoch 5/40\n",
      "773/773 [==============================] - 8s 10ms/step - loss: 0.1375 - accuracy: 0.9554 - val_loss: 82.1809 - val_accuracy: 0.1071\n",
      "Epoch 6/40\n",
      "773/773 [==============================] - 8s 10ms/step - loss: 0.1301 - accuracy: 0.9586 - val_loss: 0.2320 - val_accuracy: 0.9173\n",
      "Epoch 7/40\n",
      "773/773 [==============================] - 9s 11ms/step - loss: 0.1144 - accuracy: 0.9633 - val_loss: 0.1182 - val_accuracy: 0.8667\n",
      "Epoch 8/40\n",
      "773/773 [==============================] - 8s 11ms/step - loss: 0.1037 - accuracy: 0.9669 - val_loss: 0.2505 - val_accuracy: 0.9162\n",
      "Epoch 9/40\n",
      "773/773 [==============================] - 8s 11ms/step - loss: 0.0920 - accuracy: 0.9698 - val_loss: 0.0114 - val_accuracy: 0.9319\n",
      "Epoch 10/40\n",
      "773/773 [==============================] - 9s 11ms/step - loss: 0.0902 - accuracy: 0.9710 - val_loss: 0.6523 - val_accuracy: 0.8634\n",
      "Epoch 11/40\n",
      "773/773 [==============================] - 10s 13ms/step - loss: 0.0815 - accuracy: 0.9725 - val_loss: 0.0516 - val_accuracy: 0.9596\n",
      "Epoch 12/40\n",
      "773/773 [==============================] - 10s 12ms/step - loss: 0.0739 - accuracy: 0.9757 - val_loss: 0.4880 - val_accuracy: 0.8714\n",
      "Epoch 13/40\n",
      "773/773 [==============================] - 10s 13ms/step - loss: 0.0653 - accuracy: 0.9783 - val_loss: 0.3060 - val_accuracy: 0.9264\n",
      "Epoch 14/40\n",
      "773/773 [==============================] - 9s 12ms/step - loss: 0.0722 - accuracy: 0.9762 - val_loss: 40.5686 - val_accuracy: 0.1213\n",
      "Epoch 15/40\n",
      "773/773 [==============================] - 8s 11ms/step - loss: 0.0609 - accuracy: 0.9790 - val_loss: 0.1026 - val_accuracy: 0.9658\n",
      "Epoch 16/40\n",
      "773/773 [==============================] - 11s 14ms/step - loss: 0.0571 - accuracy: 0.9809 - val_loss: 14.3599 - val_accuracy: 0.4368\n",
      "Epoch 17/40\n",
      "773/773 [==============================] - 10s 12ms/step - loss: 0.0538 - accuracy: 0.9817 - val_loss: 0.2131 - val_accuracy: 0.9352\n",
      "Epoch 18/40\n",
      "773/773 [==============================] - 11s 15ms/step - loss: 0.0619 - accuracy: 0.9789 - val_loss: 2.5696 - val_accuracy: 0.6703\n",
      "Epoch 19/40\n",
      "773/773 [==============================] - 10s 12ms/step - loss: 0.0523 - accuracy: 0.9831 - val_loss: 0.9597 - val_accuracy: 0.8543\n",
      "Epoch 20/40\n",
      "773/773 [==============================] - 9s 12ms/step - loss: 0.0422 - accuracy: 0.9864 - val_loss: 1.2897 - val_accuracy: 0.7960\n",
      "Epoch 21/40\n",
      "773/773 [==============================] - 10s 13ms/step - loss: 0.0432 - accuracy: 0.9857 - val_loss: 10.7657 - val_accuracy: 0.7526\n",
      "Epoch 22/40\n",
      "773/773 [==============================] - 9s 11ms/step - loss: 0.0550 - accuracy: 0.9818 - val_loss: 0.9803 - val_accuracy: 0.8215\n",
      "Epoch 23/40\n",
      "773/773 [==============================] - 9s 11ms/step - loss: 0.0468 - accuracy: 0.9845 - val_loss: 0.0165 - val_accuracy: 0.9825\n",
      "Epoch 24/40\n",
      "773/773 [==============================] - 10s 13ms/step - loss: 0.0456 - accuracy: 0.9845 - val_loss: 1.1532 - val_accuracy: 0.8062\n",
      "Epoch 25/40\n",
      "773/773 [==============================] - 8s 11ms/step - loss: 0.0450 - accuracy: 0.9851 - val_loss: 0.0039 - val_accuracy: 0.9851\n",
      "Epoch 26/40\n",
      "773/773 [==============================] - 9s 12ms/step - loss: 0.0362 - accuracy: 0.9887 - val_loss: 107.8754 - val_accuracy: 0.1413\n",
      "Epoch 27/40\n",
      "773/773 [==============================] - 13s 17ms/step - loss: 0.0354 - accuracy: 0.9878 - val_loss: 27.9376 - val_accuracy: 0.2798\n",
      "Epoch 28/40\n",
      "773/773 [==============================] - 8s 11ms/step - loss: 0.0382 - accuracy: 0.9877 - val_loss: 13.0120 - val_accuracy: 0.5370\n",
      "Epoch 29/40\n",
      "773/773 [==============================] - 8s 11ms/step - loss: 0.0399 - accuracy: 0.9873 - val_loss: 0.0545 - val_accuracy: 0.9752\n",
      "Epoch 30/40\n",
      "773/773 [==============================] - 9s 11ms/step - loss: 0.0489 - accuracy: 0.9853 - val_loss: 0.1041 - val_accuracy: 0.9199\n",
      "Epoch 31/40\n",
      "773/773 [==============================] - 9s 12ms/step - loss: 0.0307 - accuracy: 0.9899 - val_loss: 0.0446 - val_accuracy: 0.9705\n",
      "Epoch 32/40\n",
      "773/773 [==============================] - 11s 14ms/step - loss: 0.0349 - accuracy: 0.9883 - val_loss: 0.9060 - val_accuracy: 0.7279\n",
      "Epoch 33/40\n",
      "773/773 [==============================] - 8s 11ms/step - loss: 0.0309 - accuracy: 0.9894 - val_loss: 2.8954 - val_accuracy: 0.7260\n",
      "Epoch 34/40\n",
      "773/773 [==============================] - 8s 11ms/step - loss: 0.0349 - accuracy: 0.9887 - val_loss: 5.0786 - val_accuracy: 0.7446\n",
      "Epoch 35/40\n",
      "773/773 [==============================] - 8s 11ms/step - loss: 0.0329 - accuracy: 0.9897 - val_loss: 0.1978 - val_accuracy: 0.9752\n",
      "Epoch 36/40\n",
      "773/773 [==============================] - 8s 11ms/step - loss: 0.0372 - accuracy: 0.9884 - val_loss: 0.1220 - val_accuracy: 0.9574\n",
      "Epoch 37/40\n",
      "773/773 [==============================] - 8s 11ms/step - loss: 0.0303 - accuracy: 0.9896 - val_loss: 0.2291 - val_accuracy: 0.9760\n",
      "Epoch 38/40\n",
      "773/773 [==============================] - 9s 11ms/step - loss: 0.0280 - accuracy: 0.9906 - val_loss: 0.0261 - val_accuracy: 0.9916\n",
      "\n",
      "Reached 98.5% accuracy so cancelling training!\n"
     ]
    }
   ],
   "source": [
    "history=model.fit(traindata_generator,epochs=40,validation_data=validationdata_generator,callbacks=[callback])"
   ]
  },
  {
   "cell_type": "code",
   "execution_count": 28,
   "metadata": {},
   "outputs": [
    {
     "data": {
      "image/png": "[encoded data removed]",
      "text/plain": [
       "<Figure size 432x288 with 1 Axes>"
      ]
     },
     "metadata": {
      "needs_background": "light"
     },
     "output_type": "display_data"
    },
    {
     "data": {
      "image/png": "[encoded data removed]",
      "text/plain": [
       "<Figure size 432x288 with 1 Axes>"
      ]
     },
     "metadata": {
      "needs_background": "light"
     },
     "output_type": "display_data"
    }
   ],
   "source": [
    "acc = history.history['accuracy']\n",
    "val_acc = history.history['val_accuracy']\n",
    "loss = history.history['loss']\n",
    "val_loss = history.history['val_loss']\n",
    "\n",
    "epochs = range(len(acc))\n",
    "\n",
    "plt.plot(epochs, acc, 'r', label='Training accuracy')\n",
    "plt.plot(epochs, val_acc, 'b', label='Validation accuracy')\n",
    "plt.title('Training and validation accuracy')\n",
    "plt.legend()\n",
    "plt.figure()\n",
    "\n",
    "plt.plot(epochs, loss, 'r', label='Training Loss')\n",
    "plt.plot(epochs, val_loss, 'b', label='Validation Loss')\n",
    "plt.title('Training and validation loss')\n",
    "plt.legend()\n",
    "\n",
    "plt.show()"
   ]
  },
  {
   "cell_type": "code",
   "execution_count": 29,
   "metadata": {},
   "outputs": [
    {
     "name": "stdout",
     "output_type": "stream",
     "text": [
      "test accuracy: 99.91633892059326\n"
     ]
    }
   ],
   "source": [
    "print(\"test accuracy: \"+ str(model.evaluate_generator(testdata_generator)[1]*100))"
   ]
  },
  {
   "cell_type": "code",
   "execution_count": null,
   "metadata": {},
   "outputs": [],
   "source": []
  }
 ],
 "metadata": {
  "kernelspec": {
   "display_name": "Python 3",
   "language": "python",
   "name": "python3"
  },
  "language_info": {
   "codemirror_mode": {
    "name": "ipython",
    "version": 3
   },
   "file_extension": ".py",
   "mimetype": "text/x-python",
   "name": "python",
   "nbconvert_exporter": "python",
   "pygments_lexer": "ipython3",
   "version": "3.7.4"
  }
 },
 "nbformat": 4,
 "nbformat_minor": 2
}
