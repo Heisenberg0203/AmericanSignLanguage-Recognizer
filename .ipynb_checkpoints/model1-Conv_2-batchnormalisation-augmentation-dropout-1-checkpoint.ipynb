{
 "cells": [
  {
   "cell_type": "code",
   "execution_count": 1,
   "metadata": {},
   "outputs": [
    {
     "name": "stderr",
     "output_type": "stream",
     "text": [
      "Using TensorFlow backend.\n"
     ]
    }
   ],
   "source": [
    "import tensorflow as tf\n",
    "import keras\n",
    "from keras.callbacks import *\n",
    "import numpy as np\n",
    "import pandas as pd\n",
    "import matplotlib.pyplot as plt\n",
    "from keras.models import Sequential\n",
    "from keras.layers import *"
   ]
  },
  {
   "cell_type": "code",
   "execution_count": 2,
   "metadata": {},
   "outputs": [],
   "source": [
    "traindata = pd.read_csv('sign_mnist_train.csv')"
   ]
  },
  {
   "cell_type": "code",
   "execution_count": 3,
   "metadata": {},
   "outputs": [],
   "source": [
    "trainlabel=traindata['label'].values"
   ]
  },
  {
   "cell_type": "code",
   "execution_count": 4,
   "metadata": {},
   "outputs": [],
   "source": [
    "traindata.drop('label',inplace=True,axis=1)\n",
    "trainimages = traindata.values"
   ]
  },
  {
   "cell_type": "code",
   "execution_count": 5,
   "metadata": {},
   "outputs": [],
   "source": [
    "trainimages=trainimages.reshape(-1,28,28,1)"
   ]
  },
  {
   "cell_type": "code",
   "execution_count": 6,
   "metadata": {},
   "outputs": [],
   "source": [
    "testdata = pd.read_csv('sign_mnist_test.csv')"
   ]
  },
  {
   "cell_type": "code",
   "execution_count": 7,
   "metadata": {},
   "outputs": [],
   "source": [
    "testlabel=testdata['label'].values"
   ]
  },
  {
   "cell_type": "code",
   "execution_count": 8,
   "metadata": {},
   "outputs": [],
   "source": [
    "testdata.drop('label',inplace=True,axis=1)\n",
    "testimages = testdata.values"
   ]
  },
  {
   "cell_type": "code",
   "execution_count": 9,
   "metadata": {},
   "outputs": [],
   "source": [
    "testimages=testimages.reshape(-1,28,28,1)"
   ]
  },
  {
   "cell_type": "code",
   "execution_count": 10,
   "metadata": {},
   "outputs": [],
   "source": [
    "from keras.preprocessing.image import ImageDataGenerator"
   ]
  },
  {
   "cell_type": "code",
   "execution_count": 11,
   "metadata": {},
   "outputs": [],
   "source": [
    "traingen=ImageDataGenerator(rotation_range=40,zoom_range=0.2,width_shift_range=0.2,height_shift_range=0.2,\n",
    "                  shear_range=0.2,horizontal_flip=True,rescale=1/255.0,validation_split=0.2)"
   ]
  },
  {
   "cell_type": "code",
   "execution_count": 12,
   "metadata": {},
   "outputs": [],
   "source": [
    "traindata_generator = traingen.flow(trainimages,trainlabel,subset='training')\n",
    "validationdata_generator = traingen.flow(trainimages,trainlabel,subset='validation')"
   ]
  },
  {
   "cell_type": "code",
   "execution_count": 13,
   "metadata": {},
   "outputs": [],
   "source": [
    "testgen=ImageDataGenerator(rescale=1/255.0)\n",
    "testdata_generator = testgen.flow(testimages,testlabel)"
   ]
  },
  {
   "cell_type": "code",
   "execution_count": 14,
   "metadata": {},
   "outputs": [],
   "source": [
    "model=Sequential([])\n",
    "\n",
    "model.add(Conv2D(64,(3,3),activation=\"relu\",input_shape=(28,28,1)))\n",
    "model.add(BatchNormalization())\n",
    "# model.add(Conv2D(64,(3,3),activation=\"relu\"))\n",
    "# model.add(BatchNormalization())\n",
    "model.add(MaxPooling2D(2,2))\n",
    "#model.add(Dropout(0.4))\n",
    "\n",
    "model.add(Conv2D(128,(3,3),activation=\"relu\"))\n",
    "model.add(BatchNormalization())\n",
    "# model.add(Conv2D(128,(3,3),activation=\"relu\"))\n",
    "# model.add(BatchNormalization())\n",
    "model.add(MaxPooling2D(2,2))\n",
    "\n",
    "model.add(Flatten())\n",
    "model.add(BatchNormalization())\n",
    "model.add(Dropout(0.4))\n",
    "model.add(Dense(256,activation=\"relu\"))\n",
    "model.add(BatchNormalization())\n",
    "model.add(Dense(26,activation=\"softmax\"))\n",
    "\n"
   ]
  },
  {
   "cell_type": "code",
   "execution_count": 15,
   "metadata": {},
   "outputs": [],
   "source": [
    "model.compile(loss=\"sparse_categorical_crossentropy\",optimizer='adam',metrics=['accuracy'])"
   ]
  },
  {
   "cell_type": "code",
   "execution_count": 16,
   "metadata": {},
   "outputs": [
    {
     "name": "stdout",
     "output_type": "stream",
     "text": [
      "Model: \"sequential_1\"\n",
      "_________________________________________________________________\n",
      "Layer (type)                 Output Shape              Param #   \n",
      "=================================================================\n",
      "conv2d_1 (Conv2D)            (None, 26, 26, 64)        640       \n",
      "_________________________________________________________________\n",
      "batch_normalization_1 (Batch (None, 26, 26, 64)        256       \n",
      "_________________________________________________________________\n",
      "max_pooling2d_1 (MaxPooling2 (None, 13, 13, 64)        0         \n",
      "_________________________________________________________________\n",
      "conv2d_2 (Conv2D)            (None, 11, 11, 128)       73856     \n",
      "_________________________________________________________________\n",
      "batch_normalization_2 (Batch (None, 11, 11, 128)       512       \n",
      "_________________________________________________________________\n",
      "max_pooling2d_2 (MaxPooling2 (None, 5, 5, 128)         0         \n",
      "_________________________________________________________________\n",
      "flatten_1 (Flatten)          (None, 3200)              0         \n",
      "_________________________________________________________________\n",
      "batch_normalization_3 (Batch (None, 3200)              12800     \n",
      "_________________________________________________________________\n",
      "dropout_1 (Dropout)          (None, 3200)              0         \n",
      "_________________________________________________________________\n",
      "dense_1 (Dense)              (None, 256)               819456    \n",
      "_________________________________________________________________\n",
      "batch_normalization_4 (Batch (None, 256)               1024      \n",
      "_________________________________________________________________\n",
      "dense_2 (Dense)              (None, 26)                6682      \n",
      "=================================================================\n",
      "Total params: 915,226\n",
      "Trainable params: 907,930\n",
      "Non-trainable params: 7,296\n",
      "_________________________________________________________________\n"
     ]
    }
   ],
   "source": [
    "model.summary()"
   ]
  },
  {
   "cell_type": "code",
   "execution_count": 17,
   "metadata": {},
   "outputs": [],
   "source": [
    "# Define a Callback class that stops training once accuracy reaches 97.0%\n",
    "class myCallback(Callback):\n",
    "  def on_epoch_end(self, epoch, logs={}):\n",
    "    if(logs.get('accuracy')>0.985):\n",
    "      print(\"\\nReached 98.5% accuracy so cancelling training!\")\n",
    "      self.model.stop_training = True\n",
    "callback=myCallback()"
   ]
  },
  {
   "cell_type": "code",
   "execution_count": 18,
   "metadata": {},
   "outputs": [
    {
     "name": "stdout",
     "output_type": "stream",
     "text": [
      "Epoch 1/60\n",
      "687/687 [==============================] - 10s 15ms/step - loss: 2.3589 - accuracy: 0.2902 - val_loss: 2.3819 - val_accuracy: 0.2868\n",
      "Epoch 2/60\n",
      "687/687 [==============================] - 8s 11ms/step - loss: 1.5045 - accuracy: 0.5153 - val_loss: 2.5705 - val_accuracy: 0.3043\n",
      "Epoch 3/60\n",
      "687/687 [==============================] - 8s 11ms/step - loss: 1.1713 - accuracy: 0.6112 - val_loss: 1.6449 - val_accuracy: 0.5256\n",
      "Epoch 4/60\n",
      "687/687 [==============================] - 8s 11ms/step - loss: 0.9959 - accuracy: 0.6731 - val_loss: 1.1098 - val_accuracy: 0.6418\n",
      "Epoch 5/60\n",
      "687/687 [==============================] - 8s 12ms/step - loss: 0.8979 - accuracy: 0.7018 - val_loss: 1.8863 - val_accuracy: 0.4841\n",
      "Epoch 6/60\n",
      "687/687 [==============================] - 8s 12ms/step - loss: 0.8061 - accuracy: 0.7258 - val_loss: 1.0528 - val_accuracy: 0.7157\n",
      "Epoch 7/60\n",
      "687/687 [==============================] - 8s 11ms/step - loss: 0.7348 - accuracy: 0.7523 - val_loss: 1.1758 - val_accuracy: 0.6341\n",
      "Epoch 8/60\n",
      "687/687 [==============================] - 8s 11ms/step - loss: 0.6931 - accuracy: 0.7645 - val_loss: 1.1369 - val_accuracy: 0.7955\n",
      "Epoch 9/60\n",
      "687/687 [==============================] - 8s 11ms/step - loss: 0.6506 - accuracy: 0.7796 - val_loss: 1.6032 - val_accuracy: 0.5383\n",
      "Epoch 10/60\n",
      "687/687 [==============================] - 8s 11ms/step - loss: 0.6145 - accuracy: 0.7920 - val_loss: 37.8480 - val_accuracy: 0.3107\n",
      "Epoch 11/60\n",
      "687/687 [==============================] - 8s 11ms/step - loss: 0.5852 - accuracy: 0.8016 - val_loss: 0.6924 - val_accuracy: 0.8319\n",
      "Epoch 12/60\n",
      "687/687 [==============================] - 8s 11ms/step - loss: 0.5607 - accuracy: 0.8099 - val_loss: 3.5176 - val_accuracy: 0.6130\n",
      "Epoch 13/60\n",
      "687/687 [==============================] - 8s 11ms/step - loss: 0.5410 - accuracy: 0.8157 - val_loss: 2.1431 - val_accuracy: 0.5476\n",
      "Epoch 14/60\n",
      "687/687 [==============================] - 8s 11ms/step - loss: 0.5304 - accuracy: 0.8186 - val_loss: 0.2021 - val_accuracy: 0.8102\n",
      "Epoch 15/60\n",
      "687/687 [==============================] - 8s 12ms/step - loss: 0.5189 - accuracy: 0.8239 - val_loss: 0.4475 - val_accuracy: 0.8246\n",
      "Epoch 16/60\n",
      "687/687 [==============================] - 8s 11ms/step - loss: 0.5137 - accuracy: 0.8242 - val_loss: 0.6411 - val_accuracy: 0.7873\n",
      "Epoch 17/60\n",
      "687/687 [==============================] - 8s 12ms/step - loss: 0.4815 - accuracy: 0.8368 - val_loss: 0.5310 - val_accuracy: 0.7620\n",
      "Epoch 18/60\n",
      "687/687 [==============================] - 8s 11ms/step - loss: 0.4471 - accuracy: 0.8484 - val_loss: 0.4620 - val_accuracy: 0.8326\n",
      "Epoch 19/60\n",
      "687/687 [==============================] - 8s 11ms/step - loss: 0.4387 - accuracy: 0.8495 - val_loss: 0.5749 - val_accuracy: 0.7405\n",
      "Epoch 20/60\n",
      "687/687 [==============================] - 8s 11ms/step - loss: 0.4182 - accuracy: 0.8586 - val_loss: 0.4854 - val_accuracy: 0.8663\n",
      "Epoch 21/60\n",
      "687/687 [==============================] - 8s 11ms/step - loss: 0.4178 - accuracy: 0.8590 - val_loss: 0.3003 - val_accuracy: 0.8467\n",
      "Epoch 22/60\n",
      "687/687 [==============================] - 8s 11ms/step - loss: 0.3946 - accuracy: 0.8635 - val_loss: 0.4998 - val_accuracy: 0.8443\n",
      "Epoch 23/60\n",
      "687/687 [==============================] - 8s 12ms/step - loss: 0.4026 - accuracy: 0.8621 - val_loss: 0.1720 - val_accuracy: 0.8853\n",
      "Epoch 24/60\n",
      "687/687 [==============================] - 8s 11ms/step - loss: 0.3881 - accuracy: 0.8686 - val_loss: 1.0106 - val_accuracy: 0.7325\n",
      "Epoch 25/60\n",
      "687/687 [==============================] - 8s 11ms/step - loss: 0.3882 - accuracy: 0.8694 - val_loss: 0.9535 - val_accuracy: 0.7359\n",
      "Epoch 26/60\n",
      "687/687 [==============================] - 8s 11ms/step - loss: 0.3703 - accuracy: 0.8747 - val_loss: 0.5513 - val_accuracy: 0.8895\n",
      "Epoch 27/60\n",
      "687/687 [==============================] - 8s 11ms/step - loss: 0.3611 - accuracy: 0.8768 - val_loss: 0.3228 - val_accuracy: 0.8498\n",
      "Epoch 28/60\n",
      "687/687 [==============================] - 8s 11ms/step - loss: 0.3471 - accuracy: 0.8831 - val_loss: 0.3140 - val_accuracy: 0.9295\n",
      "Epoch 29/60\n",
      "687/687 [==============================] - 8s 11ms/step - loss: 0.3370 - accuracy: 0.8859 - val_loss: 0.1723 - val_accuracy: 0.8847\n",
      "Epoch 30/60\n",
      "687/687 [==============================] - 8s 11ms/step - loss: 0.3436 - accuracy: 0.8853 - val_loss: 0.5557 - val_accuracy: 0.7968\n",
      "Epoch 31/60\n",
      "687/687 [==============================] - 8s 11ms/step - loss: 0.3385 - accuracy: 0.8854 - val_loss: 0.9169 - val_accuracy: 0.8148\n",
      "Epoch 32/60\n",
      "687/687 [==============================] - 8s 11ms/step - loss: 0.3153 - accuracy: 0.8951 - val_loss: 0.5642 - val_accuracy: 0.8844\n",
      "Epoch 33/60\n",
      "687/687 [==============================] - 8s 11ms/step - loss: 0.3031 - accuracy: 0.8959 - val_loss: 0.1581 - val_accuracy: 0.9241\n",
      "Epoch 34/60\n",
      "687/687 [==============================] - 8s 12ms/step - loss: 0.3170 - accuracy: 0.8931 - val_loss: 0.5216 - val_accuracy: 0.8345\n",
      "Epoch 35/60\n",
      "687/687 [==============================] - 8s 11ms/step - loss: 0.3144 - accuracy: 0.8944 - val_loss: 0.6160 - val_accuracy: 0.8142\n",
      "Epoch 36/60\n",
      "687/687 [==============================] - 8s 12ms/step - loss: 0.3106 - accuracy: 0.8954 - val_loss: 0.8611 - val_accuracy: 0.8589\n",
      "Epoch 37/60\n",
      "687/687 [==============================] - 8s 11ms/step - loss: 0.3005 - accuracy: 0.8990 - val_loss: 0.7258 - val_accuracy: 0.8935\n",
      "Epoch 38/60\n",
      "687/687 [==============================] - 8s 11ms/step - loss: 0.2937 - accuracy: 0.9009 - val_loss: 0.6475 - val_accuracy: 0.8507\n",
      "Epoch 39/60\n",
      "687/687 [==============================] - 8s 11ms/step - loss: 0.2966 - accuracy: 0.8983 - val_loss: 1.1330 - val_accuracy: 0.7718\n",
      "Epoch 40/60\n",
      "687/687 [==============================] - 8s 11ms/step - loss: 0.2852 - accuracy: 0.9027 - val_loss: 0.1482 - val_accuracy: 0.8678\n",
      "Epoch 41/60\n",
      "687/687 [==============================] - 8s 11ms/step - loss: 0.2790 - accuracy: 0.9026 - val_loss: 1.1391 - val_accuracy: 0.8762\n",
      "Epoch 42/60\n",
      "687/687 [==============================] - 8s 11ms/step - loss: 0.2821 - accuracy: 0.9039 - val_loss: 0.6011 - val_accuracy: 0.8414\n",
      "Epoch 43/60\n",
      "687/687 [==============================] - 8s 11ms/step - loss: 0.2769 - accuracy: 0.9044 - val_loss: 0.3500 - val_accuracy: 0.8345\n",
      "Epoch 44/60\n",
      "687/687 [==============================] - 8s 11ms/step - loss: 0.2777 - accuracy: 0.9066 - val_loss: 0.2762 - val_accuracy: 0.8962\n",
      "Epoch 45/60\n",
      "687/687 [==============================] - 8s 11ms/step - loss: 0.2640 - accuracy: 0.9099 - val_loss: 0.0331 - val_accuracy: 0.9173\n",
      "Epoch 46/60\n",
      "687/687 [==============================] - 8s 11ms/step - loss: 0.2589 - accuracy: 0.9130 - val_loss: 0.1775 - val_accuracy: 0.9290\n",
      "Epoch 47/60\n",
      "687/687 [==============================] - 8s 11ms/step - loss: 0.2633 - accuracy: 0.9132 - val_loss: 0.1019 - val_accuracy: 0.9521\n",
      "Epoch 48/60\n",
      "687/687 [==============================] - 8s 11ms/step - loss: 0.2547 - accuracy: 0.9150 - val_loss: 0.2530 - val_accuracy: 0.9361\n",
      "Epoch 49/60\n",
      "687/687 [==============================] - 8s 11ms/step - loss: 0.2531 - accuracy: 0.9155 - val_loss: 0.0426 - val_accuracy: 0.9186\n",
      "Epoch 50/60\n",
      "687/687 [==============================] - 8s 11ms/step - loss: 0.2505 - accuracy: 0.9158 - val_loss: 0.4078 - val_accuracy: 0.9366\n",
      "Epoch 51/60\n",
      "687/687 [==============================] - 8s 11ms/step - loss: 0.2480 - accuracy: 0.9158 - val_loss: 0.0262 - val_accuracy: 0.9018\n",
      "Epoch 52/60\n",
      "687/687 [==============================] - 8s 11ms/step - loss: 0.2511 - accuracy: 0.9157 - val_loss: 0.1216 - val_accuracy: 0.9394\n",
      "Epoch 53/60\n",
      "687/687 [==============================] - 8s 11ms/step - loss: 0.2506 - accuracy: 0.9142 - val_loss: 0.3130 - val_accuracy: 0.9370\n",
      "Epoch 54/60\n",
      "687/687 [==============================] - 8s 12ms/step - loss: 0.2400 - accuracy: 0.9186 - val_loss: 0.3175 - val_accuracy: 0.8986\n",
      "Epoch 55/60\n",
      "687/687 [==============================] - 8s 12ms/step - loss: 0.2384 - accuracy: 0.9202 - val_loss: 0.4315 - val_accuracy: 0.9166\n",
      "Epoch 56/60\n",
      "687/687 [==============================] - 8s 12ms/step - loss: 0.2358 - accuracy: 0.9194 - val_loss: 0.1763 - val_accuracy: 0.9410\n",
      "Epoch 57/60\n",
      "687/687 [==============================] - 8s 12ms/step - loss: 0.2449 - accuracy: 0.9184 - val_loss: 0.2063 - val_accuracy: 0.9304\n"
     ]
    },
    {
     "name": "stdout",
     "output_type": "stream",
     "text": [
      "Epoch 58/60\n",
      "687/687 [==============================] - 8s 11ms/step - loss: 0.2346 - accuracy: 0.9202 - val_loss: 0.1386 - val_accuracy: 0.9268\n",
      "Epoch 59/60\n",
      "687/687 [==============================] - 8s 12ms/step - loss: 0.2387 - accuracy: 0.9206 - val_loss: 0.4248 - val_accuracy: 0.9029\n",
      "Epoch 60/60\n",
      "687/687 [==============================] - 8s 11ms/step - loss: 0.2244 - accuracy: 0.9223 - val_loss: 0.2230 - val_accuracy: 0.8432\n"
     ]
    }
   ],
   "source": [
    "history=model.fit(traindata_generator,epochs=60,validation_data=validationdata_generator,callbacks=[callback])"
   ]
  },
  {
   "cell_type": "code",
   "execution_count": 19,
   "metadata": {},
   "outputs": [
    {
     "data": {
      "image/png": "[encoded data removed]",
      "text/plain": [
       "<Figure size 432x288 with 1 Axes>"
      ]
     },
     "metadata": {
      "needs_background": "light"
     },
     "output_type": "display_data"
    },
    {
     "data": {
      "image/png": "[encoded data removed]",
      "text/plain": [
       "<Figure size 432x288 with 1 Axes>"
      ]
     },
     "metadata": {
      "needs_background": "light"
     },
     "output_type": "display_data"
    }
   ],
   "source": [
    "acc = history.history['accuracy']\n",
    "val_acc = history.history['val_accuracy']\n",
    "loss = history.history['loss']\n",
    "val_loss = history.history['val_loss']\n",
    "\n",
    "epochs = range(len(acc))\n",
    "\n",
    "plt.plot(epochs, acc, 'r', label='Training accuracy')\n",
    "plt.plot(epochs, val_acc, 'b', label='Validation accuracy')\n",
    "plt.title('Training and validation accuracy')\n",
    "plt.legend()\n",
    "plt.figure()\n",
    "\n",
    "plt.plot(epochs, loss, 'r', label='Training Loss')\n",
    "plt.plot(epochs, val_loss, 'b', label='Validation Loss')\n",
    "plt.title('Training and validation loss')\n",
    "plt.legend()\n",
    "\n",
    "plt.show()"
   ]
  },
  {
   "cell_type": "code",
   "execution_count": 20,
   "metadata": {},
   "outputs": [
    {
     "name": "stdout",
     "output_type": "stream",
     "text": [
      "test accuracy: 94.38092708587646\n"
     ]
    }
   ],
   "source": [
    "print(\"test accuracy: \"+ str(model.evaluate_generator(testdata_generator)[1]*100))"
   ]
  },
  {
   "cell_type": "code",
   "execution_count": 21,
   "metadata": {},
   "outputs": [
    {
     "name": "stdout",
     "output_type": "stream",
     "text": [
      "Epoch 61/100\n",
      "687/687 [==============================] - 8s 11ms/step - loss: 0.2393 - accuracy: 0.9179 - val_loss: 0.0959 - val_accuracy: 0.9432\n",
      "Epoch 62/100\n",
      "687/687 [==============================] - 8s 11ms/step - loss: 0.2294 - accuracy: 0.9215 - val_loss: 0.0910 - val_accuracy: 0.9368\n",
      "Epoch 63/100\n",
      "687/687 [==============================] - 8s 11ms/step - loss: 0.2372 - accuracy: 0.9199 - val_loss: 0.0281 - val_accuracy: 0.9414\n",
      "Epoch 64/100\n",
      "687/687 [==============================] - 8s 11ms/step - loss: 0.2196 - accuracy: 0.9256 - val_loss: 0.1403 - val_accuracy: 0.9601\n",
      "Epoch 65/100\n",
      "687/687 [==============================] - 8s 11ms/step - loss: 0.2159 - accuracy: 0.9276 - val_loss: 0.2473 - val_accuracy: 0.9450\n",
      "Epoch 66/100\n",
      "687/687 [==============================] - 8s 11ms/step - loss: 0.2297 - accuracy: 0.9220 - val_loss: 0.4060 - val_accuracy: 0.9164\n",
      "Epoch 67/100\n",
      "687/687 [==============================] - 8s 11ms/step - loss: 0.2267 - accuracy: 0.9234 - val_loss: 0.5444 - val_accuracy: 0.8978\n",
      "Epoch 68/100\n",
      "687/687 [==============================] - 8s 11ms/step - loss: 0.2312 - accuracy: 0.9209 - val_loss: 2.1178 - val_accuracy: 0.7008\n",
      "Epoch 69/100\n",
      "687/687 [==============================] - 8s 11ms/step - loss: 0.2138 - accuracy: 0.9276 - val_loss: 0.0362 - val_accuracy: 0.9590\n",
      "Epoch 70/100\n",
      "687/687 [==============================] - 8s 11ms/step - loss: 0.2121 - accuracy: 0.9267 - val_loss: 0.0529 - val_accuracy: 0.9404\n",
      "Epoch 71/100\n",
      "687/687 [==============================] - 8s 11ms/step - loss: 0.2147 - accuracy: 0.9264 - val_loss: 0.6717 - val_accuracy: 0.9335\n",
      "Epoch 72/100\n",
      "687/687 [==============================] - 8s 11ms/step - loss: 0.2093 - accuracy: 0.9308 - val_loss: 0.1956 - val_accuracy: 0.9299\n",
      "Epoch 73/100\n",
      "687/687 [==============================] - 8s 11ms/step - loss: 0.2032 - accuracy: 0.9309 - val_loss: 0.5795 - val_accuracy: 0.8195\n",
      "Epoch 74/100\n",
      "687/687 [==============================] - 8s 11ms/step - loss: 0.1999 - accuracy: 0.9328 - val_loss: 1.1877 - val_accuracy: 0.8904\n",
      "Epoch 75/100\n",
      "687/687 [==============================] - 8s 11ms/step - loss: 0.2176 - accuracy: 0.9268 - val_loss: 0.1615 - val_accuracy: 0.9506\n",
      "Epoch 76/100\n",
      "687/687 [==============================] - 8s 11ms/step - loss: 0.1970 - accuracy: 0.9320 - val_loss: 0.1828 - val_accuracy: 0.9193\n",
      "Epoch 77/100\n",
      "687/687 [==============================] - 8s 12ms/step - loss: 0.2054 - accuracy: 0.9314 - val_loss: 0.2067 - val_accuracy: 0.9510\n",
      "Epoch 78/100\n",
      "687/687 [==============================] - 8s 12ms/step - loss: 0.1975 - accuracy: 0.9338 - val_loss: 0.2155 - val_accuracy: 0.9330\n",
      "Epoch 79/100\n",
      "687/687 [==============================] - 8s 11ms/step - loss: 0.1939 - accuracy: 0.9353 - val_loss: 0.5849 - val_accuracy: 0.8406\n",
      "Epoch 80/100\n",
      "687/687 [==============================] - 8s 11ms/step - loss: 0.2002 - accuracy: 0.9321 - val_loss: 0.8430 - val_accuracy: 0.8947\n",
      "Epoch 81/100\n",
      "687/687 [==============================] - 8s 11ms/step - loss: 0.1941 - accuracy: 0.9342 - val_loss: 0.2564 - val_accuracy: 0.9392\n",
      "Epoch 82/100\n",
      "687/687 [==============================] - 8s 11ms/step - loss: 0.1996 - accuracy: 0.9302 - val_loss: 0.9614 - val_accuracy: 0.8101\n",
      "Epoch 83/100\n",
      "687/687 [==============================] - 8s 11ms/step - loss: 0.2060 - accuracy: 0.9310 - val_loss: 0.1875 - val_accuracy: 0.9483\n",
      "Epoch 84/100\n",
      "687/687 [==============================] - 8s 11ms/step - loss: 0.1868 - accuracy: 0.9366 - val_loss: 0.1618 - val_accuracy: 0.9543\n",
      "Epoch 85/100\n",
      "687/687 [==============================] - 8s 12ms/step - loss: 0.1981 - accuracy: 0.9356 - val_loss: 0.1482 - val_accuracy: 0.9552\n",
      "Epoch 86/100\n",
      "687/687 [==============================] - 8s 11ms/step - loss: 0.2062 - accuracy: 0.9302 - val_loss: 0.4290 - val_accuracy: 0.9058\n",
      "Epoch 87/100\n",
      "687/687 [==============================] - 8s 11ms/step - loss: 0.2024 - accuracy: 0.9325 - val_loss: 0.4447 - val_accuracy: 0.8718\n",
      "Epoch 88/100\n",
      "687/687 [==============================] - 8s 11ms/step - loss: 0.1951 - accuracy: 0.9352 - val_loss: 0.0959 - val_accuracy: 0.9231\n",
      "Epoch 89/100\n",
      "687/687 [==============================] - 8s 11ms/step - loss: 0.1900 - accuracy: 0.9370 - val_loss: 1.1056 - val_accuracy: 0.9337\n",
      "Epoch 90/100\n",
      "687/687 [==============================] - 9s 13ms/step - loss: 0.1884 - accuracy: 0.9365 - val_loss: 0.0185 - val_accuracy: 0.9594\n",
      "Epoch 91/100\n",
      "687/687 [==============================] - 8s 12ms/step - loss: 0.1822 - accuracy: 0.9360 - val_loss: 0.0631 - val_accuracy: 0.9441\n",
      "Epoch 92/100\n",
      "687/687 [==============================] - 8s 11ms/step - loss: 0.1807 - accuracy: 0.9380 - val_loss: 0.6787 - val_accuracy: 0.9266\n",
      "Epoch 93/100\n",
      "687/687 [==============================] - 8s 11ms/step - loss: 0.1819 - accuracy: 0.9372 - val_loss: 0.0639 - val_accuracy: 0.9641\n",
      "Epoch 94/100\n",
      "687/687 [==============================] - 8s 11ms/step - loss: 0.1805 - accuracy: 0.9388 - val_loss: 0.1394 - val_accuracy: 0.9171\n",
      "Epoch 95/100\n",
      "687/687 [==============================] - 8s 11ms/step - loss: 0.1866 - accuracy: 0.9373 - val_loss: 0.1108 - val_accuracy: 0.9585\n",
      "Epoch 96/100\n",
      "687/687 [==============================] - 8s 11ms/step - loss: 0.1824 - accuracy: 0.9395 - val_loss: 1.7948 - val_accuracy: 0.7272\n",
      "Epoch 97/100\n",
      "687/687 [==============================] - 8s 11ms/step - loss: 0.1752 - accuracy: 0.9407 - val_loss: 0.0165 - val_accuracy: 0.9492\n",
      "Epoch 98/100\n",
      "687/687 [==============================] - 8s 11ms/step - loss: 0.1787 - accuracy: 0.9397 - val_loss: 0.1122 - val_accuracy: 0.9707\n",
      "Epoch 99/100\n",
      "687/687 [==============================] - 8s 11ms/step - loss: 0.1773 - accuracy: 0.9407 - val_loss: 0.1037 - val_accuracy: 0.9536\n",
      "Epoch 100/100\n",
      "687/687 [==============================] - 8s 12ms/step - loss: 0.1762 - accuracy: 0.9409 - val_loss: 0.0355 - val_accuracy: 0.9344\n"
     ]
    }
   ],
   "source": [
    "history=model.fit(traindata_generator,epochs=100,validation_data=validationdata_generator,callbacks=[callback],initial_epoch=60)"
   ]
  },
  {
   "cell_type": "code",
   "execution_count": 22,
   "metadata": {},
   "outputs": [
    {
     "data": {
      "image/png": "[encoded data removed]",
      "text/plain": [
       "<Figure size 432x288 with 1 Axes>"
      ]
     },
     "metadata": {
      "needs_background": "light"
     },
     "output_type": "display_data"
    },
    {
     "data": {
      "image/png": "[encoded data removed]",
      "text/plain": [
       "<Figure size 432x288 with 1 Axes>"
      ]
     },
     "metadata": {
      "needs_background": "light"
     },
     "output_type": "display_data"
    }
   ],
   "source": [
    "acc = history.history['accuracy']\n",
    "val_acc = history.history['val_accuracy']\n",
    "loss = history.history['loss']\n",
    "val_loss = history.history['val_loss']\n",
    "\n",
    "epochs = range(len(acc))\n",
    "\n",
    "plt.plot(epochs, acc, 'r', label='Training accuracy')\n",
    "plt.plot(epochs, val_acc, 'b', label='Validation accuracy')\n",
    "plt.title('Training and validation accuracy')\n",
    "plt.legend()\n",
    "plt.figure()\n",
    "\n",
    "plt.plot(epochs, loss, 'r', label='Training Loss')\n",
    "plt.plot(epochs, val_loss, 'b', label='Validation Loss')\n",
    "plt.title('Training and validation loss')\n",
    "plt.legend()\n",
    "\n",
    "plt.show()"
   ]
  },
  {
   "cell_type": "code",
   "execution_count": 23,
   "metadata": {},
   "outputs": [
    {
     "name": "stdout",
     "output_type": "stream",
     "text": [
      "test accuracy: 98.42442870140076\n"
     ]
    }
   ],
   "source": [
    "print(\"test accuracy: \"+ str(model.evaluate_generator(testdata_generator)[1]*100))"
   ]
  },
  {
   "cell_type": "code",
   "execution_count": null,
   "metadata": {},
   "outputs": [],
   "source": []
  }
 ],
 "metadata": {
  "kernelspec": {
   "display_name": "Python 3",
   "language": "python",
   "name": "python3"
  },
  "language_info": {
   "codemirror_mode": {
    "name": "ipython",
    "version": 3
   },
   "file_extension": ".py",
   "mimetype": "text/x-python",
   "name": "python",
   "nbconvert_exporter": "python",
   "pygments_lexer": "ipython3",
   "version": "3.7.4"
  }
 },
 "nbformat": 4,
 "nbformat_minor": 2
}
