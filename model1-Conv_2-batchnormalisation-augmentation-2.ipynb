{
 "cells": [
  {
   "cell_type": "code",
   "execution_count": 1,
   "metadata": {},
   "outputs": [
    {
     "name": "stderr",
     "output_type": "stream",
     "text": [
      "Using TensorFlow backend.\n"
     ]
    }
   ],
   "source": [
    "import tensorflow as tf\n",
    "import keras\n",
    "from keras.callbacks import *\n",
    "import numpy as np\n",
    "import pandas as pd\n",
    "import matplotlib.pyplot as plt\n",
    "from keras.models import Sequential\n",
    "from keras.layers import *"
   ]
  },
  {
   "cell_type": "code",
   "execution_count": 2,
   "metadata": {},
   "outputs": [],
   "source": [
    "traindata = pd.read_csv('sign_mnist_train.csv')"
   ]
  },
  {
   "cell_type": "code",
   "execution_count": 3,
   "metadata": {},
   "outputs": [],
   "source": [
    "trainlabel=traindata['label'].values"
   ]
  },
  {
   "cell_type": "code",
   "execution_count": 4,
   "metadata": {},
   "outputs": [],
   "source": [
    "traindata.drop('label',inplace=True,axis=1)\n",
    "trainimages = traindata.values"
   ]
  },
  {
   "cell_type": "code",
   "execution_count": 5,
   "metadata": {},
   "outputs": [],
   "source": [
    "trainimages=trainimages.reshape(-1,28,28,1)"
   ]
  },
  {
   "cell_type": "code",
   "execution_count": 6,
   "metadata": {},
   "outputs": [],
   "source": [
    "testdata = pd.read_csv('sign_mnist_test.csv')"
   ]
  },
  {
   "cell_type": "code",
   "execution_count": 7,
   "metadata": {},
   "outputs": [],
   "source": [
    "testlabel=testdata['label'].values"
   ]
  },
  {
   "cell_type": "code",
   "execution_count": 8,
   "metadata": {},
   "outputs": [],
   "source": [
    "testdata.drop('label',inplace=True,axis=1)\n",
    "testimages = testdata.values"
   ]
  },
  {
   "cell_type": "code",
   "execution_count": 9,
   "metadata": {},
   "outputs": [],
   "source": [
    "testimages=testimages.reshape(-1,28,28,1)"
   ]
  },
  {
   "cell_type": "code",
   "execution_count": 10,
   "metadata": {},
   "outputs": [],
   "source": [
    "from keras.preprocessing.image import ImageDataGenerator"
   ]
  },
  {
   "cell_type": "code",
   "execution_count": 11,
   "metadata": {},
   "outputs": [],
   "source": [
    "traingen=ImageDataGenerator(rotation_range=20,zoom_range=0.1,width_shift_range=0.1,height_shift_range=0.1,\n",
    "                  shear_range=0.1,horizontal_flip=True,rescale=1/255.0,validation_split=0.1)"
   ]
  },
  {
   "cell_type": "code",
   "execution_count": 12,
   "metadata": {},
   "outputs": [],
   "source": [
    "traindata_generator = traingen.flow(trainimages,trainlabel,subset='training')\n",
    "validationdata_generator = traingen.flow(trainimages,trainlabel,subset='validation')"
   ]
  },
  {
   "cell_type": "code",
   "execution_count": 13,
   "metadata": {},
   "outputs": [],
   "source": [
    "testgen=ImageDataGenerator(rescale=1/255.0)\n",
    "testdata_generator = testgen.flow(testimages,testlabel)"
   ]
  },
  {
   "cell_type": "code",
   "execution_count": 14,
   "metadata": {},
   "outputs": [],
   "source": [
    "model=Sequential([])\n",
    "\n",
    "model.add(Conv2D(64,(3,3),activation=\"relu\",input_shape=(28,28,1)))\n",
    "model.add(BatchNormalization())\n",
    "# model.add(Conv2D(64,(3,3),activation=\"relu\"))\n",
    "# model.add(BatchNormalization())\n",
    "model.add(MaxPooling2D(2,2))\n",
    "#model.add(Dropout(0.4))\n",
    "\n",
    "model.add(Conv2D(128,(3,3),activation=\"relu\"))\n",
    "model.add(BatchNormalization())\n",
    "# model.add(Conv2D(128,(3,3),activation=\"relu\"))\n",
    "# model.add(BatchNormalization())\n",
    "model.add(MaxPooling2D(2,2))\n",
    "#model.add(Dropout(0.4))\n",
    "\n",
    "model.add(Flatten())\n",
    "model.add(BatchNormalization())\n",
    "#model.add(Dropout(0.4))\n",
    "model.add(Dense(256,activation=\"relu\"))\n",
    "model.add(BatchNormalization())\n",
    "#model.add(Dropout(0.4))\n",
    "model.add(Dense(26,activation=\"softmax\"))\n"
   ]
  },
  {
   "cell_type": "code",
   "execution_count": 15,
   "metadata": {},
   "outputs": [],
   "source": [
    "model.compile(loss=\"sparse_categorical_crossentropy\",optimizer='adam',metrics=['accuracy'])"
   ]
  },
  {
   "cell_type": "code",
   "execution_count": 16,
   "metadata": {},
   "outputs": [
    {
     "name": "stdout",
     "output_type": "stream",
     "text": [
      "Model: \"sequential_1\"\n",
      "_________________________________________________________________\n",
      "Layer (type)                 Output Shape              Param #   \n",
      "=================================================================\n",
      "conv2d_1 (Conv2D)            (None, 26, 26, 64)        640       \n",
      "_________________________________________________________________\n",
      "batch_normalization_1 (Batch (None, 26, 26, 64)        256       \n",
      "_________________________________________________________________\n",
      "max_pooling2d_1 (MaxPooling2 (None, 13, 13, 64)        0         \n",
      "_________________________________________________________________\n",
      "conv2d_2 (Conv2D)            (None, 11, 11, 128)       73856     \n",
      "_________________________________________________________________\n",
      "batch_normalization_2 (Batch (None, 11, 11, 128)       512       \n",
      "_________________________________________________________________\n",
      "max_pooling2d_2 (MaxPooling2 (None, 5, 5, 128)         0         \n",
      "_________________________________________________________________\n",
      "flatten_1 (Flatten)          (None, 3200)              0         \n",
      "_________________________________________________________________\n",
      "batch_normalization_3 (Batch (None, 3200)              12800     \n",
      "_________________________________________________________________\n",
      "dense_1 (Dense)              (None, 256)               819456    \n",
      "_________________________________________________________________\n",
      "batch_normalization_4 (Batch (None, 256)               1024      \n",
      "_________________________________________________________________\n",
      "dense_2 (Dense)              (None, 26)                6682      \n",
      "=================================================================\n",
      "Total params: 915,226\n",
      "Trainable params: 907,930\n",
      "Non-trainable params: 7,296\n",
      "_________________________________________________________________\n"
     ]
    }
   ],
   "source": [
    "model.summary()"
   ]
  },
  {
   "cell_type": "code",
   "execution_count": 17,
   "metadata": {},
   "outputs": [],
   "source": [
    "# Define a Callback class that stops training once accuracy reaches 97.0%\n",
    "class myCallback(Callback):\n",
    "  def on_epoch_end(self, epoch, logs={}):\n",
    "    if(logs.get('val_accuracy')>0.995):\n",
    "      print(\"\\nReached 99.5% accuracy so cancelling training!\")\n",
    "      self.model.stop_training = True\n",
    "callback=myCallback()"
   ]
  },
  {
   "cell_type": "code",
   "execution_count": 19,
   "metadata": {},
   "outputs": [
    {
     "name": "stdout",
     "output_type": "stream",
     "text": [
      "Epoch 1/50\n",
      "773/773 [==============================] - 8s 10ms/step - loss: 0.6587 - accuracy: 0.7915 - val_loss: 0.4311 - val_accuracy: 0.8211\n",
      "Epoch 2/50\n",
      "773/773 [==============================] - 8s 10ms/step - loss: 0.2813 - accuracy: 0.9117 - val_loss: 0.4937 - val_accuracy: 0.9071\n",
      "Epoch 3/50\n",
      "773/773 [==============================] - 8s 11ms/step - loss: 0.1893 - accuracy: 0.9406 - val_loss: 1.1174 - val_accuracy: 0.7104\n",
      "Epoch 4/50\n",
      "773/773 [==============================] - 8s 10ms/step - loss: 0.1564 - accuracy: 0.9494 - val_loss: 6.7603 - val_accuracy: 0.4302\n",
      "Epoch 5/50\n",
      "773/773 [==============================] - 8s 10ms/step - loss: 0.1248 - accuracy: 0.9607 - val_loss: 1.7861 - val_accuracy: 0.5439\n",
      "Epoch 6/50\n",
      "773/773 [==============================] - 8s 10ms/step - loss: 0.1189 - accuracy: 0.9616 - val_loss: 1.4909 - val_accuracy: 0.5865\n",
      "Epoch 7/50\n",
      "773/773 [==============================] - 8s 10ms/step - loss: 0.1088 - accuracy: 0.9642 - val_loss: 0.8824 - val_accuracy: 0.6189\n",
      "Epoch 8/50\n",
      "773/773 [==============================] - 8s 10ms/step - loss: 0.1102 - accuracy: 0.9633 - val_loss: 151.4670 - val_accuracy: 0.0503\n",
      "Epoch 9/50\n",
      "773/773 [==============================] - 8s 10ms/step - loss: 0.0979 - accuracy: 0.9675 - val_loss: 0.1491 - val_accuracy: 0.9475\n",
      "Epoch 10/50\n",
      "773/773 [==============================] - 8s 10ms/step - loss: 0.0799 - accuracy: 0.9749 - val_loss: 0.1940 - val_accuracy: 0.9738\n",
      "Epoch 11/50\n",
      "773/773 [==============================] - 8s 10ms/step - loss: 0.0657 - accuracy: 0.9794 - val_loss: 0.2236 - val_accuracy: 0.8186\n",
      "Epoch 12/50\n",
      "773/773 [==============================] - 8s 10ms/step - loss: 0.0680 - accuracy: 0.9786 - val_loss: 0.2963 - val_accuracy: 0.9097\n",
      "Epoch 13/50\n",
      "773/773 [==============================] - 8s 10ms/step - loss: 0.0688 - accuracy: 0.9769 - val_loss: 740.2717 - val_accuracy: 0.0765\n",
      "Epoch 14/50\n",
      "773/773 [==============================] - 8s 10ms/step - loss: 0.0743 - accuracy: 0.9748 - val_loss: 0.2507 - val_accuracy: 0.8175\n",
      "Epoch 15/50\n",
      "773/773 [==============================] - 8s 10ms/step - loss: 0.0591 - accuracy: 0.9798 - val_loss: 0.0590 - val_accuracy: 0.9468\n",
      "Epoch 16/50\n",
      "773/773 [==============================] - 8s 10ms/step - loss: 0.0555 - accuracy: 0.9828 - val_loss: 1.3359 - val_accuracy: 0.7421\n",
      "Epoch 17/50\n",
      "773/773 [==============================] - 8s 10ms/step - loss: 0.0480 - accuracy: 0.9844 - val_loss: 0.0426 - val_accuracy: 0.9749\n",
      "Epoch 18/50\n",
      "773/773 [==============================] - 8s 10ms/step - loss: 0.0573 - accuracy: 0.9815 - val_loss: 3.7292 - val_accuracy: 0.5566\n",
      "Epoch 19/50\n",
      "773/773 [==============================] - 8s 10ms/step - loss: 0.0481 - accuracy: 0.9842 - val_loss: 0.0267 - val_accuracy: 0.9588\n",
      "Epoch 20/50\n",
      "773/773 [==============================] - 8s 10ms/step - loss: 0.0551 - accuracy: 0.9824 - val_loss: 0.0363 - val_accuracy: 0.9461\n",
      "Epoch 21/50\n",
      "773/773 [==============================] - 8s 10ms/step - loss: 0.0478 - accuracy: 0.9835 - val_loss: 0.3391 - val_accuracy: 0.8200\n",
      "Epoch 22/50\n",
      "773/773 [==============================] - 8s 10ms/step - loss: 0.0503 - accuracy: 0.9838 - val_loss: 0.3068 - val_accuracy: 0.8036\n",
      "Epoch 23/50\n",
      "773/773 [==============================] - 8s 10ms/step - loss: 0.0460 - accuracy: 0.9841 - val_loss: 0.1791 - val_accuracy: 0.9377\n",
      "Epoch 24/50\n",
      "773/773 [==============================] - 8s 10ms/step - loss: 0.0416 - accuracy: 0.9857 - val_loss: 0.3893 - val_accuracy: 0.9337\n",
      "Epoch 25/50\n",
      "773/773 [==============================] - 8s 10ms/step - loss: 0.0371 - accuracy: 0.9878 - val_loss: 0.1491 - val_accuracy: 0.9683\n",
      "Epoch 26/50\n",
      "773/773 [==============================] - 8s 10ms/step - loss: 0.0381 - accuracy: 0.9879 - val_loss: 0.9026 - val_accuracy: 0.8270\n",
      "Epoch 27/50\n",
      "773/773 [==============================] - 8s 10ms/step - loss: 0.0439 - accuracy: 0.9849 - val_loss: 0.0948 - val_accuracy: 0.9719\n",
      "Epoch 28/50\n",
      "773/773 [==============================] - 8s 10ms/step - loss: 0.0377 - accuracy: 0.9879 - val_loss: 0.2767 - val_accuracy: 0.8601\n",
      "Epoch 29/50\n",
      "773/773 [==============================] - 8s 10ms/step - loss: 0.0397 - accuracy: 0.9882 - val_loss: 6.6217 - val_accuracy: 0.8798\n",
      "Epoch 30/50\n",
      "773/773 [==============================] - 8s 10ms/step - loss: 0.0378 - accuracy: 0.9880 - val_loss: 5.4076 - val_accuracy: 0.5366\n",
      "Epoch 31/50\n",
      "773/773 [==============================] - 8s 10ms/step - loss: 0.0472 - accuracy: 0.9842 - val_loss: 0.0326 - val_accuracy: 0.9913\n",
      "Epoch 32/50\n",
      "773/773 [==============================] - 8s 10ms/step - loss: 0.0339 - accuracy: 0.9896 - val_loss: 0.0134 - val_accuracy: 0.9909\n",
      "Epoch 33/50\n",
      "773/773 [==============================] - 8s 10ms/step - loss: 0.0252 - accuracy: 0.9918 - val_loss: 0.1769 - val_accuracy: 0.9741\n",
      "Epoch 34/50\n",
      "773/773 [==============================] - 8s 10ms/step - loss: 0.0288 - accuracy: 0.9905 - val_loss: 0.0278 - val_accuracy: 0.9654\n",
      "Epoch 35/50\n",
      "773/773 [==============================] - 8s 10ms/step - loss: 0.0328 - accuracy: 0.9887 - val_loss: 0.2154 - val_accuracy: 0.8474\n",
      "Epoch 36/50\n",
      "773/773 [==============================] - 8s 10ms/step - loss: 0.0328 - accuracy: 0.9894 - val_loss: 0.0271 - val_accuracy: 0.9814\n",
      "Epoch 37/50\n",
      "773/773 [==============================] - 8s 10ms/step - loss: 0.0272 - accuracy: 0.9911 - val_loss: 0.3508 - val_accuracy: 0.9690\n",
      "Epoch 38/50\n",
      "773/773 [==============================] - 8s 10ms/step - loss: 0.0286 - accuracy: 0.9908 - val_loss: 0.0042 - val_accuracy: 0.9880\n",
      "Epoch 39/50\n",
      "773/773 [==============================] - 8s 10ms/step - loss: 0.0266 - accuracy: 0.9911 - val_loss: 0.0151 - val_accuracy: 0.9858\n",
      "Epoch 40/50\n",
      "773/773 [==============================] - 8s 10ms/step - loss: 0.0305 - accuracy: 0.9898 - val_loss: 3.8962 - val_accuracy: 0.5144\n",
      "Epoch 41/50\n",
      "773/773 [==============================] - 8s 11ms/step - loss: 0.0267 - accuracy: 0.9924 - val_loss: 0.0802 - val_accuracy: 0.9832\n",
      "Epoch 42/50\n",
      "773/773 [==============================] - 8s 10ms/step - loss: 0.0232 - accuracy: 0.9927 - val_loss: 5.0927e-04 - val_accuracy: 0.9956\n",
      "\n",
      "Reached 99.5% accuracy so cancelling training!\n"
     ]
    }
   ],
   "source": [
    "history=model.fit(traindata_generator,epochs=50,validation_data=validationdata_generator,callbacks=[callback])"
   ]
  },
  {
   "cell_type": "code",
   "execution_count": 20,
   "metadata": {},
   "outputs": [
    {
     "data": {
      "image/png": "[encoded data removed]",
      "text/plain": [
       "<Figure size 432x288 with 1 Axes>"
      ]
     },
     "metadata": {
      "needs_background": "light"
     },
     "output_type": "display_data"
    },
    {
     "data": {
      "image/png": "[encoded data removed]",
      "text/plain": [
       "<Figure size 432x288 with 1 Axes>"
      ]
     },
     "metadata": {
      "needs_background": "light"
     },
     "output_type": "display_data"
    }
   ],
   "source": [
    "acc = history.history['accuracy']\n",
    "val_acc = history.history['val_accuracy']\n",
    "loss = history.history['loss']\n",
    "val_loss = history.history['val_loss']\n",
    "\n",
    "epochs = range(len(acc))\n",
    "\n",
    "plt.plot(epochs, acc, 'r', label='Training accuracy')\n",
    "plt.plot(epochs, val_acc, 'b', label='Validation accuracy')\n",
    "plt.title('Training and validation accuracy')\n",
    "plt.legend()\n",
    "plt.figure()\n",
    "\n",
    "plt.plot(epochs, loss, 'r', label='Training Loss')\n",
    "plt.plot(epochs, val_loss, 'b', label='Validation Loss')\n",
    "plt.title('Training and validation loss')\n",
    "plt.legend()\n",
    "\n",
    "plt.show()"
   ]
  },
  {
   "cell_type": "code",
   "execution_count": 21,
   "metadata": {},
   "outputs": [
    {
     "name": "stdout",
     "output_type": "stream",
     "text": [
      "test accuracy: 99.81874227523804\n"
     ]
    }
   ],
   "source": [
    "print(\"test accuracy: \"+ str(model.evaluate_generator(testdata_generator)[1]*100))"
   ]
  },
  {
   "cell_type": "code",
   "execution_count": null,
   "metadata": {},
   "outputs": [],
   "source": []
  }
 ],
 "metadata": {
  "kernelspec": {
   "display_name": "Python 3",
   "language": "python",
   "name": "python3"
  },
  "language_info": {
   "codemirror_mode": {
    "name": "ipython",
    "version": 3
   },
   "file_extension": ".py",
   "mimetype": "text/x-python",
   "name": "python",
   "nbconvert_exporter": "python",
   "pygments_lexer": "ipython3",
   "version": "3.7.4"
  }
 },
 "nbformat": 4,
 "nbformat_minor": 2
}
