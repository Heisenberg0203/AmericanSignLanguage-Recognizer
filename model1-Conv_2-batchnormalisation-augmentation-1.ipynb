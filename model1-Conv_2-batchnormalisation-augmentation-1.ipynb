{
 "cells": [
  {
   "cell_type": "code",
   "execution_count": 1,
   "metadata": {},
   "outputs": [
    {
     "name": "stderr",
     "output_type": "stream",
     "text": [
      "Using TensorFlow backend.\n"
     ]
    }
   ],
   "source": [
    "import tensorflow as tf\n",
    "import keras\n",
    "from keras.callbacks import *\n",
    "import numpy as np\n",
    "import pandas as pd\n",
    "import matplotlib.pyplot as plt\n",
    "from keras.models import Sequential\n",
    "from keras.layers import *"
   ]
  },
  {
   "cell_type": "code",
   "execution_count": 2,
   "metadata": {},
   "outputs": [],
   "source": [
    "traindata = pd.read_csv('sign_mnist_train.csv')"
   ]
  },
  {
   "cell_type": "code",
   "execution_count": 3,
   "metadata": {},
   "outputs": [],
   "source": [
    "trainlabel=traindata['label'].values"
   ]
  },
  {
   "cell_type": "code",
   "execution_count": 4,
   "metadata": {},
   "outputs": [],
   "source": [
    "traindata.drop('label',inplace=True,axis=1)\n",
    "trainimages = traindata.values"
   ]
  },
  {
   "cell_type": "code",
   "execution_count": 5,
   "metadata": {},
   "outputs": [],
   "source": [
    "trainimages=trainimages.reshape(-1,28,28,1)"
   ]
  },
  {
   "cell_type": "code",
   "execution_count": 6,
   "metadata": {},
   "outputs": [],
   "source": [
    "testdata = pd.read_csv('sign_mnist_test.csv')"
   ]
  },
  {
   "cell_type": "code",
   "execution_count": 7,
   "metadata": {},
   "outputs": [],
   "source": [
    "testlabel=testdata['label'].values"
   ]
  },
  {
   "cell_type": "code",
   "execution_count": 8,
   "metadata": {},
   "outputs": [],
   "source": [
    "testdata.drop('label',inplace=True,axis=1)\n",
    "testimages = testdata.values"
   ]
  },
  {
   "cell_type": "code",
   "execution_count": 9,
   "metadata": {},
   "outputs": [],
   "source": [
    "testimages=testimages.reshape(-1,28,28,1)"
   ]
  },
  {
   "cell_type": "code",
   "execution_count": 10,
   "metadata": {},
   "outputs": [],
   "source": [
    "from keras.preprocessing.image import ImageDataGenerator"
   ]
  },
  {
   "cell_type": "code",
   "execution_count": 11,
   "metadata": {},
   "outputs": [],
   "source": [
    "traingen=ImageDataGenerator(rotation_range=40,zoom_range=0.2,width_shift_range=0.2,height_shift_range=0.2,\n",
    "                  shear_range=0.2,horizontal_flip=True,rescale=1/255.0,validation_split=0.2)"
   ]
  },
  {
   "cell_type": "code",
   "execution_count": 12,
   "metadata": {},
   "outputs": [],
   "source": [
    "traindata_generator = traingen.flow(trainimages,trainlabel,subset='training')\n",
    "validationdata_generator = traingen.flow(trainimages,trainlabel,subset='validation')"
   ]
  },
  {
   "cell_type": "code",
   "execution_count": 13,
   "metadata": {},
   "outputs": [],
   "source": [
    "testgen=ImageDataGenerator(rescale=1/255.0)\n",
    "testdata_generator = testgen.flow(testimages,testlabel)"
   ]
  },
  {
   "cell_type": "code",
   "execution_count": 14,
   "metadata": {},
   "outputs": [],
   "source": [
    "model=Sequential([])\n",
    "\n",
    "model.add(Conv2D(64,(3,3),activation=\"relu\",input_shape=(28,28,1)))\n",
    "model.add(BatchNormalization())\n",
    "model.add(MaxPooling2D(2,2))\n",
    "\n",
    "model.add(Conv2D(128,(3,3),activation=\"relu\"))\n",
    "model.add(BatchNormalization())\n",
    "model.add(MaxPooling2D(2,2))\n",
    "\n",
    "model.add(Flatten())\n",
    "model.add(BatchNormalization())\n",
    "model.add(Dense(256,activation=\"relu\"))\n",
    "model.add(BatchNormalization())\n",
    "model.add(Dense(26,activation=\"softmax\"))\n",
    "\n"
   ]
  },
  {
   "cell_type": "code",
   "execution_count": 15,
   "metadata": {},
   "outputs": [],
   "source": [
    "model.compile(loss=\"sparse_categorical_crossentropy\",optimizer='adam',metrics=['accuracy'])"
   ]
  },
  {
   "cell_type": "code",
   "execution_count": 16,
   "metadata": {},
   "outputs": [
    {
     "name": "stdout",
     "output_type": "stream",
     "text": [
      "Model: \"sequential_1\"\n",
      "_________________________________________________________________\n",
      "Layer (type)                 Output Shape              Param #   \n",
      "=================================================================\n",
      "conv2d_1 (Conv2D)            (None, 26, 26, 64)        640       \n",
      "_________________________________________________________________\n",
      "batch_normalization_1 (Batch (None, 26, 26, 64)        256       \n",
      "_________________________________________________________________\n",
      "max_pooling2d_1 (MaxPooling2 (None, 13, 13, 64)        0         \n",
      "_________________________________________________________________\n",
      "conv2d_2 (Conv2D)            (None, 11, 11, 128)       73856     \n",
      "_________________________________________________________________\n",
      "batch_normalization_2 (Batch (None, 11, 11, 128)       512       \n",
      "_________________________________________________________________\n",
      "max_pooling2d_2 (MaxPooling2 (None, 5, 5, 128)         0         \n",
      "_________________________________________________________________\n",
      "flatten_1 (Flatten)          (None, 3200)              0         \n",
      "_________________________________________________________________\n",
      "batch_normalization_3 (Batch (None, 3200)              12800     \n",
      "_________________________________________________________________\n",
      "dense_1 (Dense)              (None, 256)               819456    \n",
      "_________________________________________________________________\n",
      "batch_normalization_4 (Batch (None, 256)               1024      \n",
      "_________________________________________________________________\n",
      "dense_2 (Dense)              (None, 26)                6682      \n",
      "=================================================================\n",
      "Total params: 915,226\n",
      "Trainable params: 907,930\n",
      "Non-trainable params: 7,296\n",
      "_________________________________________________________________\n"
     ]
    }
   ],
   "source": [
    "model.summary()"
   ]
  },
  {
   "cell_type": "code",
   "execution_count": 18,
   "metadata": {},
   "outputs": [],
   "source": [
    "# Define a Callback class that stops training once accuracy reaches 97.0%\n",
    "class myCallback(Callback):\n",
    "  def on_epoch_end(self, epoch, logs={}):\n",
    "    if(logs.get('accuracy')>0.985):\n",
    "      print(\"\\nReached 98.5% accuracy so cancelling training!\")\n",
    "      self.model.stop_training = True\n",
    "callback=myCallback()"
   ]
  },
  {
   "cell_type": "code",
   "execution_count": 19,
   "metadata": {},
   "outputs": [
    {
     "name": "stdout",
     "output_type": "stream",
     "text": [
      "Epoch 1/40\n",
      "687/687 [==============================] - 10s 15ms/step - loss: 2.1503 - accuracy: 0.3446 - val_loss: 2.7383 - val_accuracy: 0.2564\n",
      "Epoch 2/40\n",
      "687/687 [==============================] - 8s 11ms/step - loss: 1.2079 - accuracy: 0.6066 - val_loss: 0.9692 - val_accuracy: 0.6389\n",
      "Epoch 3/40\n",
      "687/687 [==============================] - 8s 11ms/step - loss: 0.8788 - accuracy: 0.7109 - val_loss: 1.4328 - val_accuracy: 0.4238\n",
      "Epoch 4/40\n",
      "687/687 [==============================] - 8s 12ms/step - loss: 0.7686 - accuracy: 0.7465 - val_loss: 365.7654 - val_accuracy: 0.0517\n",
      "Epoch 5/40\n",
      "687/687 [==============================] - 8s 12ms/step - loss: 0.6430 - accuracy: 0.7855 - val_loss: 2.6605 - val_accuracy: 0.5626\n",
      "Epoch 6/40\n",
      "687/687 [==============================] - 8s 12ms/step - loss: 0.5696 - accuracy: 0.8093 - val_loss: 0.2284 - val_accuracy: 0.7687\n",
      "Epoch 7/40\n",
      "687/687 [==============================] - 8s 12ms/step - loss: 0.5237 - accuracy: 0.8242 - val_loss: 0.8860 - val_accuracy: 0.7414\n",
      "Epoch 8/40\n",
      "687/687 [==============================] - 8s 12ms/step - loss: 0.4750 - accuracy: 0.8385 - val_loss: 0.4206 - val_accuracy: 0.7356\n",
      "Epoch 9/40\n",
      "687/687 [==============================] - 8s 11ms/step - loss: 0.4489 - accuracy: 0.8498 - val_loss: 1.5462 - val_accuracy: 0.7711\n",
      "Epoch 10/40\n",
      "687/687 [==============================] - 8s 11ms/step - loss: 0.4095 - accuracy: 0.8632 - val_loss: 101.0115 - val_accuracy: 0.1078\n",
      "Epoch 11/40\n",
      "687/687 [==============================] - 8s 11ms/step - loss: 0.3894 - accuracy: 0.8669 - val_loss: 0.9741 - val_accuracy: 0.7427\n",
      "Epoch 12/40\n",
      "687/687 [==============================] - 8s 11ms/step - loss: 0.3643 - accuracy: 0.8773 - val_loss: 0.5976 - val_accuracy: 0.7130\n",
      "Epoch 13/40\n",
      "687/687 [==============================] - 8s 11ms/step - loss: 0.3392 - accuracy: 0.8863 - val_loss: 1.2287 - val_accuracy: 0.8086\n",
      "Epoch 14/40\n",
      "687/687 [==============================] - 8s 11ms/step - loss: 0.3443 - accuracy: 0.8849 - val_loss: 0.2035 - val_accuracy: 0.8734\n",
      "Epoch 15/40\n",
      "687/687 [==============================] - 8s 11ms/step - loss: 0.3329 - accuracy: 0.8878 - val_loss: 69.3496 - val_accuracy: 0.1275\n",
      "Epoch 16/40\n",
      "687/687 [==============================] - 8s 11ms/step - loss: 0.3095 - accuracy: 0.8971 - val_loss: 2.4212 - val_accuracy: 0.4884\n",
      "Epoch 17/40\n",
      "687/687 [==============================] - 8s 11ms/step - loss: 0.3073 - accuracy: 0.8948 - val_loss: 0.4124 - val_accuracy: 0.7775\n",
      "Epoch 18/40\n",
      "687/687 [==============================] - 8s 11ms/step - loss: 0.2865 - accuracy: 0.9047 - val_loss: 3.0841 - val_accuracy: 0.4750\n",
      "Epoch 19/40\n",
      "687/687 [==============================] - 8s 11ms/step - loss: 0.2932 - accuracy: 0.9032 - val_loss: 16.9515 - val_accuracy: 0.3764\n",
      "Epoch 20/40\n",
      "687/687 [==============================] - 8s 11ms/step - loss: 0.2567 - accuracy: 0.9149 - val_loss: 1.7882 - val_accuracy: 0.6225\n",
      "Epoch 21/40\n",
      "687/687 [==============================] - 8s 11ms/step - loss: 0.2535 - accuracy: 0.9141 - val_loss: 1.7072 - val_accuracy: 0.7791\n",
      "Epoch 22/40\n",
      "687/687 [==============================] - 8s 11ms/step - loss: 0.2508 - accuracy: 0.9140 - val_loss: 0.2841 - val_accuracy: 0.9073\n",
      "Epoch 23/40\n",
      "687/687 [==============================] - 8s 11ms/step - loss: 0.2370 - accuracy: 0.9201 - val_loss: 0.2343 - val_accuracy: 0.9139\n",
      "Epoch 24/40\n",
      "687/687 [==============================] - 8s 11ms/step - loss: 0.2330 - accuracy: 0.9230 - val_loss: 0.6872 - val_accuracy: 0.8334\n",
      "Epoch 25/40\n",
      "687/687 [==============================] - 8s 11ms/step - loss: 0.2205 - accuracy: 0.9268 - val_loss: 0.1677 - val_accuracy: 0.8656\n",
      "Epoch 26/40\n",
      "687/687 [==============================] - 8s 11ms/step - loss: 0.2204 - accuracy: 0.9265 - val_loss: 12.2205 - val_accuracy: 0.4832\n",
      "Epoch 27/40\n",
      "687/687 [==============================] - 8s 11ms/step - loss: 0.2130 - accuracy: 0.9285 - val_loss: 0.9914 - val_accuracy: 0.8561\n",
      "Epoch 28/40\n",
      "687/687 [==============================] - 8s 11ms/step - loss: 0.2077 - accuracy: 0.9293 - val_loss: 0.2614 - val_accuracy: 0.9037\n",
      "Epoch 29/40\n",
      "687/687 [==============================] - 8s 11ms/step - loss: 0.1975 - accuracy: 0.9343 - val_loss: 0.5602 - val_accuracy: 0.8871\n",
      "Epoch 30/40\n",
      "687/687 [==============================] - 8s 11ms/step - loss: 0.2001 - accuracy: 0.9331 - val_loss: 0.5115 - val_accuracy: 0.8456\n",
      "Epoch 31/40\n",
      "687/687 [==============================] - 8s 11ms/step - loss: 0.1916 - accuracy: 0.9338 - val_loss: 95.8431 - val_accuracy: 0.1930\n",
      "Epoch 32/40\n",
      "687/687 [==============================] - 8s 11ms/step - loss: 0.1859 - accuracy: 0.9383 - val_loss: 0.6307 - val_accuracy: 0.8304\n",
      "Epoch 33/40\n",
      "687/687 [==============================] - 8s 11ms/step - loss: 0.1709 - accuracy: 0.9429 - val_loss: 0.3663 - val_accuracy: 0.8346\n",
      "Epoch 34/40\n",
      "687/687 [==============================] - 8s 11ms/step - loss: 0.1754 - accuracy: 0.9420 - val_loss: 0.0512 - val_accuracy: 0.9190\n",
      "Epoch 35/40\n",
      "687/687 [==============================] - 8s 11ms/step - loss: 0.1700 - accuracy: 0.9434 - val_loss: 1.1317 - val_accuracy: 0.7425\n",
      "Epoch 36/40\n",
      "687/687 [==============================] - 8s 11ms/step - loss: 0.1711 - accuracy: 0.9419 - val_loss: 0.3102 - val_accuracy: 0.9177\n",
      "Epoch 37/40\n",
      "687/687 [==============================] - 8s 11ms/step - loss: 0.1692 - accuracy: 0.9435 - val_loss: 0.2111 - val_accuracy: 0.8345\n",
      "Epoch 38/40\n",
      "687/687 [==============================] - 8s 11ms/step - loss: 0.1707 - accuracy: 0.9439 - val_loss: 1.6201 - val_accuracy: 0.8614\n",
      "Epoch 39/40\n",
      "687/687 [==============================] - 8s 11ms/step - loss: 0.1611 - accuracy: 0.9460 - val_loss: 0.2324 - val_accuracy: 0.8638\n",
      "Epoch 40/40\n",
      "687/687 [==============================] - 8s 12ms/step - loss: 0.1610 - accuracy: 0.9458 - val_loss: 0.4312 - val_accuracy: 0.9310\n"
     ]
    }
   ],
   "source": [
    "history=model.fit(traindata_generator,epochs=40,validation_data=validationdata_generator,callbacks=[callback])"
   ]
  },
  {
   "cell_type": "code",
   "execution_count": 20,
   "metadata": {},
   "outputs": [
    {
     "data": {
      "image/png": "[encoded data removed]",
      "text/plain": [
       "<Figure size 432x288 with 1 Axes>"
      ]
     },
     "metadata": {
      "needs_background": "light"
     },
     "output_type": "display_data"
    },
    {
     "data": {
      "image/png": "[encoded data removed]",
      "text/plain": [
       "<Figure size 432x288 with 1 Axes>"
      ]
     },
     "metadata": {
      "needs_background": "light"
     },
     "output_type": "display_data"
    }
   ],
   "source": [
    "acc = history.history['accuracy']\n",
    "val_acc = history.history['val_accuracy']\n",
    "loss = history.history['loss']\n",
    "val_loss = history.history['val_loss']\n",
    "\n",
    "epochs = range(len(acc))\n",
    "\n",
    "plt.plot(epochs, acc, 'r', label='Training accuracy')\n",
    "plt.plot(epochs, val_acc, 'b', label='Validation accuracy')\n",
    "plt.title('Training and validation accuracy')\n",
    "plt.legend()\n",
    "plt.figure()\n",
    "\n",
    "plt.plot(epochs, loss, 'r', label='Training Loss')\n",
    "plt.plot(epochs, val_loss, 'b', label='Validation Loss')\n",
    "plt.title('Training and validation loss')\n",
    "plt.legend()\n",
    "\n",
    "plt.show()"
   ]
  },
  {
   "cell_type": "code",
   "execution_count": 21,
   "metadata": {},
   "outputs": [
    {
     "name": "stdout",
     "output_type": "stream",
     "text": [
      "test accuracy: 98.4104871749878\n"
     ]
    }
   ],
   "source": [
    "print(\"test accuracy: \"+ str(model.evaluate_generator(testdata_generator)[1]*100))"
   ]
  },
  {
   "cell_type": "code",
   "execution_count": null,
   "metadata": {},
   "outputs": [],
   "source": []
  }
 ],
 "metadata": {
  "kernelspec": {
   "display_name": "Python 3",
   "language": "python",
   "name": "python3"
  },
  "language_info": {
   "codemirror_mode": {
    "name": "ipython",
    "version": 3
   },
   "file_extension": ".py",
   "mimetype": "text/x-python",
   "name": "python",
   "nbconvert_exporter": "python",
   "pygments_lexer": "ipython3",
   "version": "3.7.4"
  }
 },
 "nbformat": 4,
 "nbformat_minor": 2
}
