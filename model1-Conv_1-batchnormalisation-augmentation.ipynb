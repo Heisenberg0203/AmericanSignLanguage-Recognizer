{
 "cells": [
  {
   "cell_type": "code",
   "execution_count": 1,
   "metadata": {},
   "outputs": [
    {
     "name": "stderr",
     "output_type": "stream",
     "text": [
      "Using TensorFlow backend.\n"
     ]
    }
   ],
   "source": [
    "import tensorflow as tf\n",
    "import keras\n",
    "from keras.callbacks import *\n",
    "import numpy as np\n",
    "import pandas as pd\n",
    "import matplotlib.pyplot as plt\n",
    "from keras.models import Sequential\n",
    "from keras.layers import *"
   ]
  },
  {
   "cell_type": "code",
   "execution_count": 2,
   "metadata": {},
   "outputs": [],
   "source": [
    "traindata = pd.read_csv('sign_mnist_train.csv')"
   ]
  },
  {
   "cell_type": "code",
   "execution_count": 3,
   "metadata": {},
   "outputs": [],
   "source": [
    "trainlabel=traindata['label'].values"
   ]
  },
  {
   "cell_type": "code",
   "execution_count": 4,
   "metadata": {},
   "outputs": [],
   "source": [
    "traindata.drop('label',inplace=True,axis=1)\n",
    "trainimages = traindata.values"
   ]
  },
  {
   "cell_type": "code",
   "execution_count": 5,
   "metadata": {},
   "outputs": [],
   "source": [
    "trainimages=trainimages.reshape(-1,28,28,1)"
   ]
  },
  {
   "cell_type": "code",
   "execution_count": 6,
   "metadata": {},
   "outputs": [],
   "source": [
    "testdata = pd.read_csv('sign_mnist_test.csv')"
   ]
  },
  {
   "cell_type": "code",
   "execution_count": 7,
   "metadata": {},
   "outputs": [],
   "source": [
    "testlabel=testdata['label'].values"
   ]
  },
  {
   "cell_type": "code",
   "execution_count": 8,
   "metadata": {},
   "outputs": [],
   "source": [
    "testdata.drop('label',inplace=True,axis=1)\n",
    "testimages = testdata.values"
   ]
  },
  {
   "cell_type": "code",
   "execution_count": 9,
   "metadata": {},
   "outputs": [],
   "source": [
    "testimages=testimages.reshape(-1,28,28,1)"
   ]
  },
  {
   "cell_type": "code",
   "execution_count": 10,
   "metadata": {},
   "outputs": [],
   "source": [
    "from keras.preprocessing.image import ImageDataGenerator"
   ]
  },
  {
   "cell_type": "code",
   "execution_count": 21,
   "metadata": {},
   "outputs": [],
   "source": [
    "traingen=ImageDataGenerator(rotation_range=20,zoom_range=0.1,width_shift_range=0.1,height_shift_range=0.1,\n",
    "                  shear_range=0.1,horizontal_flip=True,rescale=1/255.0,validation_split=0.1)"
   ]
  },
  {
   "cell_type": "code",
   "execution_count": 22,
   "metadata": {},
   "outputs": [],
   "source": [
    "traindata_generator = traingen.flow(trainimages,trainlabel,subset='training')\n",
    "validationdata_generator = traingen.flow(trainimages,trainlabel,subset='validation')"
   ]
  },
  {
   "cell_type": "code",
   "execution_count": 23,
   "metadata": {},
   "outputs": [],
   "source": [
    "testgen=ImageDataGenerator(rescale=1/255.0)\n",
    "testdata_generator = testgen.flow(testimages,testlabel)"
   ]
  },
  {
   "cell_type": "code",
   "execution_count": 31,
   "metadata": {},
   "outputs": [],
   "source": [
    "model=Sequential([])\n",
    "\n",
    "model.add(Conv2D(64,(3,3),activation=\"relu\",input_shape=(28,28,1)))\n",
    "model.add(BatchNormalization())\n",
    "model.add(MaxPooling2D(2,2))\n",
    "\n",
    "\n",
    "model.add(Flatten())\n",
    "model.add(BatchNormalization())\n",
    "model.add(Dense(256,activation=\"relu\"))\n",
    "model.add(BatchNormalization())\n",
    "model.add(Dense(26,activation=\"softmax\"))\n"
   ]
  },
  {
   "cell_type": "code",
   "execution_count": 32,
   "metadata": {},
   "outputs": [],
   "source": [
    "model.compile(loss=\"sparse_categorical_crossentropy\",optimizer='adam',metrics=['accuracy'])"
   ]
  },
  {
   "cell_type": "code",
   "execution_count": 33,
   "metadata": {},
   "outputs": [
    {
     "name": "stdout",
     "output_type": "stream",
     "text": [
      "Model: \"sequential_3\"\n",
      "_________________________________________________________________\n",
      "Layer (type)                 Output Shape              Param #   \n",
      "=================================================================\n",
      "conv2d_5 (Conv2D)            (None, 26, 26, 64)        640       \n",
      "_________________________________________________________________\n",
      "batch_normalization_9 (Batch (None, 26, 26, 64)        256       \n",
      "_________________________________________________________________\n",
      "max_pooling2d_5 (MaxPooling2 (None, 13, 13, 64)        0         \n",
      "_________________________________________________________________\n",
      "flatten_3 (Flatten)          (None, 10816)             0         \n",
      "_________________________________________________________________\n",
      "batch_normalization_10 (Batc (None, 10816)             43264     \n",
      "_________________________________________________________________\n",
      "dense_5 (Dense)              (None, 256)               2769152   \n",
      "_________________________________________________________________\n",
      "batch_normalization_11 (Batc (None, 256)               1024      \n",
      "_________________________________________________________________\n",
      "dense_6 (Dense)              (None, 26)                6682      \n",
      "=================================================================\n",
      "Total params: 2,821,018\n",
      "Trainable params: 2,798,746\n",
      "Non-trainable params: 22,272\n",
      "_________________________________________________________________\n"
     ]
    }
   ],
   "source": [
    "model.summary()"
   ]
  },
  {
   "cell_type": "code",
   "execution_count": 34,
   "metadata": {},
   "outputs": [],
   "source": [
    "# Define a Callback class that stops training once accuracy reaches 97.0%\n",
    "class myCallback(Callback):\n",
    "  def on_epoch_end(self, epoch, logs={}):\n",
    "    if(logs.get('val_accuracy')>0.995):\n",
    "      print(\"\\nReached 99.5% accuracy so cancelling training!\")\n",
    "      self.model.stop_training = True\n",
    "callback=myCallback()"
   ]
  },
  {
   "cell_type": "code",
   "execution_count": 35,
   "metadata": {},
   "outputs": [
    {
     "name": "stdout",
     "output_type": "stream",
     "text": [
      "Epoch 1/40\n",
      "773/773 [==============================] - 8s 10ms/step - loss: 1.3879 - accuracy: 0.5744 - val_loss: 1.1443 - val_accuracy: 0.5862\n",
      "Epoch 2/40\n",
      "773/773 [==============================] - 7s 9ms/step - loss: 0.6672 - accuracy: 0.7841 - val_loss: 0.7049 - val_accuracy: 0.7847\n",
      "Epoch 3/40\n",
      "773/773 [==============================] - 7s 9ms/step - loss: 0.4788 - accuracy: 0.8429 - val_loss: 0.4435 - val_accuracy: 0.7038\n",
      "Epoch 4/40\n",
      "773/773 [==============================] - 7s 9ms/step - loss: 0.3890 - accuracy: 0.8717 - val_loss: 1.8427 - val_accuracy: 0.6539\n",
      "Epoch 5/40\n",
      "773/773 [==============================] - 7s 9ms/step - loss: 0.3816 - accuracy: 0.8714 - val_loss: 0.7952 - val_accuracy: 0.8157\n",
      "Epoch 6/40\n",
      "773/773 [==============================] - 7s 9ms/step - loss: 0.3141 - accuracy: 0.8940 - val_loss: 0.5791 - val_accuracy: 0.8572\n",
      "Epoch 7/40\n",
      "773/773 [==============================] - 7s 9ms/step - loss: 0.2653 - accuracy: 0.9112 - val_loss: 1.2920 - val_accuracy: 0.7508\n",
      "Epoch 8/40\n",
      "773/773 [==============================] - 7s 9ms/step - loss: 0.2715 - accuracy: 0.9097 - val_loss: 0.6425 - val_accuracy: 0.7807\n",
      "Epoch 9/40\n",
      "773/773 [==============================] - 7s 9ms/step - loss: 0.2357 - accuracy: 0.9207 - val_loss: 0.2122 - val_accuracy: 0.8350\n",
      "Epoch 10/40\n",
      "773/773 [==============================] - 7s 9ms/step - loss: 0.2404 - accuracy: 0.9195 - val_loss: 0.2125 - val_accuracy: 0.8893\n",
      "Epoch 11/40\n",
      "773/773 [==============================] - 7s 9ms/step - loss: 0.2105 - accuracy: 0.9303 - val_loss: 0.5395 - val_accuracy: 0.8138\n",
      "Epoch 12/40\n",
      "773/773 [==============================] - 7s 9ms/step - loss: 0.1949 - accuracy: 0.9348 - val_loss: 0.0753 - val_accuracy: 0.9140\n",
      "Epoch 13/40\n",
      "773/773 [==============================] - 7s 9ms/step - loss: 0.1827 - accuracy: 0.9393 - val_loss: 1.1050 - val_accuracy: 0.7825\n",
      "Epoch 14/40\n",
      "773/773 [==============================] - 7s 9ms/step - loss: 0.1862 - accuracy: 0.9386 - val_loss: 0.6008 - val_accuracy: 0.8754\n",
      "Epoch 15/40\n",
      "773/773 [==============================] - 8s 10ms/step - loss: 0.1851 - accuracy: 0.9383 - val_loss: 0.1867 - val_accuracy: 0.9169\n",
      "Epoch 16/40\n",
      "773/773 [==============================] - 8s 10ms/step - loss: 0.1460 - accuracy: 0.9507 - val_loss: 0.4898 - val_accuracy: 0.8805\n",
      "Epoch 17/40\n",
      "773/773 [==============================] - 8s 10ms/step - loss: 0.1635 - accuracy: 0.9469 - val_loss: 0.1673 - val_accuracy: 0.9290\n",
      "Epoch 18/40\n",
      "773/773 [==============================] - 7s 9ms/step - loss: 0.1403 - accuracy: 0.9522 - val_loss: 0.3487 - val_accuracy: 0.8022\n",
      "Epoch 19/40\n",
      "773/773 [==============================] - 8s 10ms/step - loss: 0.1384 - accuracy: 0.9514 - val_loss: 0.2485 - val_accuracy: 0.9403\n",
      "Epoch 20/40\n",
      "773/773 [==============================] - 7s 10ms/step - loss: 0.1284 - accuracy: 0.9577 - val_loss: 0.3195 - val_accuracy: 0.9086\n",
      "Epoch 21/40\n",
      "773/773 [==============================] - 7s 9ms/step - loss: 0.1423 - accuracy: 0.9543 - val_loss: 0.2385 - val_accuracy: 0.9275\n",
      "Epoch 22/40\n",
      "773/773 [==============================] - 7s 10ms/step - loss: 0.1181 - accuracy: 0.9597 - val_loss: 0.0678 - val_accuracy: 0.9647\n",
      "Epoch 23/40\n",
      "773/773 [==============================] - 7s 9ms/step - loss: 0.1234 - accuracy: 0.9596 - val_loss: 0.0441 - val_accuracy: 0.9373\n",
      "Epoch 24/40\n",
      "773/773 [==============================] - 7s 9ms/step - loss: 0.1015 - accuracy: 0.9662 - val_loss: 0.0924 - val_accuracy: 0.9486\n",
      "Epoch 25/40\n",
      "773/773 [==============================] - 7s 9ms/step - loss: 0.1111 - accuracy: 0.9644 - val_loss: 0.4142 - val_accuracy: 0.9636\n",
      "Epoch 26/40\n",
      "773/773 [==============================] - 8s 11ms/step - loss: 0.1053 - accuracy: 0.9639 - val_loss: 0.3457 - val_accuracy: 0.8364\n",
      "Epoch 27/40\n",
      "773/773 [==============================] - 8s 10ms/step - loss: 0.1065 - accuracy: 0.9641 - val_loss: 0.2209 - val_accuracy: 0.8747\n",
      "Epoch 28/40\n",
      "773/773 [==============================] - 7s 9ms/step - loss: 0.0982 - accuracy: 0.9684 - val_loss: 1.4747 - val_accuracy: 0.6736\n",
      "Epoch 29/40\n",
      "773/773 [==============================] - 7s 9ms/step - loss: 0.0879 - accuracy: 0.9701 - val_loss: 0.3354 - val_accuracy: 0.8368\n",
      "Epoch 30/40\n",
      "773/773 [==============================] - 8s 10ms/step - loss: 0.0957 - accuracy: 0.9677 - val_loss: 0.1599 - val_accuracy: 0.9246\n",
      "Epoch 31/40\n",
      "773/773 [==============================] - 8s 11ms/step - loss: 0.0953 - accuracy: 0.9675 - val_loss: 0.4502 - val_accuracy: 0.8954\n",
      "Epoch 32/40\n",
      "773/773 [==============================] - 7s 9ms/step - loss: 0.0928 - accuracy: 0.9692 - val_loss: 0.2543 - val_accuracy: 0.9315\n",
      "Epoch 33/40\n",
      "773/773 [==============================] - 7s 9ms/step - loss: 0.1273 - accuracy: 0.9588 - val_loss: 0.0236 - val_accuracy: 0.9621\n",
      "Epoch 34/40\n",
      "773/773 [==============================] - 7s 9ms/step - loss: 0.0798 - accuracy: 0.9738 - val_loss: 0.0099 - val_accuracy: 0.9719\n",
      "Epoch 35/40\n",
      "773/773 [==============================] - 7s 9ms/step - loss: 0.0775 - accuracy: 0.9742 - val_loss: 0.2112 - val_accuracy: 0.9366\n",
      "Epoch 36/40\n",
      "773/773 [==============================] - 7s 10ms/step - loss: 0.0838 - accuracy: 0.9734 - val_loss: 0.2365 - val_accuracy: 0.9749\n",
      "Epoch 37/40\n",
      "773/773 [==============================] - 7s 9ms/step - loss: 0.0871 - accuracy: 0.9726 - val_loss: 0.2270 - val_accuracy: 0.9523\n",
      "Epoch 38/40\n",
      "773/773 [==============================] - 8s 10ms/step - loss: 0.0882 - accuracy: 0.9715 - val_loss: 0.0953 - val_accuracy: 0.9716\n",
      "Epoch 39/40\n",
      "773/773 [==============================] - 7s 9ms/step - loss: 0.0723 - accuracy: 0.9759 - val_loss: 0.0655 - val_accuracy: 0.9792\n",
      "Epoch 40/40\n",
      "773/773 [==============================] - 8s 10ms/step - loss: 0.0723 - accuracy: 0.9753 - val_loss: 0.0455 - val_accuracy: 0.9814\n"
     ]
    }
   ],
   "source": [
    "history=model.fit(traindata_generator,epochs=40,validation_data=validationdata_generator,callbacks=[callback])"
   ]
  },
  {
   "cell_type": "code",
   "execution_count": 36,
   "metadata": {},
   "outputs": [
    {
     "data": {
      "image/png": "[encoded data removed]",
      "text/plain": [
       "<Figure size 432x288 with 1 Axes>"
      ]
     },
     "metadata": {
      "needs_background": "light"
     },
     "output_type": "display_data"
    },
    {
     "data": {
      "image/png": "[encoded data removed]",
      "text/plain": [
       "<Figure size 432x288 with 1 Axes>"
      ]
     },
     "metadata": {
      "needs_background": "light"
     },
     "output_type": "display_data"
    }
   ],
   "source": [
    "acc = history.history['accuracy']\n",
    "val_acc = history.history['val_accuracy']\n",
    "loss = history.history['loss']\n",
    "val_loss = history.history['val_loss']\n",
    "\n",
    "epochs = range(len(acc))\n",
    "\n",
    "plt.plot(epochs, acc, 'r', label='Training accuracy')\n",
    "plt.plot(epochs, val_acc, 'b', label='Validation accuracy')\n",
    "plt.title('Training and validation accuracy')\n",
    "plt.legend()\n",
    "plt.figure()\n",
    "\n",
    "plt.plot(epochs, loss, 'r', label='Training Loss')\n",
    "plt.plot(epochs, val_loss, 'b', label='Validation Loss')\n",
    "plt.title('Training and validation loss')\n",
    "plt.legend()\n",
    "\n",
    "plt.show()"
   ]
  },
  {
   "cell_type": "code",
   "execution_count": 37,
   "metadata": {},
   "outputs": [
    {
     "name": "stdout",
     "output_type": "stream",
     "text": [
      "test accuracy: 97.71332740783691\n"
     ]
    }
   ],
   "source": [
    "print(\"test accuracy: \"+ str(model.evaluate_generator(testdata_generator)[1]*100))"
   ]
  },
  {
   "cell_type": "code",
   "execution_count": null,
   "metadata": {},
   "outputs": [],
   "source": []
  }
 ],
 "metadata": {
  "kernelspec": {
   "display_name": "Python 3",
   "language": "python",
   "name": "python3"
  },
  "language_info": {
   "codemirror_mode": {
    "name": "ipython",
    "version": 3
   },
   "file_extension": ".py",
   "mimetype": "text/x-python",
   "name": "python",
   "nbconvert_exporter": "python",
   "pygments_lexer": "ipython3",
   "version": "3.7.4"
  }
 },
 "nbformat": 4,
 "nbformat_minor": 2
}
