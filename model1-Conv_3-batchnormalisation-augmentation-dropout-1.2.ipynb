{
 "cells": [
  {
   "cell_type": "code",
   "execution_count": 1,
   "metadata": {},
   "outputs": [
    {
     "name": "stderr",
     "output_type": "stream",
     "text": [
      "Using TensorFlow backend.\n"
     ]
    }
   ],
   "source": [
    "import tensorflow as tf\n",
    "import keras\n",
    "from keras.callbacks import *\n",
    "import numpy as np\n",
    "import pandas as pd\n",
    "import matplotlib.pyplot as plt\n",
    "from keras.models import Sequential\n",
    "from keras.layers import *"
   ]
  },
  {
   "cell_type": "code",
   "execution_count": 2,
   "metadata": {},
   "outputs": [],
   "source": [
    "traindata = pd.read_csv('sign_mnist_train.csv')"
   ]
  },
  {
   "cell_type": "code",
   "execution_count": 3,
   "metadata": {},
   "outputs": [],
   "source": [
    "trainlabel=traindata['label'].values"
   ]
  },
  {
   "cell_type": "code",
   "execution_count": 4,
   "metadata": {},
   "outputs": [],
   "source": [
    "traindata.drop('label',inplace=True,axis=1)\n",
    "trainimages = traindata.values"
   ]
  },
  {
   "cell_type": "code",
   "execution_count": 5,
   "metadata": {},
   "outputs": [],
   "source": [
    "trainimages=trainimages.reshape(-1,28,28,1)"
   ]
  },
  {
   "cell_type": "code",
   "execution_count": 6,
   "metadata": {},
   "outputs": [],
   "source": [
    "testdata = pd.read_csv('sign_mnist_test.csv')"
   ]
  },
  {
   "cell_type": "code",
   "execution_count": 7,
   "metadata": {},
   "outputs": [],
   "source": [
    "testlabel=testdata['label'].values"
   ]
  },
  {
   "cell_type": "code",
   "execution_count": 8,
   "metadata": {},
   "outputs": [],
   "source": [
    "testdata.drop('label',inplace=True,axis=1)\n",
    "testimages = testdata.values"
   ]
  },
  {
   "cell_type": "code",
   "execution_count": 9,
   "metadata": {},
   "outputs": [],
   "source": [
    "testimages=testimages.reshape(-1,28,28,1)"
   ]
  },
  {
   "cell_type": "code",
   "execution_count": 10,
   "metadata": {},
   "outputs": [],
   "source": [
    "from keras.preprocessing.image import ImageDataGenerator"
   ]
  },
  {
   "cell_type": "code",
   "execution_count": 11,
   "metadata": {},
   "outputs": [],
   "source": [
    "traingen=ImageDataGenerator(rotation_range=40,zoom_range=0.2,width_shift_range=0.2,height_shift_range=0.2,\n",
    "                  shear_range=0.2,horizontal_flip=True,rescale=1/255.0,validation_split=0.2)"
   ]
  },
  {
   "cell_type": "code",
   "execution_count": 12,
   "metadata": {},
   "outputs": [],
   "source": [
    "traindata_generator = traingen.flow(trainimages,trainlabel,subset='training')\n",
    "validationdata_generator = traingen.flow(trainimages,trainlabel,subset='validation')"
   ]
  },
  {
   "cell_type": "code",
   "execution_count": 13,
   "metadata": {},
   "outputs": [],
   "source": [
    "testgen=ImageDataGenerator(rescale=1/255.0)\n",
    "testdata_generator = testgen.flow(testimages,testlabel)"
   ]
  },
  {
   "cell_type": "code",
   "execution_count": 14,
   "metadata": {},
   "outputs": [],
   "source": [
    "model=Sequential([])\n",
    "\n",
    "model.add(Conv2D(64,(3,3),activation=\"relu\",input_shape=(28,28,1)))\n",
    "model.add(BatchNormalization())\n",
    "# model.add(Conv2D(64,(3,3),activation=\"relu\"))\n",
    "# model.add(BatchNormalization())\n",
    "model.add(MaxPooling2D(2,2))\n",
    "#model.add(Dropout(0.4))\n",
    "\n",
    "model.add(Conv2D(128,(3,3),activation=\"relu\"))\n",
    "model.add(BatchNormalization())\n",
    "# model.add(Conv2D(128,(3,3),activation=\"relu\"))\n",
    "# model.add(BatchNormalization())\n",
    "model.add(MaxPooling2D(2,2))\n",
    "\n",
    "model.add(Conv2D(128,(3,3),activation=\"relu\"))\n",
    "model.add(BatchNormalization())\n",
    "# model.add(Conv2D(128,(3,3),activation=\"relu\"))\n",
    "# model.add(BatchNormalization())\n",
    "model.add(MaxPooling2D(2,2))\n",
    "\n",
    "model.add(Flatten())\n",
    "model.add(BatchNormalization())\n",
    "model.add(Dropout(0.2))\n",
    "model.add(Dense(256,activation=\"relu\"))\n",
    "model.add(BatchNormalization())\n",
    "model.add(Dense(26,activation=\"softmax\"))\n",
    "\n"
   ]
  },
  {
   "cell_type": "code",
   "execution_count": 15,
   "metadata": {},
   "outputs": [],
   "source": [
    "model.compile(loss=\"sparse_categorical_crossentropy\",optimizer='adam',metrics=['accuracy'])"
   ]
  },
  {
   "cell_type": "code",
   "execution_count": 16,
   "metadata": {},
   "outputs": [
    {
     "name": "stdout",
     "output_type": "stream",
     "text": [
      "Model: \"sequential_1\"\n",
      "_________________________________________________________________\n",
      "Layer (type)                 Output Shape              Param #   \n",
      "=================================================================\n",
      "conv2d_1 (Conv2D)            (None, 26, 26, 64)        640       \n",
      "_________________________________________________________________\n",
      "batch_normalization_1 (Batch (None, 26, 26, 64)        256       \n",
      "_________________________________________________________________\n",
      "max_pooling2d_1 (MaxPooling2 (None, 13, 13, 64)        0         \n",
      "_________________________________________________________________\n",
      "conv2d_2 (Conv2D)            (None, 11, 11, 128)       73856     \n",
      "_________________________________________________________________\n",
      "batch_normalization_2 (Batch (None, 11, 11, 128)       512       \n",
      "_________________________________________________________________\n",
      "max_pooling2d_2 (MaxPooling2 (None, 5, 5, 128)         0         \n",
      "_________________________________________________________________\n",
      "conv2d_3 (Conv2D)            (None, 3, 3, 128)         147584    \n",
      "_________________________________________________________________\n",
      "batch_normalization_3 (Batch (None, 3, 3, 128)         512       \n",
      "_________________________________________________________________\n",
      "max_pooling2d_3 (MaxPooling2 (None, 1, 1, 128)         0         \n",
      "_________________________________________________________________\n",
      "flatten_1 (Flatten)          (None, 128)               0         \n",
      "_________________________________________________________________\n",
      "batch_normalization_4 (Batch (None, 128)               512       \n",
      "_________________________________________________________________\n",
      "dropout_1 (Dropout)          (None, 128)               0         \n",
      "_________________________________________________________________\n",
      "dense_1 (Dense)              (None, 256)               33024     \n",
      "_________________________________________________________________\n",
      "batch_normalization_5 (Batch (None, 256)               1024      \n",
      "_________________________________________________________________\n",
      "dense_2 (Dense)              (None, 26)                6682      \n",
      "=================================================================\n",
      "Total params: 264,602\n",
      "Trainable params: 263,194\n",
      "Non-trainable params: 1,408\n",
      "_________________________________________________________________\n"
     ]
    }
   ],
   "source": [
    "model.summary()"
   ]
  },
  {
   "cell_type": "code",
   "execution_count": 17,
   "metadata": {},
   "outputs": [],
   "source": [
    "# Define a Callback class that stops training once accuracy reaches 97.0%\n",
    "class myCallback(Callback):\n",
    "  def on_epoch_end(self, epoch, logs={}):\n",
    "    if(logs.get('accuracy')>0.99):\n",
    "      print(\"\\nReached 100.0% accuracy so cancelling training!\")\n",
    "      self.model.stop_training = True\n",
    "callback=myCallback()"
   ]
  },
  {
   "cell_type": "code",
   "execution_count": 18,
   "metadata": {},
   "outputs": [
    {
     "name": "stdout",
     "output_type": "stream",
     "text": [
      "Epoch 1/60\n",
      "687/687 [==============================] - 11s 16ms/step - loss: 2.3072 - accuracy: 0.3079 - val_loss: 5.1617 - val_accuracy: 0.1564\n",
      "Epoch 2/60\n",
      "687/687 [==============================] - 8s 12ms/step - loss: 1.4553 - accuracy: 0.5269 - val_loss: 1.9031 - val_accuracy: 0.4886\n",
      "Epoch 3/60\n",
      "687/687 [==============================] - 10s 14ms/step - loss: 1.1445 - accuracy: 0.6232 - val_loss: 1.3308 - val_accuracy: 0.4972\n",
      "Epoch 4/60\n",
      "687/687 [==============================] - 9s 14ms/step - loss: 0.9630 - accuracy: 0.6797 - val_loss: 1.3876 - val_accuracy: 0.5341\n",
      "Epoch 5/60\n",
      "687/687 [==============================] - 9s 13ms/step - loss: 0.8566 - accuracy: 0.7117 - val_loss: 0.8376 - val_accuracy: 0.5862\n",
      "Epoch 6/60\n",
      "687/687 [==============================] - 9s 13ms/step - loss: 0.7890 - accuracy: 0.7327 - val_loss: 0.9091 - val_accuracy: 0.5873\n",
      "Epoch 7/60\n",
      "687/687 [==============================] - 9s 13ms/step - loss: 0.7110 - accuracy: 0.7571 - val_loss: 2.5258 - val_accuracy: 0.3735\n",
      "Epoch 8/60\n",
      "687/687 [==============================] - 9s 14ms/step - loss: 0.6636 - accuracy: 0.7770 - val_loss: 1.5431 - val_accuracy: 0.6037\n",
      "Epoch 9/60\n",
      "687/687 [==============================] - 9s 13ms/step - loss: 0.6120 - accuracy: 0.7953 - val_loss: 0.6134 - val_accuracy: 0.7673\n",
      "Epoch 10/60\n",
      "687/687 [==============================] - 12s 17ms/step - loss: 0.5886 - accuracy: 0.8024 - val_loss: 0.5055 - val_accuracy: 0.8467\n",
      "Epoch 11/60\n",
      "687/687 [==============================] - 12s 18ms/step - loss: 0.5550 - accuracy: 0.8134 - val_loss: 1.1933 - val_accuracy: 0.7113\n",
      "Epoch 12/60\n",
      "687/687 [==============================] - 10s 14ms/step - loss: 0.5306 - accuracy: 0.8208 - val_loss: 0.2310 - val_accuracy: 0.7492\n",
      "Epoch 13/60\n",
      "687/687 [==============================] - 9s 14ms/step - loss: 0.5057 - accuracy: 0.8311 - val_loss: 0.7945 - val_accuracy: 0.7583\n",
      "Epoch 14/60\n",
      "687/687 [==============================] - 9s 13ms/step - loss: 0.4853 - accuracy: 0.8344 - val_loss: 1.0139 - val_accuracy: 0.7208\n",
      "Epoch 15/60\n",
      "687/687 [==============================] - 9s 13ms/step - loss: 0.4797 - accuracy: 0.8375 - val_loss: 0.5768 - val_accuracy: 0.7898\n",
      "Epoch 16/60\n",
      "687/687 [==============================] - 9s 13ms/step - loss: 0.4531 - accuracy: 0.8475 - val_loss: 0.3440 - val_accuracy: 0.8139\n",
      "Epoch 17/60\n",
      "687/687 [==============================] - 9s 13ms/step - loss: 0.4398 - accuracy: 0.8510 - val_loss: 0.5506 - val_accuracy: 0.6482\n",
      "Epoch 18/60\n",
      "687/687 [==============================] - 10s 15ms/step - loss: 0.4343 - accuracy: 0.8523 - val_loss: 0.6439 - val_accuracy: 0.7581\n",
      "Epoch 19/60\n",
      "687/687 [==============================] - 9s 13ms/step - loss: 0.4125 - accuracy: 0.8629 - val_loss: 0.4965 - val_accuracy: 0.7724\n",
      "Epoch 20/60\n",
      "687/687 [==============================] - 9s 13ms/step - loss: 0.4014 - accuracy: 0.8659 - val_loss: 0.4221 - val_accuracy: 0.8210\n",
      "Epoch 21/60\n",
      "687/687 [==============================] - 9s 13ms/step - loss: 0.4071 - accuracy: 0.8642 - val_loss: 1.8215 - val_accuracy: 0.8259\n",
      "Epoch 22/60\n",
      "687/687 [==============================] - 9s 13ms/step - loss: 0.3696 - accuracy: 0.8746 - val_loss: 0.9169 - val_accuracy: 0.8175\n",
      "Epoch 23/60\n",
      "687/687 [==============================] - 9s 13ms/step - loss: 0.3727 - accuracy: 0.8719 - val_loss: 0.2754 - val_accuracy: 0.8980\n",
      "Epoch 24/60\n",
      "687/687 [==============================] - 9s 13ms/step - loss: 0.3626 - accuracy: 0.8773 - val_loss: 0.3406 - val_accuracy: 0.8692\n",
      "Epoch 25/60\n",
      "687/687 [==============================] - 9s 13ms/step - loss: 0.3512 - accuracy: 0.8822 - val_loss: 0.4219 - val_accuracy: 0.6970\n",
      "Epoch 26/60\n",
      "687/687 [==============================] - 9s 14ms/step - loss: 0.3558 - accuracy: 0.8810 - val_loss: 0.6641 - val_accuracy: 0.8587\n",
      "Epoch 27/60\n",
      "687/687 [==============================] - 8s 12ms/step - loss: 0.3381 - accuracy: 0.8848 - val_loss: 0.6097 - val_accuracy: 0.8095\n",
      "Epoch 28/60\n",
      "687/687 [==============================] - 9s 13ms/step - loss: 0.3336 - accuracy: 0.8868 - val_loss: 1.3425 - val_accuracy: 0.6986\n",
      "Epoch 29/60\n",
      "687/687 [==============================] - 9s 13ms/step - loss: 0.3199 - accuracy: 0.8931 - val_loss: 0.2857 - val_accuracy: 0.8758\n",
      "Epoch 30/60\n",
      "687/687 [==============================] - 8s 12ms/step - loss: 0.3190 - accuracy: 0.8917 - val_loss: 0.5817 - val_accuracy: 0.7671\n",
      "Epoch 31/60\n",
      "687/687 [==============================] - 8s 12ms/step - loss: 0.3292 - accuracy: 0.8899 - val_loss: 1.0827 - val_accuracy: 0.8177\n",
      "Epoch 32/60\n",
      "687/687 [==============================] - 10s 14ms/step - loss: 0.3128 - accuracy: 0.8933 - val_loss: 1.3496 - val_accuracy: 0.6755\n",
      "Epoch 33/60\n",
      "687/687 [==============================] - 9s 13ms/step - loss: 0.3043 - accuracy: 0.8988 - val_loss: 1.1935 - val_accuracy: 0.7337\n",
      "Epoch 34/60\n",
      "687/687 [==============================] - 9s 13ms/step - loss: 0.2939 - accuracy: 0.8994 - val_loss: 0.2766 - val_accuracy: 0.9164\n",
      "Epoch 35/60\n",
      "687/687 [==============================] - 8s 12ms/step - loss: 0.2998 - accuracy: 0.9007 - val_loss: 0.3552 - val_accuracy: 0.8707\n",
      "Epoch 36/60\n",
      "687/687 [==============================] - 8s 12ms/step - loss: 0.2939 - accuracy: 0.9011 - val_loss: 0.5017 - val_accuracy: 0.8153\n",
      "Epoch 37/60\n",
      "687/687 [==============================] - 8s 12ms/step - loss: 0.2867 - accuracy: 0.9015 - val_loss: 0.0862 - val_accuracy: 0.9088\n",
      "Epoch 38/60\n",
      "687/687 [==============================] - 10s 14ms/step - loss: 0.2828 - accuracy: 0.9050 - val_loss: 0.8431 - val_accuracy: 0.8478\n",
      "Epoch 39/60\n",
      "687/687 [==============================] - 8s 12ms/step - loss: 0.2767 - accuracy: 0.9063 - val_loss: 0.3386 - val_accuracy: 0.8769\n",
      "Epoch 40/60\n",
      "687/687 [==============================] - 8s 12ms/step - loss: 0.2816 - accuracy: 0.9046 - val_loss: 0.9422 - val_accuracy: 0.7192\n",
      "Epoch 41/60\n",
      "687/687 [==============================] - 8s 12ms/step - loss: 0.2739 - accuracy: 0.9082 - val_loss: 0.3843 - val_accuracy: 0.8377\n",
      "Epoch 42/60\n",
      "687/687 [==============================] - 8s 12ms/step - loss: 0.2772 - accuracy: 0.9062 - val_loss: 0.4458 - val_accuracy: 0.9302\n",
      "Epoch 43/60\n",
      "687/687 [==============================] - 8s 12ms/step - loss: 0.2659 - accuracy: 0.9097 - val_loss: 0.0371 - val_accuracy: 0.9049\n",
      "Epoch 44/60\n",
      "687/687 [==============================] - 8s 12ms/step - loss: 0.2723 - accuracy: 0.9095 - val_loss: 0.0762 - val_accuracy: 0.9406\n",
      "Epoch 45/60\n",
      "687/687 [==============================] - 8s 12ms/step - loss: 0.2519 - accuracy: 0.9160 - val_loss: 0.4507 - val_accuracy: 0.9006\n",
      "Epoch 46/60\n",
      "687/687 [==============================] - 8s 12ms/step - loss: 0.2588 - accuracy: 0.9136 - val_loss: 0.0596 - val_accuracy: 0.9483\n",
      "Epoch 47/60\n",
      "687/687 [==============================] - 8s 12ms/step - loss: 0.2502 - accuracy: 0.9155 - val_loss: 0.3402 - val_accuracy: 0.8824\n",
      "Epoch 48/60\n",
      "687/687 [==============================] - 8s 12ms/step - loss: 0.2562 - accuracy: 0.9150 - val_loss: 0.4567 - val_accuracy: 0.8501\n",
      "Epoch 49/60\n",
      "687/687 [==============================] - 8s 12ms/step - loss: 0.2665 - accuracy: 0.9129 - val_loss: 0.5875 - val_accuracy: 0.9089\n",
      "Epoch 50/60\n",
      "687/687 [==============================] - 8s 12ms/step - loss: 0.2534 - accuracy: 0.9135 - val_loss: 0.2023 - val_accuracy: 0.9279\n",
      "Epoch 51/60\n",
      "687/687 [==============================] - 8s 12ms/step - loss: 0.2417 - accuracy: 0.9169 - val_loss: 0.2241 - val_accuracy: 0.9040\n",
      "Epoch 52/60\n",
      "687/687 [==============================] - 8s 12ms/step - loss: 0.2357 - accuracy: 0.9195 - val_loss: 0.2668 - val_accuracy: 0.8616\n",
      "Epoch 53/60\n",
      "687/687 [==============================] - 8s 12ms/step - loss: 0.2310 - accuracy: 0.9205 - val_loss: 0.3370 - val_accuracy: 0.8437\n",
      "Epoch 54/60\n",
      "687/687 [==============================] - 8s 12ms/step - loss: 0.2442 - accuracy: 0.9182 - val_loss: 0.1167 - val_accuracy: 0.9290\n",
      "Epoch 55/60\n",
      "687/687 [==============================] - 8s 12ms/step - loss: 0.2321 - accuracy: 0.9225 - val_loss: 0.4502 - val_accuracy: 0.9313\n",
      "Epoch 56/60\n",
      "687/687 [==============================] - 8s 12ms/step - loss: 0.2326 - accuracy: 0.9215 - val_loss: 0.1629 - val_accuracy: 0.8612\n",
      "Epoch 57/60\n",
      "687/687 [==============================] - 8s 12ms/step - loss: 0.2304 - accuracy: 0.9228 - val_loss: 0.0668 - val_accuracy: 0.9195\n"
     ]
    },
    {
     "name": "stdout",
     "output_type": "stream",
     "text": [
      "Epoch 58/60\n",
      "687/687 [==============================] - 8s 12ms/step - loss: 0.2260 - accuracy: 0.9217 - val_loss: 0.1553 - val_accuracy: 0.9104\n",
      "Epoch 59/60\n",
      "687/687 [==============================] - 8s 12ms/step - loss: 0.2282 - accuracy: 0.9218 - val_loss: 0.1556 - val_accuracy: 0.8640\n",
      "Epoch 60/60\n",
      "687/687 [==============================] - 8s 12ms/step - loss: 0.2286 - accuracy: 0.9232 - val_loss: 0.4224 - val_accuracy: 0.9086\n"
     ]
    }
   ],
   "source": [
    "history=model.fit(traindata_generator,epochs=60,validation_data=validationdata_generator,callbacks=[callback])"
   ]
  },
  {
   "cell_type": "code",
   "execution_count": 19,
   "metadata": {},
   "outputs": [
    {
     "data": {
      "image/png": "[encoded data removed]",
      "text/plain": [
       "<Figure size 432x288 with 1 Axes>"
      ]
     },
     "metadata": {
      "needs_background": "light"
     },
     "output_type": "display_data"
    },
    {
     "data": {
      "image/png": "[encoded data removed]",
      "text/plain": [
       "<Figure size 432x288 with 1 Axes>"
      ]
     },
     "metadata": {
      "needs_background": "light"
     },
     "output_type": "display_data"
    }
   ],
   "source": [
    "acc = history.history['accuracy']\n",
    "val_acc = history.history['val_accuracy']\n",
    "loss = history.history['loss']\n",
    "val_loss = history.history['val_loss']\n",
    "\n",
    "epochs = range(len(acc))\n",
    "\n",
    "plt.plot(epochs, acc, 'r', label='Training accuracy')\n",
    "plt.plot(epochs, val_acc, 'b', label='Validation accuracy')\n",
    "plt.title('Training and validation accuracy')\n",
    "plt.legend()\n",
    "plt.figure()\n",
    "\n",
    "plt.plot(epochs, loss, 'r', label='Training Loss')\n",
    "plt.plot(epochs, val_loss, 'b', label='Validation Loss')\n",
    "plt.title('Training and validation loss')\n",
    "plt.legend()\n",
    "\n",
    "plt.show()"
   ]
  },
  {
   "cell_type": "code",
   "execution_count": 20,
   "metadata": {},
   "outputs": [
    {
     "name": "stdout",
     "output_type": "stream",
     "text": [
      "test accuracy: 97.58784174919128\n"
     ]
    }
   ],
   "source": [
    "print(\"test accuracy: \"+ str(model.evaluate_generator(testdata_generator)[1]*100))"
   ]
  },
  {
   "cell_type": "code",
   "execution_count": null,
   "metadata": {},
   "outputs": [],
   "source": []
  }
 ],
 "metadata": {
  "kernelspec": {
   "display_name": "Python 3",
   "language": "python",
   "name": "python3"
  },
  "language_info": {
   "codemirror_mode": {
    "name": "ipython",
    "version": 3
   },
   "file_extension": ".py",
   "mimetype": "text/x-python",
   "name": "python",
   "nbconvert_exporter": "python",
   "pygments_lexer": "ipython3",
   "version": "3.7.4"
  }
 },
 "nbformat": 4,
 "nbformat_minor": 2
}
