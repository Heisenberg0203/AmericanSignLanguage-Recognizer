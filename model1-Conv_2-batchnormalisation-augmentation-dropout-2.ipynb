{
 "cells": [
  {
   "cell_type": "code",
   "execution_count": 1,
   "metadata": {},
   "outputs": [
    {
     "name": "stderr",
     "output_type": "stream",
     "text": [
      "Using TensorFlow backend.\n"
     ]
    }
   ],
   "source": [
    "import tensorflow as tf\n",
    "import keras\n",
    "from keras.callbacks import *\n",
    "import numpy as np\n",
    "import pandas as pd\n",
    "import matplotlib.pyplot as plt\n",
    "from keras.models import Sequential\n",
    "from keras.layers import *"
   ]
  },
  {
   "cell_type": "code",
   "execution_count": 2,
   "metadata": {},
   "outputs": [],
   "source": [
    "traindata = pd.read_csv('sign_mnist_train.csv')"
   ]
  },
  {
   "cell_type": "code",
   "execution_count": 3,
   "metadata": {},
   "outputs": [],
   "source": [
    "trainlabel=traindata['label'].values"
   ]
  },
  {
   "cell_type": "code",
   "execution_count": 4,
   "metadata": {},
   "outputs": [],
   "source": [
    "traindata.drop('label',inplace=True,axis=1)\n",
    "trainimages = traindata.values"
   ]
  },
  {
   "cell_type": "code",
   "execution_count": 5,
   "metadata": {},
   "outputs": [],
   "source": [
    "trainimages=trainimages.reshape(-1,28,28,1)"
   ]
  },
  {
   "cell_type": "code",
   "execution_count": 6,
   "metadata": {},
   "outputs": [],
   "source": [
    "testdata = pd.read_csv('sign_mnist_test.csv')"
   ]
  },
  {
   "cell_type": "code",
   "execution_count": 7,
   "metadata": {},
   "outputs": [],
   "source": [
    "testlabel=testdata['label'].values"
   ]
  },
  {
   "cell_type": "code",
   "execution_count": 8,
   "metadata": {},
   "outputs": [],
   "source": [
    "testdata.drop('label',inplace=True,axis=1)\n",
    "testimages = testdata.values"
   ]
  },
  {
   "cell_type": "code",
   "execution_count": 9,
   "metadata": {},
   "outputs": [],
   "source": [
    "testimages=testimages.reshape(-1,28,28,1)"
   ]
  },
  {
   "cell_type": "code",
   "execution_count": 10,
   "metadata": {},
   "outputs": [],
   "source": [
    "from keras.preprocessing.image import ImageDataGenerator"
   ]
  },
  {
   "cell_type": "code",
   "execution_count": 11,
   "metadata": {},
   "outputs": [],
   "source": [
    "traingen=ImageDataGenerator(rotation_range=40,zoom_range=0.2,width_shift_range=0.2,height_shift_range=0.2,\n",
    "                  shear_range=0.2,horizontal_flip=True,rescale=1/255.0,validation_split=0.2)"
   ]
  },
  {
   "cell_type": "code",
   "execution_count": 12,
   "metadata": {},
   "outputs": [],
   "source": [
    "traindata_generator = traingen.flow(trainimages,trainlabel,subset='training')\n",
    "validationdata_generator = traingen.flow(trainimages,trainlabel,subset='validation')"
   ]
  },
  {
   "cell_type": "code",
   "execution_count": 13,
   "metadata": {},
   "outputs": [],
   "source": [
    "testgen=ImageDataGenerator(rescale=1/255.0)\n",
    "testdata_generator = testgen.flow(testimages,testlabel)"
   ]
  },
  {
   "cell_type": "code",
   "execution_count": 14,
   "metadata": {},
   "outputs": [],
   "source": [
    "model=Sequential([])\n",
    "\n",
    "model.add(Conv2D(64,(3,3),activation=\"relu\",input_shape=(28,28,1)))\n",
    "model.add(BatchNormalization())\n",
    "# model.add(Conv2D(64,(3,3),activation=\"relu\"))\n",
    "# model.add(BatchNormalization())\n",
    "model.add(MaxPooling2D(2,2))\n",
    "#model.add(Dropout(0.4))\n",
    "\n",
    "model.add(Conv2D(128,(3,3),activation=\"relu\"))\n",
    "model.add(BatchNormalization())\n",
    "# model.add(Conv2D(128,(3,3),activation=\"relu\"))\n",
    "# model.add(BatchNormalization())\n",
    "model.add(MaxPooling2D(2,2))\n",
    "#model.add(Dropout(0.4))\n",
    "\n",
    "model.add(Flatten())\n",
    "model.add(BatchNormalization())\n",
    "model.add(Dropout(0.4))\n",
    "model.add(Dense(256,activation=\"relu\"))\n",
    "model.add(BatchNormalization())\n",
    "model.add(Dropout(0.4))\n",
    "model.add(Dense(26,activation=\"softmax\"))\n",
    "\n"
   ]
  },
  {
   "cell_type": "code",
   "execution_count": 15,
   "metadata": {},
   "outputs": [],
   "source": [
    "model.compile(loss=\"sparse_categorical_crossentropy\",optimizer='adam',metrics=['accuracy'])"
   ]
  },
  {
   "cell_type": "code",
   "execution_count": 16,
   "metadata": {},
   "outputs": [
    {
     "name": "stdout",
     "output_type": "stream",
     "text": [
      "Model: \"sequential_1\"\n",
      "_________________________________________________________________\n",
      "Layer (type)                 Output Shape              Param #   \n",
      "=================================================================\n",
      "conv2d_1 (Conv2D)            (None, 26, 26, 64)        640       \n",
      "_________________________________________________________________\n",
      "batch_normalization_1 (Batch (None, 26, 26, 64)        256       \n",
      "_________________________________________________________________\n",
      "max_pooling2d_1 (MaxPooling2 (None, 13, 13, 64)        0         \n",
      "_________________________________________________________________\n",
      "conv2d_2 (Conv2D)            (None, 11, 11, 128)       73856     \n",
      "_________________________________________________________________\n",
      "batch_normalization_2 (Batch (None, 11, 11, 128)       512       \n",
      "_________________________________________________________________\n",
      "max_pooling2d_2 (MaxPooling2 (None, 5, 5, 128)         0         \n",
      "_________________________________________________________________\n",
      "flatten_1 (Flatten)          (None, 3200)              0         \n",
      "_________________________________________________________________\n",
      "batch_normalization_3 (Batch (None, 3200)              12800     \n",
      "_________________________________________________________________\n",
      "dropout_1 (Dropout)          (None, 3200)              0         \n",
      "_________________________________________________________________\n",
      "dense_1 (Dense)              (None, 256)               819456    \n",
      "_________________________________________________________________\n",
      "batch_normalization_4 (Batch (None, 256)               1024      \n",
      "_________________________________________________________________\n",
      "dropout_2 (Dropout)          (None, 256)               0         \n",
      "_________________________________________________________________\n",
      "dense_2 (Dense)              (None, 26)                6682      \n",
      "=================================================================\n",
      "Total params: 915,226\n",
      "Trainable params: 907,930\n",
      "Non-trainable params: 7,296\n",
      "_________________________________________________________________\n"
     ]
    }
   ],
   "source": [
    "model.summary()"
   ]
  },
  {
   "cell_type": "code",
   "execution_count": 17,
   "metadata": {},
   "outputs": [],
   "source": [
    "# Define a Callback class that stops training once accuracy reaches 97.0%\n",
    "class myCallback(Callback):\n",
    "  def on_epoch_end(self, epoch, logs={}):\n",
    "    if(logs.get('accuracy')>0.985):\n",
    "      print(\"\\nReached 98.5% accuracy so cancelling training!\")\n",
    "      self.model.stop_training = True\n",
    "callback=myCallback()"
   ]
  },
  {
   "cell_type": "code",
   "execution_count": 18,
   "metadata": {},
   "outputs": [
    {
     "name": "stdout",
     "output_type": "stream",
     "text": [
      "Epoch 1/60\n",
      "687/687 [==============================] - 11s 15ms/step - loss: 2.7611 - accuracy: 0.2189 - val_loss: 2.1016 - val_accuracy: 0.2892\n",
      "Epoch 2/60\n",
      "687/687 [==============================] - 8s 11ms/step - loss: 1.8588 - accuracy: 0.4048 - val_loss: 3.9209 - val_accuracy: 0.2187\n",
      "Epoch 3/60\n",
      "687/687 [==============================] - 8s 11ms/step - loss: 1.5395 - accuracy: 0.5031 - val_loss: 1.3936 - val_accuracy: 0.4161\n",
      "Epoch 4/60\n",
      "687/687 [==============================] - 8s 11ms/step - loss: 1.3530 - accuracy: 0.5578 - val_loss: 3.6822 - val_accuracy: 0.2672\n",
      "Epoch 5/60\n",
      "687/687 [==============================] - 8s 11ms/step - loss: 1.2335 - accuracy: 0.5927 - val_loss: 1.1159 - val_accuracy: 0.5624\n",
      "Epoch 6/60\n",
      "687/687 [==============================] - 8s 11ms/step - loss: 1.1525 - accuracy: 0.6126 - val_loss: 0.7213 - val_accuracy: 0.6573\n",
      "Epoch 7/60\n",
      "687/687 [==============================] - 8s 11ms/step - loss: 1.0875 - accuracy: 0.6387 - val_loss: 1.0366 - val_accuracy: 0.6882\n",
      "Epoch 8/60\n",
      "687/687 [==============================] - 8s 11ms/step - loss: 1.0319 - accuracy: 0.6553 - val_loss: 0.7138 - val_accuracy: 0.5791\n",
      "Epoch 9/60\n",
      "687/687 [==============================] - 8s 11ms/step - loss: 0.9994 - accuracy: 0.6614 - val_loss: 0.7090 - val_accuracy: 0.7321\n",
      "Epoch 10/60\n",
      "687/687 [==============================] - 8s 11ms/step - loss: 0.9426 - accuracy: 0.6839 - val_loss: 0.5563 - val_accuracy: 0.7299\n",
      "Epoch 11/60\n",
      "687/687 [==============================] - 8s 11ms/step - loss: 0.8999 - accuracy: 0.7009 - val_loss: 0.7855 - val_accuracy: 0.8031\n",
      "Epoch 12/60\n",
      "687/687 [==============================] - 8s 11ms/step - loss: 0.8778 - accuracy: 0.7045 - val_loss: 0.5931 - val_accuracy: 0.8015\n",
      "Epoch 13/60\n",
      "687/687 [==============================] - 8s 12ms/step - loss: 0.8621 - accuracy: 0.7062 - val_loss: 1.1190 - val_accuracy: 0.6309\n",
      "Epoch 14/60\n",
      "687/687 [==============================] - 8s 11ms/step - loss: 0.8222 - accuracy: 0.7225 - val_loss: 0.4336 - val_accuracy: 0.8232\n",
      "Epoch 15/60\n",
      "687/687 [==============================] - 8s 11ms/step - loss: 0.8034 - accuracy: 0.7279 - val_loss: 0.7906 - val_accuracy: 0.7170\n",
      "Epoch 16/60\n",
      "687/687 [==============================] - 8s 11ms/step - loss: 0.7968 - accuracy: 0.7252 - val_loss: 2.1209 - val_accuracy: 0.5620\n",
      "Epoch 17/60\n",
      "687/687 [==============================] - 8s 12ms/step - loss: 0.7780 - accuracy: 0.7339 - val_loss: 7.4614 - val_accuracy: 0.3628\n",
      "Epoch 18/60\n",
      "687/687 [==============================] - 8s 11ms/step - loss: 0.7702 - accuracy: 0.7389 - val_loss: 0.7053 - val_accuracy: 0.8379\n",
      "Epoch 19/60\n",
      "687/687 [==============================] - 8s 12ms/step - loss: 0.7356 - accuracy: 0.7524 - val_loss: 0.7330 - val_accuracy: 0.8246\n",
      "Epoch 20/60\n",
      "687/687 [==============================] - 8s 11ms/step - loss: 0.7105 - accuracy: 0.7570 - val_loss: 2.2690 - val_accuracy: 0.5635\n",
      "Epoch 21/60\n",
      "687/687 [==============================] - 8s 11ms/step - loss: 0.7281 - accuracy: 0.7531 - val_loss: 0.3966 - val_accuracy: 0.8601\n",
      "Epoch 22/60\n",
      "687/687 [==============================] - 8s 11ms/step - loss: 0.6864 - accuracy: 0.7688 - val_loss: 0.7963 - val_accuracy: 0.7629\n",
      "Epoch 23/60\n",
      "687/687 [==============================] - 8s 12ms/step - loss: 0.7032 - accuracy: 0.7627 - val_loss: 0.8333 - val_accuracy: 0.7907\n",
      "Epoch 24/60\n",
      "687/687 [==============================] - 9s 13ms/step - loss: 0.6809 - accuracy: 0.7695 - val_loss: 1.1064 - val_accuracy: 0.7991\n",
      "Epoch 25/60\n",
      "687/687 [==============================] - 8s 12ms/step - loss: 0.6647 - accuracy: 0.7724 - val_loss: 0.6906 - val_accuracy: 0.8000\n",
      "Epoch 26/60\n",
      "687/687 [==============================] - 8s 12ms/step - loss: 0.6558 - accuracy: 0.7806 - val_loss: 0.5191 - val_accuracy: 0.8727\n",
      "Epoch 27/60\n",
      "687/687 [==============================] - 8s 11ms/step - loss: 0.6505 - accuracy: 0.7803 - val_loss: 0.3785 - val_accuracy: 0.8359\n",
      "Epoch 28/60\n",
      "687/687 [==============================] - 8s 11ms/step - loss: 0.6219 - accuracy: 0.7883 - val_loss: 0.7182 - val_accuracy: 0.8530\n",
      "Epoch 29/60\n",
      "687/687 [==============================] - 8s 11ms/step - loss: 0.6184 - accuracy: 0.7877 - val_loss: 0.3361 - val_accuracy: 0.8729\n",
      "Epoch 30/60\n",
      "687/687 [==============================] - 8s 11ms/step - loss: 0.6075 - accuracy: 0.7896 - val_loss: 0.7198 - val_accuracy: 0.8137\n",
      "Epoch 31/60\n",
      "687/687 [==============================] - 8s 11ms/step - loss: 0.6144 - accuracy: 0.7943 - val_loss: 0.8211 - val_accuracy: 0.8621\n",
      "Epoch 32/60\n",
      "687/687 [==============================] - 8s 11ms/step - loss: 0.5997 - accuracy: 0.7973 - val_loss: 0.6944 - val_accuracy: 0.7714\n",
      "Epoch 33/60\n",
      "687/687 [==============================] - 8s 11ms/step - loss: 0.5918 - accuracy: 0.7974 - val_loss: 0.5532 - val_accuracy: 0.7966\n",
      "Epoch 34/60\n",
      "687/687 [==============================] - 8s 11ms/step - loss: 0.5759 - accuracy: 0.8050 - val_loss: 0.7305 - val_accuracy: 0.7092\n",
      "Epoch 35/60\n",
      "687/687 [==============================] - 8s 11ms/step - loss: 0.5772 - accuracy: 0.8042 - val_loss: 0.1561 - val_accuracy: 0.8543\n",
      "Epoch 36/60\n",
      "687/687 [==============================] - 9s 13ms/step - loss: 0.5555 - accuracy: 0.8093 - val_loss: 0.8404 - val_accuracy: 0.8873\n",
      "Epoch 37/60\n",
      "687/687 [==============================] - 8s 11ms/step - loss: 0.5496 - accuracy: 0.8100 - val_loss: 0.5766 - val_accuracy: 0.8951\n",
      "Epoch 38/60\n",
      "687/687 [==============================] - 8s 11ms/step - loss: 0.5475 - accuracy: 0.8125 - val_loss: 0.1310 - val_accuracy: 0.9062\n",
      "Epoch 39/60\n",
      "687/687 [==============================] - 8s 11ms/step - loss: 0.5414 - accuracy: 0.8140 - val_loss: 1.1012 - val_accuracy: 0.6103\n",
      "Epoch 40/60\n",
      "687/687 [==============================] - 8s 12ms/step - loss: 0.5373 - accuracy: 0.8172 - val_loss: 12.2427 - val_accuracy: 0.3222\n",
      "Epoch 41/60\n",
      "687/687 [==============================] - 8s 11ms/step - loss: 0.5373 - accuracy: 0.8182 - val_loss: 0.3839 - val_accuracy: 0.9108\n",
      "Epoch 42/60\n",
      "687/687 [==============================] - 8s 11ms/step - loss: 0.5329 - accuracy: 0.8175 - val_loss: 139.9429 - val_accuracy: 0.0980\n",
      "Epoch 43/60\n",
      "687/687 [==============================] - 8s 11ms/step - loss: 0.5248 - accuracy: 0.8192 - val_loss: 0.4976 - val_accuracy: 0.8920\n",
      "Epoch 44/60\n",
      "687/687 [==============================] - 8s 11ms/step - loss: 0.5152 - accuracy: 0.8243 - val_loss: 0.3461 - val_accuracy: 0.7722\n",
      "Epoch 45/60\n",
      "687/687 [==============================] - 8s 11ms/step - loss: 0.5127 - accuracy: 0.8251 - val_loss: 0.2018 - val_accuracy: 0.8956\n",
      "Epoch 46/60\n",
      "687/687 [==============================] - 8s 11ms/step - loss: 0.4938 - accuracy: 0.8304 - val_loss: 0.0724 - val_accuracy: 0.8871\n",
      "Epoch 47/60\n",
      "687/687 [==============================] - 8s 11ms/step - loss: 0.5089 - accuracy: 0.8245 - val_loss: 1.8456 - val_accuracy: 0.6445\n",
      "Epoch 48/60\n",
      "687/687 [==============================] - 8s 11ms/step - loss: 0.5070 - accuracy: 0.8242 - val_loss: 1.5664 - val_accuracy: 0.7459\n",
      "Epoch 49/60\n",
      "687/687 [==============================] - 8s 11ms/step - loss: 0.5068 - accuracy: 0.8272 - val_loss: 0.4201 - val_accuracy: 0.9237\n",
      "Epoch 50/60\n",
      "687/687 [==============================] - 8s 11ms/step - loss: 0.4946 - accuracy: 0.8299 - val_loss: 0.2111 - val_accuracy: 0.8787\n",
      "Epoch 51/60\n",
      "687/687 [==============================] - 8s 11ms/step - loss: 0.4817 - accuracy: 0.8365 - val_loss: 0.4673 - val_accuracy: 0.8813\n",
      "Epoch 52/60\n",
      "687/687 [==============================] - 8s 11ms/step - loss: 0.4839 - accuracy: 0.8361 - val_loss: 0.4269 - val_accuracy: 0.8019\n",
      "Epoch 53/60\n",
      "687/687 [==============================] - 8s 11ms/step - loss: 0.4786 - accuracy: 0.8389 - val_loss: 0.3983 - val_accuracy: 0.8661\n",
      "Epoch 54/60\n",
      "687/687 [==============================] - 8s 11ms/step - loss: 0.4725 - accuracy: 0.8383 - val_loss: 0.1884 - val_accuracy: 0.9157\n",
      "Epoch 55/60\n",
      "687/687 [==============================] - 8s 11ms/step - loss: 0.4769 - accuracy: 0.8364 - val_loss: 6.4566 - val_accuracy: 0.4353\n",
      "Epoch 56/60\n",
      "687/687 [==============================] - 8s 11ms/step - loss: 0.4894 - accuracy: 0.8366 - val_loss: 0.6556 - val_accuracy: 0.8000\n",
      "Epoch 57/60\n",
      "687/687 [==============================] - 8s 11ms/step - loss: 0.4666 - accuracy: 0.8425 - val_loss: 0.0987 - val_accuracy: 0.8417\n"
     ]
    },
    {
     "name": "stdout",
     "output_type": "stream",
     "text": [
      "Epoch 58/60\n",
      "687/687 [==============================] - 8s 11ms/step - loss: 0.4748 - accuracy: 0.8387 - val_loss: 0.4171 - val_accuracy: 0.7744\n",
      "Epoch 59/60\n",
      "687/687 [==============================] - 8s 11ms/step - loss: 0.4527 - accuracy: 0.8453 - val_loss: 0.4988 - val_accuracy: 0.8955\n",
      "Epoch 60/60\n",
      "687/687 [==============================] - 8s 11ms/step - loss: 0.4663 - accuracy: 0.8427 - val_loss: 0.5061 - val_accuracy: 0.8086\n"
     ]
    }
   ],
   "source": [
    "history=model.fit(traindata_generator,epochs=60,validation_data=validationdata_generator,callbacks=[callback])"
   ]
  },
  {
   "cell_type": "code",
   "execution_count": 19,
   "metadata": {},
   "outputs": [
    {
     "data": {
      "image/png": "[encoded data removed]",
      "text/plain": [
       "<Figure size 432x288 with 1 Axes>"
      ]
     },
     "metadata": {
      "needs_background": "light"
     },
     "output_type": "display_data"
    },
    {
     "data": {
      "image/png": "[encoded data removed]",
      "text/plain": [
       "<Figure size 432x288 with 1 Axes>"
      ]
     },
     "metadata": {
      "needs_background": "light"
     },
     "output_type": "display_data"
    }
   ],
   "source": [
    "acc = history.history['accuracy']\n",
    "val_acc = history.history['val_accuracy']\n",
    "loss = history.history['loss']\n",
    "val_loss = history.history['val_loss']\n",
    "\n",
    "epochs = range(len(acc))\n",
    "\n",
    "plt.plot(epochs, acc, 'r', label='Training accuracy')\n",
    "plt.plot(epochs, val_acc, 'b', label='Validation accuracy')\n",
    "plt.title('Training and validation accuracy')\n",
    "plt.legend()\n",
    "plt.figure()\n",
    "\n",
    "plt.plot(epochs, loss, 'r', label='Training Loss')\n",
    "plt.plot(epochs, val_loss, 'b', label='Validation Loss')\n",
    "plt.title('Training and validation loss')\n",
    "plt.legend()\n",
    "\n",
    "plt.show()"
   ]
  },
  {
   "cell_type": "code",
   "execution_count": 20,
   "metadata": {},
   "outputs": [
    {
     "name": "stdout",
     "output_type": "stream",
     "text": [
      "test accuracy: 91.98271036148071\n"
     ]
    }
   ],
   "source": [
    "print(\"test accuracy: \"+ str(model.evaluate_generator(testdata_generator)[1]*100))"
   ]
  },
  {
   "cell_type": "code",
   "execution_count": null,
   "metadata": {},
   "outputs": [],
   "source": []
  }
 ],
 "metadata": {
  "kernelspec": {
   "display_name": "Python 3",
   "language": "python",
   "name": "python3"
  },
  "language_info": {
   "codemirror_mode": {
    "name": "ipython",
    "version": 3
   },
   "file_extension": ".py",
   "mimetype": "text/x-python",
   "name": "python",
   "nbconvert_exporter": "python",
   "pygments_lexer": "ipython3",
   "version": "3.7.4"
  }
 },
 "nbformat": 4,
 "nbformat_minor": 2
}
