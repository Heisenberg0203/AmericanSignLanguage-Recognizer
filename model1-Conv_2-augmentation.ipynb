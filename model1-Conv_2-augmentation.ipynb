{
 "cells": [
  {
   "cell_type": "code",
   "execution_count": 1,
   "metadata": {},
   "outputs": [
    {
     "name": "stderr",
     "output_type": "stream",
     "text": [
      "Using TensorFlow backend.\n"
     ]
    }
   ],
   "source": [
    "import tensorflow as tf\n",
    "import keras\n",
    "from keras.callbacks import *\n",
    "import numpy as np\n",
    "import pandas as pd\n",
    "import matplotlib.pyplot as plt\n",
    "from keras.models import Sequential\n",
    "from keras.layers import *"
   ]
  },
  {
   "cell_type": "code",
   "execution_count": 2,
   "metadata": {},
   "outputs": [],
   "source": [
    "traindata = pd.read_csv('sign_mnist_train.csv')"
   ]
  },
  {
   "cell_type": "code",
   "execution_count": 3,
   "metadata": {},
   "outputs": [],
   "source": [
    "trainlabel=traindata['label'].values"
   ]
  },
  {
   "cell_type": "code",
   "execution_count": 4,
   "metadata": {},
   "outputs": [],
   "source": [
    "traindata.drop('label',inplace=True,axis=1)\n",
    "trainimages = traindata.values"
   ]
  },
  {
   "cell_type": "code",
   "execution_count": 5,
   "metadata": {},
   "outputs": [],
   "source": [
    "trainimages=trainimages.reshape(-1,28,28,1)"
   ]
  },
  {
   "cell_type": "code",
   "execution_count": 6,
   "metadata": {},
   "outputs": [],
   "source": [
    "testdata = pd.read_csv('sign_mnist_test.csv')"
   ]
  },
  {
   "cell_type": "code",
   "execution_count": 7,
   "metadata": {},
   "outputs": [],
   "source": [
    "testlabel=testdata['label'].values"
   ]
  },
  {
   "cell_type": "code",
   "execution_count": 8,
   "metadata": {},
   "outputs": [],
   "source": [
    "testdata.drop('label',inplace=True,axis=1)\n",
    "testimages = testdata.values"
   ]
  },
  {
   "cell_type": "code",
   "execution_count": 9,
   "metadata": {},
   "outputs": [],
   "source": [
    "testimages=testimages.reshape(-1,28,28,1)"
   ]
  },
  {
   "cell_type": "code",
   "execution_count": 10,
   "metadata": {},
   "outputs": [],
   "source": [
    "from keras.preprocessing.image import ImageDataGenerator\n",
    "traingen=ImageDataGenerator(rotation_range=40,zoom_range=0.2,width_shift_range=0.2,height_shift_range=0.2,\n",
    "                  shear_range=0.2,horizontal_flip=True,rescale=1/255.0,validation_split=0.2)\n",
    "traindata_generator = traingen.flow(trainimages,trainlabel,subset='training')\n",
    "validationdata_generator = traingen.flow(trainimages,trainlabel,subset='validation')\n",
    "testgen=ImageDataGenerator(rescale=1/255.0)\n",
    "testdata_generator = testgen.flow(testimages,testlabel)"
   ]
  },
  {
   "cell_type": "code",
   "execution_count": 17,
   "metadata": {},
   "outputs": [],
   "source": [
    "model=Sequential([])\n",
    "\n",
    "model.add(Conv2D(64,(3,3),activation=\"relu\",input_shape=(28,28,1)))\n",
    "#model.add(BatchNormalization())\n",
    "#model.add(Conv2D(64,(3,3),activation=\"relu\"))\n",
    "#model.add(BatchNormalization())\n",
    "model.add(MaxPooling2D(2,2))\n",
    "#model.add(Dropout(0.4))\n",
    "\n",
    "model.add(Conv2D(128,(3,3),activation=\"relu\"))\n",
    "#model.add(BatchNormalization())\n",
    "#model.add(Conv2D(128,(3,3),activation=\"relu\"))\n",
    "#model.add(BatchNormalization())\n",
    "model.add(MaxPooling2D(2,2))\n",
    "#model.add(Dropout(0.4))\n",
    "\n",
    "model.add(Flatten())\n",
    "#model.add(BatchNormalization())\n",
    "#model.add(Dropout(0.4))\n",
    "model.add(Dense(256,activation=\"relu\"))\n",
    "#model.add(BatchNormalization())\n",
    "#model.add(Dropout(0.4))\n",
    "model.add(Dense(26,activation=\"softmax\"))\n",
    "\n"
   ]
  },
  {
   "cell_type": "code",
   "execution_count": 18,
   "metadata": {},
   "outputs": [],
   "source": [
    "model.compile(loss=\"sparse_categorical_crossentropy\",optimizer='adam',metrics=['accuracy'])"
   ]
  },
  {
   "cell_type": "code",
   "execution_count": 19,
   "metadata": {},
   "outputs": [
    {
     "name": "stdout",
     "output_type": "stream",
     "text": [
      "Model: \"sequential_2\"\n",
      "_________________________________________________________________\n",
      "Layer (type)                 Output Shape              Param #   \n",
      "=================================================================\n",
      "conv2d_3 (Conv2D)            (None, 26, 26, 64)        640       \n",
      "_________________________________________________________________\n",
      "max_pooling2d_3 (MaxPooling2 (None, 13, 13, 64)        0         \n",
      "_________________________________________________________________\n",
      "conv2d_4 (Conv2D)            (None, 11, 11, 128)       73856     \n",
      "_________________________________________________________________\n",
      "max_pooling2d_4 (MaxPooling2 (None, 5, 5, 128)         0         \n",
      "_________________________________________________________________\n",
      "flatten_2 (Flatten)          (None, 3200)              0         \n",
      "_________________________________________________________________\n",
      "dense_3 (Dense)              (None, 256)               819456    \n",
      "_________________________________________________________________\n",
      "dense_4 (Dense)              (None, 26)                6682      \n",
      "=================================================================\n",
      "Total params: 900,634\n",
      "Trainable params: 900,634\n",
      "Non-trainable params: 0\n",
      "_________________________________________________________________\n"
     ]
    }
   ],
   "source": [
    "model.summary()"
   ]
  },
  {
   "cell_type": "code",
   "execution_count": 20,
   "metadata": {},
   "outputs": [],
   "source": [
    "# Define a Callback class that stops training once accuracy reaches 97.0%\n",
    "class myCallback(Callback):\n",
    "  def on_epoch_end(self, epoch, logs={}):\n",
    "    if(logs.get('accuracy')==1.0):\n",
    "      print(\"\\nReached 100.0% accuracy so cancelling training!\")\n",
    "      self.model.stop_training = True\n",
    "callback=myCallback()"
   ]
  },
  {
   "cell_type": "code",
   "execution_count": 21,
   "metadata": {},
   "outputs": [
    {
     "name": "stdout",
     "output_type": "stream",
     "text": [
      "Epoch 1/100\n",
      "687/687 [==============================] - 15s 21ms/step - loss: 2.8203 - accuracy: 0.1481 - val_loss: 2.6902 - val_accuracy: 0.2393\n",
      "Epoch 2/100\n",
      "687/687 [==============================] - 12s 18ms/step - loss: 2.0639 - accuracy: 0.3432 - val_loss: 2.0134 - val_accuracy: 0.4121\n",
      "Epoch 3/100\n",
      "687/687 [==============================] - 14s 20ms/step - loss: 1.6581 - accuracy: 0.4661 - val_loss: 1.6379 - val_accuracy: 0.4839\n",
      "Epoch 4/100\n",
      "687/687 [==============================] - 14s 20ms/step - loss: 1.4025 - accuracy: 0.5398 - val_loss: 1.1574 - val_accuracy: 0.5433\n",
      "Epoch 5/100\n",
      "687/687 [==============================] - 12s 18ms/step - loss: 1.2399 - accuracy: 0.5848 - val_loss: 1.4482 - val_accuracy: 0.6252\n",
      "Epoch 6/100\n",
      "687/687 [==============================] - 12s 17ms/step - loss: 1.1058 - accuracy: 0.6297 - val_loss: 1.0599 - val_accuracy: 0.6605\n",
      "Epoch 7/100\n",
      "687/687 [==============================] - 12s 18ms/step - loss: 0.9928 - accuracy: 0.6670 - val_loss: 0.6305 - val_accuracy: 0.6769\n",
      "Epoch 8/100\n",
      "687/687 [==============================] - 12s 17ms/step - loss: 0.9166 - accuracy: 0.6940 - val_loss: 1.4752 - val_accuracy: 0.6964\n",
      "Epoch 9/100\n",
      "687/687 [==============================] - 11s 17ms/step - loss: 0.8502 - accuracy: 0.7141 - val_loss: 0.3071 - val_accuracy: 0.7150\n",
      "Epoch 10/100\n",
      "687/687 [==============================] - 12s 17ms/step - loss: 0.8066 - accuracy: 0.7296 - val_loss: 0.8637 - val_accuracy: 0.7449\n",
      "Epoch 11/100\n",
      "687/687 [==============================] - 11s 16ms/step - loss: 0.7560 - accuracy: 0.7471 - val_loss: 0.6834 - val_accuracy: 0.7414\n",
      "Epoch 12/100\n",
      "687/687 [==============================] - 11s 16ms/step - loss: 0.7135 - accuracy: 0.7581 - val_loss: 0.8581 - val_accuracy: 0.7547\n",
      "Epoch 13/100\n",
      "687/687 [==============================] - 6s 9ms/step - loss: 0.6791 - accuracy: 0.7714 - val_loss: 0.7711 - val_accuracy: 0.7733\n",
      "Epoch 14/100\n",
      "687/687 [==============================] - 6s 8ms/step - loss: 0.6561 - accuracy: 0.7783 - val_loss: 0.9678 - val_accuracy: 0.7880\n",
      "Epoch 15/100\n",
      "687/687 [==============================] - 6s 9ms/step - loss: 0.6280 - accuracy: 0.7914 - val_loss: 0.3078 - val_accuracy: 0.8095\n",
      "Epoch 16/100\n",
      "687/687 [==============================] - 6s 9ms/step - loss: 0.5911 - accuracy: 0.7992 - val_loss: 0.2524 - val_accuracy: 0.7993\n",
      "Epoch 17/100\n",
      "687/687 [==============================] - 6s 8ms/step - loss: 0.5796 - accuracy: 0.8060 - val_loss: 0.6851 - val_accuracy: 0.7911\n",
      "Epoch 18/100\n",
      "687/687 [==============================] - 7s 10ms/step - loss: 0.5477 - accuracy: 0.8154 - val_loss: 0.5206 - val_accuracy: 0.8153\n",
      "Epoch 19/100\n",
      "687/687 [==============================] - 6s 9ms/step - loss: 0.5360 - accuracy: 0.8198 - val_loss: 0.8582 - val_accuracy: 0.8244\n",
      "Epoch 20/100\n",
      "687/687 [==============================] - 6s 8ms/step - loss: 0.5238 - accuracy: 0.8258 - val_loss: 0.8036 - val_accuracy: 0.8226\n",
      "Epoch 21/100\n",
      "687/687 [==============================] - 6s 9ms/step - loss: 0.5034 - accuracy: 0.8329 - val_loss: 0.4245 - val_accuracy: 0.8286\n",
      "Epoch 22/100\n",
      "687/687 [==============================] - 6s 8ms/step - loss: 0.4912 - accuracy: 0.8347 - val_loss: 0.1997 - val_accuracy: 0.8268\n",
      "Epoch 23/100\n",
      "687/687 [==============================] - 6s 8ms/step - loss: 0.4661 - accuracy: 0.8434 - val_loss: 0.4057 - val_accuracy: 0.8115\n",
      "Epoch 24/100\n",
      "687/687 [==============================] - 6s 9ms/step - loss: 0.4764 - accuracy: 0.8395 - val_loss: 0.6361 - val_accuracy: 0.8401\n",
      "Epoch 25/100\n",
      "687/687 [==============================] - 6s 9ms/step - loss: 0.4435 - accuracy: 0.8488 - val_loss: 0.3529 - val_accuracy: 0.8392\n",
      "Epoch 26/100\n",
      "687/687 [==============================] - 6s 8ms/step - loss: 0.4368 - accuracy: 0.8551 - val_loss: 0.2097 - val_accuracy: 0.8570\n",
      "Epoch 27/100\n",
      "687/687 [==============================] - 6s 9ms/step - loss: 0.4266 - accuracy: 0.8569 - val_loss: 0.5684 - val_accuracy: 0.8416\n",
      "Epoch 28/100\n",
      "687/687 [==============================] - 6s 9ms/step - loss: 0.4111 - accuracy: 0.8634 - val_loss: 0.3523 - val_accuracy: 0.8470\n",
      "Epoch 29/100\n",
      "687/687 [==============================] - 6s 8ms/step - loss: 0.4014 - accuracy: 0.8645 - val_loss: 0.3901 - val_accuracy: 0.8476\n",
      "Epoch 30/100\n",
      "687/687 [==============================] - 6s 9ms/step - loss: 0.3978 - accuracy: 0.8678 - val_loss: 0.4284 - val_accuracy: 0.8592\n",
      "Epoch 31/100\n",
      "687/687 [==============================] - 6s 9ms/step - loss: 0.3932 - accuracy: 0.8690 - val_loss: 0.4327 - val_accuracy: 0.8641\n",
      "Epoch 32/100\n",
      "687/687 [==============================] - 6s 8ms/step - loss: 0.3858 - accuracy: 0.8693 - val_loss: 0.2077 - val_accuracy: 0.8712\n",
      "Epoch 33/100\n",
      "687/687 [==============================] - 6s 9ms/step - loss: 0.3651 - accuracy: 0.8789 - val_loss: 0.4191 - val_accuracy: 0.8610\n",
      "Epoch 34/100\n",
      "687/687 [==============================] - 6s 8ms/step - loss: 0.3846 - accuracy: 0.8753 - val_loss: 0.5893 - val_accuracy: 0.8769\n",
      "Epoch 35/100\n",
      "687/687 [==============================] - 6s 8ms/step - loss: 0.3622 - accuracy: 0.8797 - val_loss: 0.5140 - val_accuracy: 0.8858\n",
      "Epoch 36/100\n",
      "687/687 [==============================] - 6s 9ms/step - loss: 0.3532 - accuracy: 0.8851 - val_loss: 0.3674 - val_accuracy: 0.8845\n",
      "Epoch 37/100\n",
      "687/687 [==============================] - 6s 9ms/step - loss: 0.3434 - accuracy: 0.8862 - val_loss: 0.4036 - val_accuracy: 0.8825\n",
      "Epoch 38/100\n",
      "687/687 [==============================] - 6s 9ms/step - loss: 0.3450 - accuracy: 0.8858 - val_loss: 0.1984 - val_accuracy: 0.8887\n",
      "Epoch 39/100\n",
      "687/687 [==============================] - 7s 10ms/step - loss: 0.3345 - accuracy: 0.8898 - val_loss: 0.5806 - val_accuracy: 0.8875\n",
      "Epoch 40/100\n",
      "687/687 [==============================] - 6s 9ms/step - loss: 0.3326 - accuracy: 0.8879 - val_loss: 0.1381 - val_accuracy: 0.8887\n",
      "Epoch 41/100\n",
      "687/687 [==============================] - 6s 9ms/step - loss: 0.3239 - accuracy: 0.8915 - val_loss: 0.8071 - val_accuracy: 0.8867\n",
      "Epoch 42/100\n",
      "687/687 [==============================] - 7s 10ms/step - loss: 0.3233 - accuracy: 0.8897 - val_loss: 0.2287 - val_accuracy: 0.8889\n",
      "Epoch 43/100\n",
      "687/687 [==============================] - 6s 9ms/step - loss: 0.3251 - accuracy: 0.8931 - val_loss: 0.5043 - val_accuracy: 0.8734\n",
      "Epoch 44/100\n",
      "687/687 [==============================] - 6s 9ms/step - loss: 0.3101 - accuracy: 0.8945 - val_loss: 0.1586 - val_accuracy: 0.8951\n",
      "Epoch 45/100\n",
      "687/687 [==============================] - 7s 10ms/step - loss: 0.3044 - accuracy: 0.8973 - val_loss: 0.2097 - val_accuracy: 0.8864\n",
      "Epoch 46/100\n",
      "687/687 [==============================] - 6s 9ms/step - loss: 0.3039 - accuracy: 0.9008 - val_loss: 0.3694 - val_accuracy: 0.8802\n",
      "Epoch 47/100\n",
      "687/687 [==============================] - 6s 9ms/step - loss: 0.3029 - accuracy: 0.8988 - val_loss: 1.1037 - val_accuracy: 0.8947\n",
      "Epoch 48/100\n",
      "687/687 [==============================] - 7s 10ms/step - loss: 0.3001 - accuracy: 0.8999 - val_loss: 0.2608 - val_accuracy: 0.9027\n",
      "Epoch 49/100\n",
      "687/687 [==============================] - 6s 9ms/step - loss: 0.2829 - accuracy: 0.9053 - val_loss: 0.3793 - val_accuracy: 0.8971\n",
      "Epoch 50/100\n",
      "687/687 [==============================] - 6s 9ms/step - loss: 0.2830 - accuracy: 0.9026 - val_loss: 0.0145 - val_accuracy: 0.9119\n",
      "Epoch 51/100\n",
      "687/687 [==============================] - 6s 9ms/step - loss: 0.2730 - accuracy: 0.9110 - val_loss: 0.4597 - val_accuracy: 0.8989\n",
      "Epoch 52/100\n",
      "687/687 [==============================] - 6s 9ms/step - loss: 0.2769 - accuracy: 0.9090 - val_loss: 0.4335 - val_accuracy: 0.8929\n",
      "Epoch 53/100\n",
      "687/687 [==============================] - 6s 9ms/step - loss: 0.2775 - accuracy: 0.9069 - val_loss: 0.2531 - val_accuracy: 0.9006\n",
      "Epoch 54/100\n",
      "687/687 [==============================] - 7s 10ms/step - loss: 0.2616 - accuracy: 0.9134 - val_loss: 0.1173 - val_accuracy: 0.9082\n",
      "Epoch 55/100\n",
      "687/687 [==============================] - 6s 9ms/step - loss: 0.2736 - accuracy: 0.9121 - val_loss: 0.1505 - val_accuracy: 0.9086\n",
      "Epoch 56/100\n",
      "687/687 [==============================] - 6s 9ms/step - loss: 0.2596 - accuracy: 0.9137 - val_loss: 0.1506 - val_accuracy: 0.9060\n",
      "Epoch 57/100\n",
      "687/687 [==============================] - 7s 10ms/step - loss: 0.2596 - accuracy: 0.9125 - val_loss: 0.2479 - val_accuracy: 0.9122\n"
     ]
    },
    {
     "name": "stdout",
     "output_type": "stream",
     "text": [
      "Epoch 58/100\n",
      "687/687 [==============================] - 6s 9ms/step - loss: 0.2567 - accuracy: 0.9150 - val_loss: 0.8120 - val_accuracy: 0.9069\n",
      "Epoch 59/100\n",
      "687/687 [==============================] - 6s 9ms/step - loss: 0.2569 - accuracy: 0.9147 - val_loss: 0.4585 - val_accuracy: 0.9226\n",
      "Epoch 60/100\n",
      "687/687 [==============================] - 7s 10ms/step - loss: 0.2537 - accuracy: 0.9156 - val_loss: 0.2882 - val_accuracy: 0.9066\n",
      "Epoch 61/100\n",
      "687/687 [==============================] - 6s 9ms/step - loss: 0.2457 - accuracy: 0.9180 - val_loss: 0.3181 - val_accuracy: 0.9126\n",
      "Epoch 62/100\n",
      "687/687 [==============================] - 6s 9ms/step - loss: 0.2535 - accuracy: 0.9155 - val_loss: 0.3568 - val_accuracy: 0.9173\n",
      "Epoch 63/100\n",
      "687/687 [==============================] - 7s 10ms/step - loss: 0.2364 - accuracy: 0.9228 - val_loss: 0.1075 - val_accuracy: 0.9144\n",
      "Epoch 64/100\n",
      "687/687 [==============================] - 6s 9ms/step - loss: 0.2468 - accuracy: 0.9184 - val_loss: 0.1441 - val_accuracy: 0.9142\n",
      "Epoch 65/100\n",
      "687/687 [==============================] - 6s 9ms/step - loss: 0.2447 - accuracy: 0.9179 - val_loss: 0.1503 - val_accuracy: 0.9221\n",
      "Epoch 66/100\n",
      "687/687 [==============================] - 6s 9ms/step - loss: 0.2410 - accuracy: 0.9188 - val_loss: 0.6092 - val_accuracy: 0.9228\n",
      "Epoch 67/100\n",
      "687/687 [==============================] - 6s 9ms/step - loss: 0.2377 - accuracy: 0.9212 - val_loss: 0.0569 - val_accuracy: 0.9277\n",
      "Epoch 68/100\n",
      "687/687 [==============================] - 6s 9ms/step - loss: 0.2370 - accuracy: 0.9207 - val_loss: 0.5905 - val_accuracy: 0.9191\n",
      "Epoch 69/100\n",
      "687/687 [==============================] - 7s 10ms/step - loss: 0.2360 - accuracy: 0.9230 - val_loss: 0.1564 - val_accuracy: 0.9299\n",
      "Epoch 70/100\n",
      "687/687 [==============================] - 6s 9ms/step - loss: 0.2269 - accuracy: 0.9236 - val_loss: 0.1517 - val_accuracy: 0.9239\n",
      "Epoch 71/100\n",
      "687/687 [==============================] - 6s 9ms/step - loss: 0.2299 - accuracy: 0.9221 - val_loss: 0.2163 - val_accuracy: 0.9011\n",
      "Epoch 72/100\n",
      "687/687 [==============================] - 7s 10ms/step - loss: 0.2189 - accuracy: 0.9271 - val_loss: 0.3074 - val_accuracy: 0.9339\n",
      "Epoch 73/100\n",
      "687/687 [==============================] - 6s 9ms/step - loss: 0.2230 - accuracy: 0.9255 - val_loss: 0.2405 - val_accuracy: 0.9241\n",
      "Epoch 74/100\n",
      "687/687 [==============================] - 6s 9ms/step - loss: 0.2216 - accuracy: 0.9268 - val_loss: 0.1007 - val_accuracy: 0.9084\n",
      "Epoch 75/100\n",
      "687/687 [==============================] - 6s 9ms/step - loss: 0.2285 - accuracy: 0.9244 - val_loss: 0.1650 - val_accuracy: 0.9259\n",
      "Epoch 76/100\n",
      "687/687 [==============================] - 6s 9ms/step - loss: 0.2101 - accuracy: 0.9296 - val_loss: 0.0346 - val_accuracy: 0.9080\n",
      "Epoch 77/100\n",
      "687/687 [==============================] - 6s 9ms/step - loss: 0.2225 - accuracy: 0.9256 - val_loss: 0.1613 - val_accuracy: 0.9206\n",
      "Epoch 78/100\n",
      "687/687 [==============================] - 7s 10ms/step - loss: 0.2231 - accuracy: 0.9271 - val_loss: 0.2769 - val_accuracy: 0.9095\n",
      "Epoch 79/100\n",
      "687/687 [==============================] - 6s 9ms/step - loss: 0.2119 - accuracy: 0.9287 - val_loss: 0.0702 - val_accuracy: 0.9308\n",
      "Epoch 80/100\n",
      "687/687 [==============================] - 6s 9ms/step - loss: 0.2086 - accuracy: 0.9306 - val_loss: 0.2310 - val_accuracy: 0.9226\n",
      "Epoch 81/100\n",
      "687/687 [==============================] - 6s 9ms/step - loss: 0.2051 - accuracy: 0.9318 - val_loss: 0.2837 - val_accuracy: 0.9173\n",
      "Epoch 82/100\n",
      "687/687 [==============================] - 6s 9ms/step - loss: 0.2069 - accuracy: 0.9327 - val_loss: 0.1087 - val_accuracy: 0.9188\n",
      "Epoch 83/100\n",
      "687/687 [==============================] - 6s 9ms/step - loss: 0.2157 - accuracy: 0.9300 - val_loss: 0.6061 - val_accuracy: 0.9252\n",
      "Epoch 84/100\n",
      "687/687 [==============================] - 7s 10ms/step - loss: 0.2072 - accuracy: 0.9313 - val_loss: 0.1231 - val_accuracy: 0.9372\n",
      "Epoch 85/100\n",
      "687/687 [==============================] - 6s 9ms/step - loss: 0.2083 - accuracy: 0.9325 - val_loss: 0.0680 - val_accuracy: 0.9374\n",
      "Epoch 86/100\n",
      "687/687 [==============================] - 6s 9ms/step - loss: 0.2058 - accuracy: 0.9329 - val_loss: 0.3360 - val_accuracy: 0.9343\n",
      "Epoch 87/100\n",
      "687/687 [==============================] - 7s 10ms/step - loss: 0.1967 - accuracy: 0.9345 - val_loss: 0.2262 - val_accuracy: 0.9270\n",
      "Epoch 88/100\n",
      "687/687 [==============================] - 6s 9ms/step - loss: 0.1971 - accuracy: 0.9345 - val_loss: 0.2255 - val_accuracy: 0.9364\n",
      "Epoch 89/100\n",
      "687/687 [==============================] - 6s 9ms/step - loss: 0.2022 - accuracy: 0.9334 - val_loss: 0.0163 - val_accuracy: 0.9286\n",
      "Epoch 90/100\n",
      "687/687 [==============================] - 7s 9ms/step - loss: 0.1885 - accuracy: 0.9363 - val_loss: 0.0178 - val_accuracy: 0.9266\n",
      "Epoch 91/100\n",
      "687/687 [==============================] - 6s 9ms/step - loss: 0.2003 - accuracy: 0.9334 - val_loss: 0.2445 - val_accuracy: 0.9388\n",
      "Epoch 92/100\n",
      "687/687 [==============================] - 6s 9ms/step - loss: 0.1998 - accuracy: 0.9342 - val_loss: 0.1642 - val_accuracy: 0.9397\n",
      "Epoch 93/100\n",
      "687/687 [==============================] - 6s 9ms/step - loss: 0.1944 - accuracy: 0.9350 - val_loss: 0.0489 - val_accuracy: 0.9328\n",
      "Epoch 94/100\n",
      "687/687 [==============================] - 6s 9ms/step - loss: 0.1862 - accuracy: 0.9389 - val_loss: 0.2038 - val_accuracy: 0.9357\n",
      "Epoch 95/100\n",
      "687/687 [==============================] - 6s 9ms/step - loss: 0.1894 - accuracy: 0.9364 - val_loss: 0.0521 - val_accuracy: 0.9370\n",
      "Epoch 96/100\n",
      "687/687 [==============================] - 7s 10ms/step - loss: 0.1914 - accuracy: 0.9347 - val_loss: 0.1027 - val_accuracy: 0.9353\n",
      "Epoch 97/100\n",
      "687/687 [==============================] - 6s 9ms/step - loss: 0.1873 - accuracy: 0.9383 - val_loss: 0.0917 - val_accuracy: 0.9319\n",
      "Epoch 98/100\n",
      "687/687 [==============================] - 6s 9ms/step - loss: 0.1783 - accuracy: 0.9417 - val_loss: 0.1135 - val_accuracy: 0.9395\n",
      "Epoch 99/100\n",
      "687/687 [==============================] - 7s 10ms/step - loss: 0.1800 - accuracy: 0.9384 - val_loss: 0.0202 - val_accuracy: 0.9359\n",
      "Epoch 100/100\n",
      "687/687 [==============================] - 6s 9ms/step - loss: 0.1931 - accuracy: 0.9359 - val_loss: 0.0635 - val_accuracy: 0.9428\n"
     ]
    }
   ],
   "source": [
    "history=model.fit(traindata_generator,epochs=100,validation_data=validationdata_generator,callbacks=[callback])"
   ]
  },
  {
   "cell_type": "code",
   "execution_count": 24,
   "metadata": {},
   "outputs": [
    {
     "data": {
      "text/plain": [
       "0.9797824621200562"
      ]
     },
     "execution_count": 24,
     "metadata": {},
     "output_type": "execute_result"
    }
   ],
   "source": [
    "model.evaluate_generator(testdata_generator)[1]"
   ]
  },
  {
   "cell_type": "code",
   "execution_count": 25,
   "metadata": {},
   "outputs": [
    {
     "data": {
      "image/png": "[encoded data removed]",
      "text/plain": [
       "<Figure size 432x288 with 1 Axes>"
      ]
     },
     "metadata": {
      "needs_background": "light"
     },
     "output_type": "display_data"
    },
    {
     "data": {
      "image/png": "[encoded data removed]",
      "text/plain": [
       "<Figure size 432x288 with 1 Axes>"
      ]
     },
     "metadata": {
      "needs_background": "light"
     },
     "output_type": "display_data"
    }
   ],
   "source": [
    "acc = history.history['accuracy']\n",
    "val_acc = history.history['val_accuracy']\n",
    "loss = history.history['loss']\n",
    "val_loss = history.history['val_loss']\n",
    "\n",
    "epochs = range(len(acc))\n",
    "\n",
    "plt.plot(epochs, acc, 'r', label='Training accuracy')\n",
    "plt.plot(epochs, val_acc, 'b', label='Validation accuracy')\n",
    "plt.title('Training and validation accuracy')\n",
    "plt.legend()\n",
    "plt.figure()\n",
    "\n",
    "plt.plot(epochs, loss, 'r', label='Training Loss')\n",
    "plt.plot(epochs, val_loss, 'b', label='Validation Loss')\n",
    "plt.title('Training and validation loss')\n",
    "plt.legend()\n",
    "\n",
    "plt.show()"
   ]
  },
  {
   "cell_type": "code",
   "execution_count": null,
   "metadata": {},
   "outputs": [],
   "source": []
  }
 ],
 "metadata": {
  "kernelspec": {
   "display_name": "Python 3",
   "language": "python",
   "name": "python3"
  },
  "language_info": {
   "codemirror_mode": {
    "name": "ipython",
    "version": 3
   },
   "file_extension": ".py",
   "mimetype": "text/x-python",
   "name": "python",
   "nbconvert_exporter": "python",
   "pygments_lexer": "ipython3",
   "version": "3.7.4"
  }
 },
 "nbformat": 4,
 "nbformat_minor": 2
}
